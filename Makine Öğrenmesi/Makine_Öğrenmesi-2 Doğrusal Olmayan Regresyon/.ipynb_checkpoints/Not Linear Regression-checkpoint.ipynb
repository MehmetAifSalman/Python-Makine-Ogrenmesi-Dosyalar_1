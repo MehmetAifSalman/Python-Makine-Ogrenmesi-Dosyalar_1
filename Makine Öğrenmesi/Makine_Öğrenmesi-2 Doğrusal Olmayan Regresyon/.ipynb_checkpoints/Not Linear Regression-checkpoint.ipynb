{
 "cells": [
  {
   "cell_type": "code",
   "execution_count": 1,
   "id": "6d9d487c",
   "metadata": {},
   "outputs": [],
   "source": [
    "import numpy as np\n",
    "import pandas as pd \n",
    "from sklearn.model_selection import train_test_split, GridSearchCV,cross_val_score\n",
    "from sklearn.metrics import mean_squared_error, r2_score\n",
    "import matplotlib.pyplot as plt\n",
    "from sklearn.preprocessing import scale \n",
    "from sklearn import model_selection\n",
    "from sklearn.tree import DecisionTreeRegressor, DecisionTreeClassifier\n",
    "from sklearn.neighbors import KNeighborsRegressor\n",
    "from sklearn.ensemble import BaggingRegressor\n",
    "\n",
    "from warnings import filterwarnings\n",
    "filterwarnings('ignore')"
   ]
  },
  {
   "cell_type": "code",
   "execution_count": 2,
   "id": "d4b111bc",
   "metadata": {},
   "outputs": [],
   "source": [
    "hit = pd.read_csv(\"Hitters.csv\")\n",
    "df = hit.copy()\n",
    "df = df.dropna()\n",
    "dms = pd.get_dummies(df[['League', 'Division', 'NewLeague']])\n",
    "y = df[\"Salary\"]\n",
    "X_ = df.drop(['Salary', 'League', 'Division', 'NewLeague'], axis=1).astype('float64')\n",
    "X = pd.concat([X_, dms[['League_N', 'Division_W', 'NewLeague_N']]], axis=1)\n",
    "X_train, X_test, y_train, y_test = train_test_split(X, y, \n",
    "                                                    test_size=0.25, \n",
    "                                                    random_state=42)"
   ]
  },
  {
   "cell_type": "code",
   "execution_count": 3,
   "id": "40556d6d",
   "metadata": {},
   "outputs": [],
   "source": [
    "knn_model = KNeighborsRegressor().fit(X_train,y_train)"
   ]
  },
  {
   "cell_type": "code",
   "execution_count": 4,
   "id": "48aae98e",
   "metadata": {},
   "outputs": [
    {
     "data": {
      "text/plain": [
       "5"
      ]
     },
     "execution_count": 4,
     "metadata": {},
     "output_type": "execute_result"
    }
   ],
   "source": [
    "knn_model.n_neighbors"
   ]
  },
  {
   "cell_type": "code",
   "execution_count": 5,
   "id": "75dc1366",
   "metadata": {},
   "outputs": [],
   "source": [
    "y_pred=knn_model.predict(X_test)"
   ]
  },
  {
   "cell_type": "code",
   "execution_count": 6,
   "id": "715e13e3",
   "metadata": {},
   "outputs": [
    {
     "data": {
      "text/plain": [
       "426.6570764525201"
      ]
     },
     "execution_count": 6,
     "metadata": {},
     "output_type": "execute_result"
    }
   ],
   "source": [
    "np.sqrt(mean_squared_error(y_test,y_pred))"
   ]
  },
  {
   "cell_type": "code",
   "execution_count": 7,
   "id": "a06086bb",
   "metadata": {},
   "outputs": [
    {
     "name": "stdout",
     "output_type": "stream",
     "text": [
      "k = 1 için RMSE değeri:  0.0\n",
      "k = 2 için RMSE değeri:  179.52761335480352\n",
      "k = 3 için RMSE değeri:  205.20157172291863\n",
      "k = 4 için RMSE değeri:  220.5139794876305\n",
      "k = 5 için RMSE değeri:  239.6467132541376\n",
      "k = 6 için RMSE değeri:  243.5904190007242\n",
      "k = 7 için RMSE değeri:  258.1478781634636\n",
      "k = 8 için RMSE değeri:  266.05374203349805\n",
      "k = 9 için RMSE değeri:  269.73782093553376\n",
      "k = 10 için RMSE değeri:  271.2798300436963\n"
     ]
    }
   ],
   "source": [
    "RMSE = [] \n",
    "\n",
    "for k in range(10):\n",
    "    k = k+1\n",
    "    knn_model = KNeighborsRegressor(n_neighbors = k).fit(X_train, y_train)\n",
    "    y_pred = knn_model.predict(X_train) \n",
    "    rmse = np.sqrt(mean_squared_error(y_train,y_pred)) \n",
    "    RMSE.append(rmse) \n",
    "    print(\"k =\" , k , \"için RMSE değeri: \", rmse)\n"
   ]
  },
  {
   "cell_type": "code",
   "execution_count": 8,
   "id": "201863b0",
   "metadata": {},
   "outputs": [],
   "source": [
    "knn_params = {\"n_neighbors\" : np.arange(1,30,1)}"
   ]
  },
  {
   "cell_type": "code",
   "execution_count": 9,
   "id": "9370cbb3",
   "metadata": {},
   "outputs": [],
   "source": [
    "knn = KNeighborsRegressor()"
   ]
  },
  {
   "cell_type": "code",
   "execution_count": 10,
   "id": "3fba893c",
   "metadata": {},
   "outputs": [],
   "source": [
    "knn_cv_model = GridSearchCV(knn,knn_params,cv=10)"
   ]
  },
  {
   "cell_type": "code",
   "execution_count": 11,
   "id": "94938cca",
   "metadata": {},
   "outputs": [
    {
     "data": {
      "text/plain": [
       "GridSearchCV(cv=10, estimator=KNeighborsRegressor(),\n",
       "             param_grid={'n_neighbors': array([ 1,  2,  3,  4,  5,  6,  7,  8,  9, 10, 11, 12, 13, 14, 15, 16, 17,\n",
       "       18, 19, 20, 21, 22, 23, 24, 25, 26, 27, 28, 29])})"
      ]
     },
     "execution_count": 11,
     "metadata": {},
     "output_type": "execute_result"
    }
   ],
   "source": [
    "knn_cv_model.fit(X_train,y_train)"
   ]
  },
  {
   "cell_type": "code",
   "execution_count": 12,
   "id": "507fe3fa",
   "metadata": {},
   "outputs": [
    {
     "data": {
      "text/plain": [
       "{'n_neighbors': 8}"
      ]
     },
     "execution_count": 12,
     "metadata": {},
     "output_type": "execute_result"
    }
   ],
   "source": [
    "knn_cv_model.best_params_"
   ]
  },
  {
   "cell_type": "code",
   "execution_count": 13,
   "id": "45acf5be",
   "metadata": {},
   "outputs": [],
   "source": [
    "knn_tuned = KNeighborsRegressor(8)"
   ]
  },
  {
   "cell_type": "code",
   "execution_count": 14,
   "id": "cfad5e8f",
   "metadata": {},
   "outputs": [
    {
     "data": {
      "text/plain": [
       "KNeighborsRegressor(n_neighbors=8)"
      ]
     },
     "execution_count": 14,
     "metadata": {},
     "output_type": "execute_result"
    }
   ],
   "source": [
    "knn_tuned.fit(X_train,y_train)"
   ]
  },
  {
   "cell_type": "code",
   "execution_count": 15,
   "id": "88a3d44a",
   "metadata": {},
   "outputs": [
    {
     "data": {
      "text/plain": [
       "array([  95.9375  ,  751.875   ,  771.25    ,  310.9375  ,  691.666625,\n",
       "       1038.95825 ,  134.0625  ,   92.1875  ,  750.041625,  825.25    ,\n",
       "       1306.52975 ,  258.9375  , 1032.5     ,  752.5     ,  838.541625,\n",
       "        688.75    ,  918.75    ,   79.4375  ,  188.625   ,  342.5     ,\n",
       "        491.25    ,  981.25    ,  512.1875  ,  427.395875,   79.75    ,\n",
       "        881.770875,  593.4375  ,  485.416625,   89.125   ,  510.729125,\n",
       "         77.875   ,  612.708375, 1204.58325 ,   80.6875  ,  565.833375,\n",
       "        102.1875  ,  266.583375,  835.25    ,  100.9375  ,   79.4375  ,\n",
       "         79.4375  ,  495.3125  ,  219.895875,  298.125   ,  310.9375  ,\n",
       "        921.875   ,  173.6875  ,  233.9375  ,  621.25    ,  520.625   ,\n",
       "        444.375   ,  231.0625  ,  393.4375  ,  201.25    , 1035.20825 ,\n",
       "        140.5625  ,  538.125   ,  730.9375  ,  223.75    , 1373.196375,\n",
       "        756.5     ,  272.833375,  574.791625,  437.395875,  141.8125  ,\n",
       "        145.8125  ,   90.625   ,  586.5625  ,  176.145875,  310.3125  ,\n",
       "        310.9375  ,  981.25    ,  573.645875,  893.4375  ,  987.291625,\n",
       "        813.75    ,  169.3125  ,  435.      ,  482.8125  ,  822.125   ,\n",
       "        397.8125  ,  431.25    ,  840.625   ,  815.625   ,  169.208375,\n",
       "        756.25    ,  595.625   ,  881.770875,  874.375   ,  617.1875  ,\n",
       "        177.4375  ,  251.6875  , 1204.58325 ,   90.625   ,  429.270875,\n",
       "        968.75    ,  822.125   ,  671.666625,  787.5     ,  884.375   ,\n",
       "        390.3125  ,  216.520875,  816.354125,  630.520875,  173.6875  ,\n",
       "        968.75    ,  853.125   ,  122.4375  ,  256.5625  ,  725.      ,\n",
       "        393.4375  ,  737.291625,  548.333375,  700.833375,  516.25    ,\n",
       "        213.875   ,  768.4375  ,  850.      ,  176.5625  ,  520.625   ,\n",
       "        795.25    ,  688.333375,  821.25    ,  208.75    ,   86.625   ,\n",
       "        241.875   ,  630.520875,   90.      ,  156.1875  ,  393.4375  ,\n",
       "        710.      ,  652.1875  , 1249.758875,  822.125   , 1044.58325 ,\n",
       "        494.270875,  832.8125  ,  567.5     ,  236.5625  ,  822.125   ,\n",
       "        103.4375  ,  115.5625  ,  699.583375,  470.3125  ,  236.270875,\n",
       "        559.375   ,  738.333375,  394.6875  ,  573.4375  ,  732.916625,\n",
       "        115.5625  ,  115.3125  ,   87.8125  ,  124.      ,  145.8125  ,\n",
       "        304.0625  ,  632.083375,   90.625   ,  740.3125  ,  678.125   ,\n",
       "        644.375   ,  533.4375  ,  981.25    ,  240.333375,  700.833375,\n",
       "        893.4375  ,  342.5     ,  270.645875,  453.4375  ,  751.25    ,\n",
       "        642.5     ,   90.625   ,  521.458375,  962.5     ,  183.645875,\n",
       "        242.520875,  383.75    ,  576.875   ,  632.083375, 1170.20825 ,\n",
       "        364.375   ,  706.25    ,  182.395875,  628.958375,  567.5     ,\n",
       "        968.75    ,  603.333375,  169.3125  ,  105.3125  ,  272.833375,\n",
       "        170.1875  , 1023.125   ,  688.333375,  657.395875,  173.6875  ,\n",
       "        706.25    ,  122.8125  ])"
      ]
     },
     "execution_count": 15,
     "metadata": {},
     "output_type": "execute_result"
    }
   ],
   "source": [
    "knn_tuned.predict(X_train)"
   ]
  },
  {
   "cell_type": "code",
   "execution_count": 16,
   "id": "5c2facdb",
   "metadata": {},
   "outputs": [],
   "source": [
    "hit = pd.read_csv(\"Hitters.csv\")\n",
    "df = hit.copy()\n",
    "df = df.dropna()\n",
    "dms = pd.get_dummies(df[['League', 'Division', 'NewLeague']])\n",
    "y = df[\"Salary\"]\n",
    "X_ = df.drop(['Salary', 'League', 'Division', 'NewLeague'], axis=1).astype('float64')\n",
    "X = pd.concat([X_, dms[['League_N', 'Division_W', 'NewLeague_N']]], axis=1)\n",
    "X_train, X_test, y_train, y_test = train_test_split(X, y, \n",
    "                                                    test_size=0.25, \n",
    "                                                    random_state=42)"
   ]
  },
  {
   "cell_type": "code",
   "execution_count": 17,
   "id": "9c58e124",
   "metadata": {},
   "outputs": [],
   "source": [
    "X_train = pd.DataFrame(X_train[\"Hits\"])\n",
    "X_test = pd.DataFrame(X_test[\"Hits\"])"
   ]
  },
  {
   "cell_type": "code",
   "execution_count": 18,
   "id": "7575a688",
   "metadata": {},
   "outputs": [],
   "source": [
    "from sklearn.svm import SVR"
   ]
  },
  {
   "cell_type": "code",
   "execution_count": 19,
   "id": "cfe0e5dd",
   "metadata": {},
   "outputs": [],
   "source": [
    "svr_model = SVR(kernel=\"linear\").fit(X_train, y_train)"
   ]
  },
  {
   "cell_type": "code",
   "execution_count": 20,
   "id": "4437d99d",
   "metadata": {},
   "outputs": [],
   "source": [
    "y_pred = svr_model.predict(X_train)"
   ]
  },
  {
   "cell_type": "code",
   "execution_count": 21,
   "id": "4cda51cc",
   "metadata": {},
   "outputs": [
    {
     "data": {
      "image/png": "[encoded data removed]",
      "text/plain": [
       "<Figure size 432x288 with 1 Axes>"
      ]
     },
     "metadata": {
      "needs_background": "light"
     },
     "output_type": "display_data"
    }
   ],
   "source": [
    "plt.scatter(X_train,y_train)\n",
    "plt.plot(np.array(X_train), y_pred, color =\"r\");"
   ]
  },
  {
   "cell_type": "code",
   "execution_count": 22,
   "id": "676ef1dd",
   "metadata": {},
   "outputs": [
    {
     "data": {
      "text/plain": [
       "array([403.52804878])"
      ]
     },
     "execution_count": 22,
     "metadata": {},
     "output_type": "execute_result"
    }
   ],
   "source": [
    "svr_model.predict([[91]])"
   ]
  },
  {
   "cell_type": "code",
   "execution_count": 23,
   "id": "42577ed0",
   "metadata": {},
   "outputs": [],
   "source": [
    "y_pred = svr_model.predict(X_test)"
   ]
  },
  {
   "cell_type": "code",
   "execution_count": 24,
   "id": "329b9e88",
   "metadata": {},
   "outputs": [
    {
     "data": {
      "text/plain": [
       "459.0187960365147"
      ]
     },
     "execution_count": 24,
     "metadata": {},
     "output_type": "execute_result"
    }
   ],
   "source": [
    "np.sqrt(mean_squared_error(y_test,y_pred))"
   ]
  },
  {
   "cell_type": "code",
   "execution_count": 25,
   "id": "d017b67b",
   "metadata": {},
   "outputs": [
    {
     "data": {
      "text/plain": [
       "SVR(kernel='linear')"
      ]
     },
     "execution_count": 25,
     "metadata": {},
     "output_type": "execute_result"
    }
   ],
   "source": [
    "svr_model"
   ]
  },
  {
   "cell_type": "code",
   "execution_count": 26,
   "id": "0932301e",
   "metadata": {},
   "outputs": [],
   "source": [
    " svr_params = {\"C\" : np.arange(0.1,2,0.1)}"
   ]
  },
  {
   "cell_type": "code",
   "execution_count": 27,
   "id": "dd2cebc2",
   "metadata": {},
   "outputs": [],
   "source": [
    "svr_cv_model = GridSearchCV(svr_model,svr_params,cv = 10).fit(X_train,y_train)"
   ]
  },
  {
   "cell_type": "code",
   "execution_count": 28,
   "id": "7cde0c55",
   "metadata": {},
   "outputs": [
    {
     "data": {
      "text/plain": [
       "0.1"
      ]
     },
     "execution_count": 28,
     "metadata": {},
     "output_type": "execute_result"
    }
   ],
   "source": [
    "pd.Series(svr_cv_model.best_params_)[0]"
   ]
  },
  {
   "cell_type": "code",
   "execution_count": 29,
   "id": "180e206d",
   "metadata": {},
   "outputs": [],
   "source": [
    "svr_tuned = SVR(kernel=\"linear\",C = pd.Series(svr_cv_model.best_params_)[0]).fit(X_train,y_train)"
   ]
  },
  {
   "cell_type": "code",
   "execution_count": 30,
   "id": "59af3673",
   "metadata": {},
   "outputs": [],
   "source": [
    "y_pred=svr_tuned.predict(X_test)"
   ]
  },
  {
   "cell_type": "code",
   "execution_count": 31,
   "id": "8670214a",
   "metadata": {},
   "outputs": [
    {
     "data": {
      "text/plain": [
       "458.198966781116"
      ]
     },
     "execution_count": 31,
     "metadata": {},
     "output_type": "execute_result"
    }
   ],
   "source": [
    "np.sqrt(mean_squared_error(y_test,y_pred))"
   ]
  },
  {
   "cell_type": "code",
   "execution_count": 32,
   "id": "fcca08be",
   "metadata": {},
   "outputs": [],
   "source": [
    "hit = pd.read_csv(\"Hitters.csv\")\n",
    "df = hit.copy()\n",
    "df = df.dropna()\n",
    "dms = pd.get_dummies(df[['League', 'Division', 'NewLeague']])\n",
    "y = df[\"Salary\"]\n",
    "X_ = df.drop(['Salary', 'League', 'Division', 'NewLeague'], axis=1).astype('float64')\n",
    "X = pd.concat([X_, dms[['League_N', 'Division_W', 'NewLeague_N']]], axis=1)\n",
    "X_train, X_test, y_train, y_test = train_test_split(X, y, \n",
    "                                                    test_size=0.25, \n",
    "                                                    random_state=42)"
   ]
  },
  {
   "cell_type": "code",
   "execution_count": 33,
   "id": "dd8df16d",
   "metadata": {},
   "outputs": [],
   "source": [
    "svr_rbf = SVR(kernel=\"rbf\",gamma=\"auto\").fit(X_train,y_train)"
   ]
  },
  {
   "cell_type": "code",
   "execution_count": 34,
   "id": "f3fe0bbc",
   "metadata": {},
   "outputs": [],
   "source": [
    "y_pred = svr_rbf.predict(X_test)"
   ]
  },
  {
   "cell_type": "code",
   "execution_count": 35,
   "id": "4f7ceb4c",
   "metadata": {},
   "outputs": [
    {
     "data": {
      "text/plain": [
       "473.4445984431814"
      ]
     },
     "execution_count": 35,
     "metadata": {},
     "output_type": "execute_result"
    }
   ],
   "source": [
    "np.sqrt(mean_squared_error(y_test,y_pred))"
   ]
  },
  {
   "cell_type": "code",
   "execution_count": 36,
   "id": "8ba26d4b",
   "metadata": {},
   "outputs": [
    {
     "data": {
      "text/plain": [
       "SVR(gamma='auto')"
      ]
     },
     "execution_count": 36,
     "metadata": {},
     "output_type": "execute_result"
    }
   ],
   "source": [
    "svr_rbf"
   ]
  },
  {
   "cell_type": "code",
   "execution_count": 37,
   "id": "769bbc50",
   "metadata": {},
   "outputs": [
    {
     "data": {
      "text/plain": [
       "GridSearchCV(cv=10, estimator=SVR(gamma='auto'),\n",
       "             param_grid={'C': [0.1, 0.4, 5, 10, 20, 50]})"
      ]
     },
     "execution_count": 37,
     "metadata": {},
     "output_type": "execute_result"
    }
   ],
   "source": [
    "svr_params = {\"C\" : [0.1,0.4,5,10,20,50]}\n",
    "svr_cv_model = GridSearchCV(svr_rbf,svr_params,cv = 10)\n",
    "svr_cv_model.fit(X_train,y_train)"
   ]
  },
  {
   "cell_type": "code",
   "execution_count": 38,
   "id": "bf852cf5",
   "metadata": {},
   "outputs": [
    {
     "data": {
      "text/plain": [
       "20"
      ]
     },
     "execution_count": 38,
     "metadata": {},
     "output_type": "execute_result"
    }
   ],
   "source": [
    "pd.Series(svr_cv_model.best_params_)[0]"
   ]
  },
  {
   "cell_type": "code",
   "execution_count": 39,
   "id": "6e19e7a4",
   "metadata": {},
   "outputs": [],
   "source": [
    "svr_tuned = SVR(kernel=\"rbf\",gamma=\"auto\",C=20).fit(X_train,y_train)"
   ]
  },
  {
   "cell_type": "code",
   "execution_count": 40,
   "id": "bfb52511",
   "metadata": {},
   "outputs": [],
   "source": [
    "y_pred = svr_tuned.predict(X_test)"
   ]
  },
  {
   "cell_type": "code",
   "execution_count": 41,
   "id": "49773eee",
   "metadata": {},
   "outputs": [
    {
     "data": {
      "text/plain": [
       "472.20974524750574"
      ]
     },
     "execution_count": 41,
     "metadata": {},
     "output_type": "execute_result"
    }
   ],
   "source": [
    "np.sqrt(mean_squared_error(y_test,y_pred))"
   ]
  },
  {
   "cell_type": "code",
   "execution_count": 42,
   "id": "3fd47d03",
   "metadata": {},
   "outputs": [],
   "source": [
    "hit = pd.read_csv(\"Hitters.csv\")\n",
    "df = hit.copy()\n",
    "df = df.dropna()\n",
    "dms = pd.get_dummies(df[['League', 'Division', 'NewLeague']])\n",
    "y = df[\"Salary\"]\n",
    "X_ = df.drop(['Salary', 'League', 'Division', 'NewLeague'], axis=1).astype('float64')\n",
    "X = pd.concat([X_, dms[['League_N', 'Division_W', 'NewLeague_N']]], axis=1)\n",
    "X_train, X_test, y_train, y_test = train_test_split(X, y, \n",
    "                                                    test_size=0.25, \n",
    "                                                    random_state=42)"
   ]
  },
  {
   "cell_type": "code",
   "execution_count": 43,
   "id": "065e47f2",
   "metadata": {},
   "outputs": [],
   "source": [
    "from sklearn.preprocessing import StandardScaler"
   ]
  },
  {
   "cell_type": "code",
   "execution_count": 46,
   "id": "0cb7b7f7",
   "metadata": {},
   "outputs": [
    {
     "data": {
      "text/plain": [
       "StandardScaler()"
      ]
     },
     "execution_count": 46,
     "metadata": {},
     "output_type": "execute_result"
    }
   ],
   "source": [
    "scaler = StandardScaler()\n",
    "scaler.fit(X_train)"
   ]
  },
  {
   "cell_type": "code",
   "execution_count": 47,
   "id": "3d484682",
   "metadata": {},
   "outputs": [],
   "source": [
    "X_train_scaled = scaler.transform(X_train)"
   ]
  },
  {
   "cell_type": "code",
   "execution_count": 48,
   "id": "83e8f37e",
   "metadata": {},
   "outputs": [],
   "source": [
    "X_test_scaled = scaler.transform(X_test)"
   ]
  },
  {
   "cell_type": "code",
   "execution_count": 49,
   "id": "a0affb60",
   "metadata": {},
   "outputs": [],
   "source": [
    "from sklearn.neural_network import MLPRegressor"
   ]
  },
  {
   "cell_type": "code",
   "execution_count": 88,
   "id": "0bc43819",
   "metadata": {},
   "outputs": [],
   "source": [
    "mlp_model = MLPRegressor(hidden_layer_sizes=(100,20)).fit(X_train_scaled,y_train)"
   ]
  },
  {
   "cell_type": "code",
   "execution_count": 89,
   "id": "6cdbec27",
   "metadata": {},
   "outputs": [
    {
     "data": {
      "text/plain": [
       "4"
      ]
     },
     "execution_count": 89,
     "metadata": {},
     "output_type": "execute_result"
    }
   ],
   "source": [
    "mlp_model.n_layers_"
   ]
  },
  {
   "cell_type": "code",
   "execution_count": 90,
   "id": "dd939fb4",
   "metadata": {},
   "outputs": [
    {
     "data": {
      "text/plain": [
       "(100, 20)"
      ]
     },
     "execution_count": 90,
     "metadata": {},
     "output_type": "execute_result"
    }
   ],
   "source": [
    "mlp_model.hidden_layer_sizes"
   ]
  },
  {
   "cell_type": "code",
   "execution_count": 91,
   "id": "a4f8c342",
   "metadata": {},
   "outputs": [],
   "source": [
    "y_pred=mlp_model.predict(X_test_scaled)"
   ]
  },
  {
   "cell_type": "code",
   "execution_count": null,
   "id": "0e3906e9",
   "metadata": {},
   "outputs": [],
   "source": []
  },
  {
   "cell_type": "code",
   "execution_count": 92,
   "id": "ea85ed94",
   "metadata": {},
   "outputs": [
    {
     "data": {
      "text/plain": [
       "479.1341782756776"
      ]
     },
     "execution_count": 92,
     "metadata": {},
     "output_type": "execute_result"
    }
   ],
   "source": [
    "np.sqrt(mean_squared_error(y_test,y_pred))"
   ]
  },
  {
   "cell_type": "code",
   "execution_count": 96,
   "id": "896f87d6",
   "metadata": {},
   "outputs": [],
   "source": [
    "mlp_params = {\"alpha\":[0.1,0.01,0.02,0.005],\n",
    "             \"hidden_layer_sizes\" : [(20,20),(100,50,150),(300,200,150)],\n",
    "             \"activation\":[\"relu\",\"logistic\"]}"
   ]
  },
  {
   "cell_type": "code",
   "execution_count": 97,
   "id": "93b859b3",
   "metadata": {},
   "outputs": [],
   "source": [
    "mlp_cv_model = GridSearchCV(mlp_model,mlp_params,cv=10)"
   ]
  },
  {
   "cell_type": "code",
   "execution_count": 98,
   "id": "ce785e4c",
   "metadata": {},
   "outputs": [
    {
     "data": {
      "text/plain": [
       "GridSearchCV(cv=10, estimator=MLPRegressor(hidden_layer_sizes=(100, 20)),\n",
       "             param_grid={'activation': ['relu', 'logistic'],\n",
       "                         'alpha': [0.1, 0.01, 0.02, 0.005],\n",
       "                         'hidden_layer_sizes': [(20, 20), (100, 50, 150),\n",
       "                                                (300, 200, 150)]})"
      ]
     },
     "execution_count": 98,
     "metadata": {},
     "output_type": "execute_result"
    }
   ],
   "source": [
    "mlp_cv_model.fit(X_train_scaled,y_train)"
   ]
  },
  {
   "cell_type": "code",
   "execution_count": 99,
   "id": "9b13cc67",
   "metadata": {},
   "outputs": [
    {
     "data": {
      "text/plain": [
       "{'activation': 'relu', 'alpha': 0.01, 'hidden_layer_sizes': (100, 50, 150)}"
      ]
     },
     "execution_count": 99,
     "metadata": {},
     "output_type": "execute_result"
    }
   ],
   "source": [
    "mlp_cv_model.best_params_"
   ]
  },
  {
   "cell_type": "code",
   "execution_count": 100,
   "id": "e8b91430",
   "metadata": {},
   "outputs": [],
   "source": [
    "mlp_tuned = MLPRegressor(hidden_layer_sizes=(100,50,150),alpha=0.02,)"
   ]
  },
  {
   "cell_type": "code",
   "execution_count": 101,
   "id": "82af9b74",
   "metadata": {},
   "outputs": [
    {
     "data": {
      "text/plain": [
       "MLPRegressor(alpha=0.02, hidden_layer_sizes=(100, 50, 150))"
      ]
     },
     "execution_count": 101,
     "metadata": {},
     "output_type": "execute_result"
    }
   ],
   "source": [
    "mlp_tuned.fit(X_train_scaled,y_train)"
   ]
  },
  {
   "cell_type": "code",
   "execution_count": 102,
   "id": "7daf67f7",
   "metadata": {},
   "outputs": [],
   "source": [
    "y_pred = mlp_tuned.predict(X_test_scaled)"
   ]
  },
  {
   "cell_type": "code",
   "execution_count": 104,
   "id": "a772e267",
   "metadata": {},
   "outputs": [
    {
     "data": {
      "text/plain": [
       "359.2178735760773"
      ]
     },
     "execution_count": 104,
     "metadata": {},
     "output_type": "execute_result"
    }
   ],
   "source": [
    "np.sqrt(mean_squared_error(y_test,y_pred))"
   ]
  },
  {
   "cell_type": "code",
   "execution_count": 184,
   "id": "b3ebfa3b",
   "metadata": {},
   "outputs": [],
   "source": [
    "hit = pd.read_csv(\"Hitters.csv\")\n",
    "df = hit.copy()\n",
    "df = df.dropna()\n",
    "dms = pd.get_dummies(df[['League', 'Division', 'NewLeague']])\n",
    "y = df[\"Salary\"]\n",
    "X_ = df.drop(['Salary', 'League', 'Division', 'NewLeague'], axis=1).astype('float64')\n",
    "X = pd.concat([X_, dms[['League_N', 'Division_W', 'NewLeague_N']]], axis=1)\n",
    "X_train, X_test, y_train, y_test = train_test_split(X, y, \n",
    "                                                    test_size=0.25, \n",
    "                                                    random_state=42)"
   ]
  },
  {
   "cell_type": "code",
   "execution_count": 106,
   "id": "c37ff976",
   "metadata": {},
   "outputs": [],
   "source": [
    "X_train = pd.DataFrame(X_train[\"Hits\"])"
   ]
  },
  {
   "cell_type": "code",
   "execution_count": 107,
   "id": "98d30591",
   "metadata": {},
   "outputs": [],
   "source": [
    "X_test = pd.DataFrame(X_test[\"Hits\"])"
   ]
  },
  {
   "cell_type": "code",
   "execution_count": 118,
   "id": "5e5d786e",
   "metadata": {},
   "outputs": [],
   "source": [
    "cart_model = DecisionTreeRegressor(max_leaf_nodes=10)"
   ]
  },
  {
   "cell_type": "code",
   "execution_count": 119,
   "id": "1e4fa895",
   "metadata": {},
   "outputs": [
    {
     "data": {
      "text/plain": [
       "DecisionTreeRegressor(max_leaf_nodes=10)"
      ]
     },
     "execution_count": 119,
     "metadata": {},
     "output_type": "execute_result"
    }
   ],
   "source": [
    "cart_model"
   ]
  },
  {
   "cell_type": "code",
   "execution_count": 120,
   "id": "712f94ae",
   "metadata": {},
   "outputs": [
    {
     "data": {
      "text/plain": [
       "DecisionTreeRegressor(max_leaf_nodes=10)"
      ]
     },
     "execution_count": 120,
     "metadata": {},
     "output_type": "execute_result"
    }
   ],
   "source": [
    "cart_model.fit(X_train,y_train)"
   ]
  },
  {
   "cell_type": "code",
   "execution_count": 121,
   "id": "642d3d18",
   "metadata": {},
   "outputs": [
    {
     "data": {
      "image/png": "[encoded data removed]",
      "text/plain": [
       "<Figure size 432x288 with 1 Axes>"
      ]
     },
     "metadata": {
      "needs_background": "light"
     },
     "output_type": "display_data"
    }
   ],
   "source": [
    "X_grid = np.arange(min(np.array(X_train)),max(np.array(X_train)), 0.01) \n",
    "X_grid = X_grid.reshape((len(X_grid), 1))  \n",
    "plt.scatter(X_train, y_train, color = 'red') \n",
    "plt.plot(X_grid, cart_model.predict(X_grid), color = 'blue')  \n",
    "plt.title('CART REGRESON AĞACI')  \n",
    "plt.xlabel('Atış Sayısı(Hits)') \n",
    "plt.ylabel('Maaş (Salary)') ;"
   ]
  },
  {
   "cell_type": "code",
   "execution_count": 127,
   "id": "1af358ea",
   "metadata": {},
   "outputs": [
    {
     "name": "stdout",
     "output_type": "stream",
     "text": [
      "Requirement already satisfied: SKompiler[full] in c:\\users\\sl\\anaconda3\\lib\\site-packages (0.7)\n",
      "Requirement already satisfied: scikit-learn>=0.22 in c:\\users\\sl\\anaconda3\\lib\\site-packages (from SKompiler[full]) (1.0.2)\n",
      "Requirement already satisfied: sqlalchemy in c:\\users\\sl\\anaconda3\\lib\\site-packages (from SKompiler[full]) (1.4.32)\n",
      "Collecting astor>=0.6\n",
      "  Downloading astor-0.8.1-py2.py3-none-any.whl (27 kB)\n",
      "Requirement already satisfied: sympy in c:\\users\\sl\\anaconda3\\lib\\site-packages (from SKompiler[full]) (1.10.1)\n",
      "Requirement already satisfied: threadpoolctl>=2.0.0 in c:\\users\\sl\\anaconda3\\lib\\site-packages (from scikit-learn>=0.22->SKompiler[full]) (2.2.0)\n",
      "Requirement already satisfied: numpy>=1.14.6 in c:\\users\\sl\\anaconda3\\lib\\site-packages (from scikit-learn>=0.22->SKompiler[full]) (1.21.5)\n",
      "Requirement already satisfied: scipy>=1.1.0 in c:\\users\\sl\\anaconda3\\lib\\site-packages (from scikit-learn>=0.22->SKompiler[full]) (1.7.3)\n",
      "Requirement already satisfied: joblib>=0.11 in c:\\users\\sl\\anaconda3\\lib\\site-packages (from scikit-learn>=0.22->SKompiler[full]) (1.1.0)\n",
      "Requirement already satisfied: greenlet!=0.4.17 in c:\\users\\sl\\anaconda3\\lib\\site-packages (from sqlalchemy->SKompiler[full]) (1.1.1)\n",
      "Requirement already satisfied: mpmath>=0.19 in c:\\users\\sl\\anaconda3\\lib\\site-packages (from sympy->SKompiler[full]) (1.2.1)\n",
      "Installing collected packages: astor\n",
      "Successfully installed astor-0.8.1\n",
      "Note: you may need to restart the kernel to use updated packages.\n"
     ]
    }
   ],
   "source": [
    "pip install SKompiler[full]"
   ]
  },
  {
   "cell_type": "code",
   "execution_count": 128,
   "id": "10a78fec",
   "metadata": {},
   "outputs": [],
   "source": [
    "from skompiler import skompile"
   ]
  },
  {
   "cell_type": "code",
   "execution_count": 129,
   "id": "b2819f29",
   "metadata": {},
   "outputs": [
    {
     "name": "stdout",
     "output_type": "stream",
     "text": [
      "(345.2011551724138 if x[0] <= 117.5 else ((((1300.0 if x[0] <= 118.5 else \n",
      "    641.0) if x[0] <= 122.5 else 1468.5236666666667) if x[0] <= 125.5 else \n",
      "    621.9679230769232) if x[0] <= 143.0 else (958.6111111111111 if x[0] <= \n",
      "    150.5 else 2460.0) if x[0] <= 151.5 else 499.1666666666667 if x[0] <= \n",
      "    157.5 else 892.5402413793104) if x[0] <= 225.5 else 1975.0)\n",
      "\n"
     ]
    }
   ],
   "source": [
    "print(skompile(cart_model.predict).to('python/code'))"
   ]
  },
  {
   "cell_type": "code",
   "execution_count": 140,
   "id": "770cd63b",
   "metadata": {},
   "outputs": [
    {
     "data": {
      "text/plain": [
       "{'ccp_alpha': 0.0,\n",
       " 'criterion': 'squared_error',\n",
       " 'max_depth': None,\n",
       " 'max_features': None,\n",
       " 'max_leaf_nodes': 10,\n",
       " 'min_impurity_decrease': 0.0,\n",
       " 'min_samples_leaf': 1,\n",
       " 'min_samples_split': 2,\n",
       " 'min_weight_fraction_leaf': 0.0,\n",
       " 'random_state': None,\n",
       " 'splitter': 'best'}"
      ]
     },
     "execution_count": 140,
     "metadata": {},
     "output_type": "execute_result"
    }
   ],
   "source": [
    "cart_model.get_params()"
   ]
  },
  {
   "cell_type": "code",
   "execution_count": 143,
   "id": "0792678b",
   "metadata": {},
   "outputs": [],
   "source": [
    "x = [91]"
   ]
  },
  {
   "cell_type": "code",
   "execution_count": 144,
   "id": "000e948b",
   "metadata": {},
   "outputs": [
    {
     "data": {
      "text/plain": [
       "345.2011551724138"
      ]
     },
     "execution_count": 144,
     "metadata": {},
     "output_type": "execute_result"
    }
   ],
   "source": [
    "(345.2011551724138 if x[0] <= 117.5 else ((((1300.0 if x[0] <= 118.5 else \n",
    "    641.0) if x[0] <= 122.5 else 1468.5236666666667) if x[0] <= 125.5 else \n",
    "    621.9679230769232) if x[0] <= 143.0 else (958.6111111111111 if x[0] <= \n",
    "    150.5 else 2460.0) if x[0] <= 151.5 else 499.1666666666667 if x[0] <= \n",
    "    157.5 else 892.5402413793104) if x[0] <= 225.5 else 1975.0)"
   ]
  },
  {
   "cell_type": "code",
   "execution_count": 145,
   "id": "58c038d9",
   "metadata": {},
   "outputs": [
    {
     "data": {
      "text/plain": [
       "array([621.96792308, 958.61111111, 621.96792308, 345.20115517,\n",
       "       345.20115517])"
      ]
     },
     "execution_count": 145,
     "metadata": {},
     "output_type": "execute_result"
    }
   ],
   "source": [
    "cart_model.predict(X_test)"
   ]
  },
  {
   "cell_type": "code",
   "execution_count": 146,
   "id": "d77a29cf",
   "metadata": {},
   "outputs": [
    {
     "data": {
      "text/plain": [
       "array([345.20115517])"
      ]
     },
     "execution_count": 146,
     "metadata": {},
     "output_type": "execute_result"
    }
   ],
   "source": [
    "cart_model.predict([[91]])"
   ]
  },
  {
   "cell_type": "code",
   "execution_count": 147,
   "id": "bb2da195",
   "metadata": {},
   "outputs": [],
   "source": [
    "y_pred = cart_model.predict(X_test)"
   ]
  },
  {
   "cell_type": "code",
   "execution_count": 148,
   "id": "da10dbe1",
   "metadata": {},
   "outputs": [
    {
     "data": {
      "text/plain": [
       "486.34593105235456"
      ]
     },
     "execution_count": 148,
     "metadata": {},
     "output_type": "execute_result"
    }
   ],
   "source": [
    "np.sqrt(mean_squared_error(y_test,y_pred))"
   ]
  },
  {
   "cell_type": "code",
   "execution_count": 192,
   "id": "bc2232a9",
   "metadata": {},
   "outputs": [
    {
     "data": {
      "text/plain": [
       "523.9972220340572"
      ]
     },
     "execution_count": 192,
     "metadata": {},
     "output_type": "execute_result"
    }
   ],
   "source": [
    "cart_model = DecisionTreeRegressor()\n",
    "cart_model.fit(X_train,y_train)\n",
    "y_pred = cart_model.predict(X_test)\n",
    "np.sqrt(mean_squared_error(y_test,y_pred))"
   ]
  },
  {
   "cell_type": "code",
   "execution_count": 193,
   "id": "62ceb73a",
   "metadata": {},
   "outputs": [],
   "source": [
    "cart_params = {\"min_samples_split\": range(2,100),\n",
    "              \"max_leaf_nodes\":range(2,)}\n"
   ]
  },
  {
   "cell_type": "code",
   "execution_count": 194,
   "id": "0ef71d53",
   "metadata": {},
   "outputs": [],
   "source": [
    "cart_cv_model =GridSearchCV(cart_model,cart_params,cv=10)"
   ]
  },
  {
   "cell_type": "code",
   "execution_count": 195,
   "id": "6fb5a476",
   "metadata": {
    "scrolled": true
   },
   "outputs": [
    {
     "ename": "KeyboardInterrupt",
     "evalue": "",
     "output_type": "error",
     "traceback": [
      "\u001b[1;31m---------------------------------------------------------------------------\u001b[0m",
      "\u001b[1;31mKeyboardInterrupt\u001b[0m                         Traceback (most recent call last)",
      "Input \u001b[1;32mIn [195]\u001b[0m, in \u001b[0;36m<cell line: 1>\u001b[1;34m()\u001b[0m\n\u001b[1;32m----> 1\u001b[0m \u001b[43mcart_cv_model\u001b[49m\u001b[38;5;241;43m.\u001b[39;49m\u001b[43mfit\u001b[49m\u001b[43m(\u001b[49m\u001b[43mX_train\u001b[49m\u001b[43m,\u001b[49m\u001b[43my_train\u001b[49m\u001b[43m)\u001b[49m\n",
      "File \u001b[1;32m~\\anaconda3\\lib\\site-packages\\sklearn\\model_selection\\_search.py:891\u001b[0m, in \u001b[0;36mBaseSearchCV.fit\u001b[1;34m(self, X, y, groups, **fit_params)\u001b[0m\n\u001b[0;32m    885\u001b[0m     results \u001b[38;5;241m=\u001b[39m \u001b[38;5;28mself\u001b[39m\u001b[38;5;241m.\u001b[39m_format_results(\n\u001b[0;32m    886\u001b[0m         all_candidate_params, n_splits, all_out, all_more_results\n\u001b[0;32m    887\u001b[0m     )\n\u001b[0;32m    889\u001b[0m     \u001b[38;5;28;01mreturn\u001b[39;00m results\n\u001b[1;32m--> 891\u001b[0m \u001b[38;5;28;43mself\u001b[39;49m\u001b[38;5;241;43m.\u001b[39;49m\u001b[43m_run_search\u001b[49m\u001b[43m(\u001b[49m\u001b[43mevaluate_candidates\u001b[49m\u001b[43m)\u001b[49m\n\u001b[0;32m    893\u001b[0m \u001b[38;5;66;03m# multimetric is determined here because in the case of a callable\u001b[39;00m\n\u001b[0;32m    894\u001b[0m \u001b[38;5;66;03m# self.scoring the return type is only known after calling\u001b[39;00m\n\u001b[0;32m    895\u001b[0m first_test_score \u001b[38;5;241m=\u001b[39m all_out[\u001b[38;5;241m0\u001b[39m][\u001b[38;5;124m\"\u001b[39m\u001b[38;5;124mtest_scores\u001b[39m\u001b[38;5;124m\"\u001b[39m]\n",
      "File \u001b[1;32m~\\anaconda3\\lib\\site-packages\\sklearn\\model_selection\\_search.py:1392\u001b[0m, in \u001b[0;36mGridSearchCV._run_search\u001b[1;34m(self, evaluate_candidates)\u001b[0m\n\u001b[0;32m   1390\u001b[0m \u001b[38;5;28;01mdef\u001b[39;00m \u001b[38;5;21m_run_search\u001b[39m(\u001b[38;5;28mself\u001b[39m, evaluate_candidates):\n\u001b[0;32m   1391\u001b[0m     \u001b[38;5;124;03m\"\"\"Search all candidates in param_grid\"\"\"\u001b[39;00m\n\u001b[1;32m-> 1392\u001b[0m     \u001b[43mevaluate_candidates\u001b[49m\u001b[43m(\u001b[49m\u001b[43mParameterGrid\u001b[49m\u001b[43m(\u001b[49m\u001b[38;5;28;43mself\u001b[39;49m\u001b[38;5;241;43m.\u001b[39;49m\u001b[43mparam_grid\u001b[49m\u001b[43m)\u001b[49m\u001b[43m)\u001b[49m\n",
      "File \u001b[1;32m~\\anaconda3\\lib\\site-packages\\sklearn\\model_selection\\_search.py:838\u001b[0m, in \u001b[0;36mBaseSearchCV.fit.<locals>.evaluate_candidates\u001b[1;34m(candidate_params, cv, more_results)\u001b[0m\n\u001b[0;32m    830\u001b[0m \u001b[38;5;28;01mif\u001b[39;00m \u001b[38;5;28mself\u001b[39m\u001b[38;5;241m.\u001b[39mverbose \u001b[38;5;241m>\u001b[39m \u001b[38;5;241m0\u001b[39m:\n\u001b[0;32m    831\u001b[0m     \u001b[38;5;28mprint\u001b[39m(\n\u001b[0;32m    832\u001b[0m         \u001b[38;5;124m\"\u001b[39m\u001b[38;5;124mFitting \u001b[39m\u001b[38;5;132;01m{0}\u001b[39;00m\u001b[38;5;124m folds for each of \u001b[39m\u001b[38;5;132;01m{1}\u001b[39;00m\u001b[38;5;124m candidates,\u001b[39m\u001b[38;5;124m\"\u001b[39m\n\u001b[0;32m    833\u001b[0m         \u001b[38;5;124m\"\u001b[39m\u001b[38;5;124m totalling \u001b[39m\u001b[38;5;132;01m{2}\u001b[39;00m\u001b[38;5;124m fits\u001b[39m\u001b[38;5;124m\"\u001b[39m\u001b[38;5;241m.\u001b[39mformat(\n\u001b[0;32m    834\u001b[0m             n_splits, n_candidates, n_candidates \u001b[38;5;241m*\u001b[39m n_splits\n\u001b[0;32m    835\u001b[0m         )\n\u001b[0;32m    836\u001b[0m     )\n\u001b[1;32m--> 838\u001b[0m out \u001b[38;5;241m=\u001b[39m \u001b[43mparallel\u001b[49m\u001b[43m(\u001b[49m\n\u001b[0;32m    839\u001b[0m \u001b[43m    \u001b[49m\u001b[43mdelayed\u001b[49m\u001b[43m(\u001b[49m\u001b[43m_fit_and_score\u001b[49m\u001b[43m)\u001b[49m\u001b[43m(\u001b[49m\n\u001b[0;32m    840\u001b[0m \u001b[43m        \u001b[49m\u001b[43mclone\u001b[49m\u001b[43m(\u001b[49m\u001b[43mbase_estimator\u001b[49m\u001b[43m)\u001b[49m\u001b[43m,\u001b[49m\n\u001b[0;32m    841\u001b[0m \u001b[43m        \u001b[49m\u001b[43mX\u001b[49m\u001b[43m,\u001b[49m\n\u001b[0;32m    842\u001b[0m \u001b[43m        \u001b[49m\u001b[43my\u001b[49m\u001b[43m,\u001b[49m\n\u001b[0;32m    843\u001b[0m \u001b[43m        \u001b[49m\u001b[43mtrain\u001b[49m\u001b[38;5;241;43m=\u001b[39;49m\u001b[43mtrain\u001b[49m\u001b[43m,\u001b[49m\n\u001b[0;32m    844\u001b[0m \u001b[43m        \u001b[49m\u001b[43mtest\u001b[49m\u001b[38;5;241;43m=\u001b[39;49m\u001b[43mtest\u001b[49m\u001b[43m,\u001b[49m\n\u001b[0;32m    845\u001b[0m \u001b[43m        \u001b[49m\u001b[43mparameters\u001b[49m\u001b[38;5;241;43m=\u001b[39;49m\u001b[43mparameters\u001b[49m\u001b[43m,\u001b[49m\n\u001b[0;32m    846\u001b[0m \u001b[43m        \u001b[49m\u001b[43msplit_progress\u001b[49m\u001b[38;5;241;43m=\u001b[39;49m\u001b[43m(\u001b[49m\u001b[43msplit_idx\u001b[49m\u001b[43m,\u001b[49m\u001b[43m \u001b[49m\u001b[43mn_splits\u001b[49m\u001b[43m)\u001b[49m\u001b[43m,\u001b[49m\n\u001b[0;32m    847\u001b[0m \u001b[43m        \u001b[49m\u001b[43mcandidate_progress\u001b[49m\u001b[38;5;241;43m=\u001b[39;49m\u001b[43m(\u001b[49m\u001b[43mcand_idx\u001b[49m\u001b[43m,\u001b[49m\u001b[43m \u001b[49m\u001b[43mn_candidates\u001b[49m\u001b[43m)\u001b[49m\u001b[43m,\u001b[49m\n\u001b[0;32m    848\u001b[0m \u001b[43m        \u001b[49m\u001b[38;5;241;43m*\u001b[39;49m\u001b[38;5;241;43m*\u001b[39;49m\u001b[43mfit_and_score_kwargs\u001b[49m\u001b[43m,\u001b[49m\n\u001b[0;32m    849\u001b[0m \u001b[43m    \u001b[49m\u001b[43m)\u001b[49m\n\u001b[0;32m    850\u001b[0m \u001b[43m    \u001b[49m\u001b[38;5;28;43;01mfor\u001b[39;49;00m\u001b[43m \u001b[49m\u001b[43m(\u001b[49m\u001b[43mcand_idx\u001b[49m\u001b[43m,\u001b[49m\u001b[43m \u001b[49m\u001b[43mparameters\u001b[49m\u001b[43m)\u001b[49m\u001b[43m,\u001b[49m\u001b[43m \u001b[49m\u001b[43m(\u001b[49m\u001b[43msplit_idx\u001b[49m\u001b[43m,\u001b[49m\u001b[43m \u001b[49m\u001b[43m(\u001b[49m\u001b[43mtrain\u001b[49m\u001b[43m,\u001b[49m\u001b[43m \u001b[49m\u001b[43mtest\u001b[49m\u001b[43m)\u001b[49m\u001b[43m)\u001b[49m\u001b[43m \u001b[49m\u001b[38;5;129;43;01min\u001b[39;49;00m\u001b[43m \u001b[49m\u001b[43mproduct\u001b[49m\u001b[43m(\u001b[49m\n\u001b[0;32m    851\u001b[0m \u001b[43m        \u001b[49m\u001b[38;5;28;43menumerate\u001b[39;49m\u001b[43m(\u001b[49m\u001b[43mcandidate_params\u001b[49m\u001b[43m)\u001b[49m\u001b[43m,\u001b[49m\u001b[43m \u001b[49m\u001b[38;5;28;43menumerate\u001b[39;49m\u001b[43m(\u001b[49m\u001b[43mcv\u001b[49m\u001b[38;5;241;43m.\u001b[39;49m\u001b[43msplit\u001b[49m\u001b[43m(\u001b[49m\u001b[43mX\u001b[49m\u001b[43m,\u001b[49m\u001b[43m \u001b[49m\u001b[43my\u001b[49m\u001b[43m,\u001b[49m\u001b[43m \u001b[49m\u001b[43mgroups\u001b[49m\u001b[43m)\u001b[49m\u001b[43m)\u001b[49m\n\u001b[0;32m    852\u001b[0m \u001b[43m    \u001b[49m\u001b[43m)\u001b[49m\n\u001b[0;32m    853\u001b[0m \u001b[43m\u001b[49m\u001b[43m)\u001b[49m\n\u001b[0;32m    855\u001b[0m \u001b[38;5;28;01mif\u001b[39;00m \u001b[38;5;28mlen\u001b[39m(out) \u001b[38;5;241m<\u001b[39m \u001b[38;5;241m1\u001b[39m:\n\u001b[0;32m    856\u001b[0m     \u001b[38;5;28;01mraise\u001b[39;00m \u001b[38;5;167;01mValueError\u001b[39;00m(\n\u001b[0;32m    857\u001b[0m         \u001b[38;5;124m\"\u001b[39m\u001b[38;5;124mNo fits were performed. \u001b[39m\u001b[38;5;124m\"\u001b[39m\n\u001b[0;32m    858\u001b[0m         \u001b[38;5;124m\"\u001b[39m\u001b[38;5;124mWas the CV iterator empty? \u001b[39m\u001b[38;5;124m\"\u001b[39m\n\u001b[0;32m    859\u001b[0m         \u001b[38;5;124m\"\u001b[39m\u001b[38;5;124mWere there no candidates?\u001b[39m\u001b[38;5;124m\"\u001b[39m\n\u001b[0;32m    860\u001b[0m     )\n",
      "File \u001b[1;32m~\\anaconda3\\lib\\site-packages\\joblib\\parallel.py:1046\u001b[0m, in \u001b[0;36mParallel.__call__\u001b[1;34m(self, iterable)\u001b[0m\n\u001b[0;32m   1043\u001b[0m \u001b[38;5;28;01mif\u001b[39;00m \u001b[38;5;28mself\u001b[39m\u001b[38;5;241m.\u001b[39mdispatch_one_batch(iterator):\n\u001b[0;32m   1044\u001b[0m     \u001b[38;5;28mself\u001b[39m\u001b[38;5;241m.\u001b[39m_iterating \u001b[38;5;241m=\u001b[39m \u001b[38;5;28mself\u001b[39m\u001b[38;5;241m.\u001b[39m_original_iterator \u001b[38;5;129;01mis\u001b[39;00m \u001b[38;5;129;01mnot\u001b[39;00m \u001b[38;5;28;01mNone\u001b[39;00m\n\u001b[1;32m-> 1046\u001b[0m \u001b[38;5;28;01mwhile\u001b[39;00m \u001b[38;5;28;43mself\u001b[39;49m\u001b[38;5;241;43m.\u001b[39;49m\u001b[43mdispatch_one_batch\u001b[49m\u001b[43m(\u001b[49m\u001b[43miterator\u001b[49m\u001b[43m)\u001b[49m:\n\u001b[0;32m   1047\u001b[0m     \u001b[38;5;28;01mpass\u001b[39;00m\n\u001b[0;32m   1049\u001b[0m \u001b[38;5;28;01mif\u001b[39;00m pre_dispatch \u001b[38;5;241m==\u001b[39m \u001b[38;5;124m\"\u001b[39m\u001b[38;5;124mall\u001b[39m\u001b[38;5;124m\"\u001b[39m \u001b[38;5;129;01mor\u001b[39;00m n_jobs \u001b[38;5;241m==\u001b[39m \u001b[38;5;241m1\u001b[39m:\n\u001b[0;32m   1050\u001b[0m     \u001b[38;5;66;03m# The iterable was consumed all at once by the above for loop.\u001b[39;00m\n\u001b[0;32m   1051\u001b[0m     \u001b[38;5;66;03m# No need to wait for async callbacks to trigger to\u001b[39;00m\n\u001b[0;32m   1052\u001b[0m     \u001b[38;5;66;03m# consumption.\u001b[39;00m\n",
      "File \u001b[1;32m~\\anaconda3\\lib\\site-packages\\joblib\\parallel.py:861\u001b[0m, in \u001b[0;36mParallel.dispatch_one_batch\u001b[1;34m(self, iterator)\u001b[0m\n\u001b[0;32m    859\u001b[0m     \u001b[38;5;28;01mreturn\u001b[39;00m \u001b[38;5;28;01mFalse\u001b[39;00m\n\u001b[0;32m    860\u001b[0m \u001b[38;5;28;01melse\u001b[39;00m:\n\u001b[1;32m--> 861\u001b[0m     \u001b[38;5;28;43mself\u001b[39;49m\u001b[38;5;241;43m.\u001b[39;49m\u001b[43m_dispatch\u001b[49m\u001b[43m(\u001b[49m\u001b[43mtasks\u001b[49m\u001b[43m)\u001b[49m\n\u001b[0;32m    862\u001b[0m     \u001b[38;5;28;01mreturn\u001b[39;00m \u001b[38;5;28;01mTrue\u001b[39;00m\n",
      "File \u001b[1;32m~\\anaconda3\\lib\\site-packages\\joblib\\parallel.py:779\u001b[0m, in \u001b[0;36mParallel._dispatch\u001b[1;34m(self, batch)\u001b[0m\n\u001b[0;32m    777\u001b[0m \u001b[38;5;28;01mwith\u001b[39;00m \u001b[38;5;28mself\u001b[39m\u001b[38;5;241m.\u001b[39m_lock:\n\u001b[0;32m    778\u001b[0m     job_idx \u001b[38;5;241m=\u001b[39m \u001b[38;5;28mlen\u001b[39m(\u001b[38;5;28mself\u001b[39m\u001b[38;5;241m.\u001b[39m_jobs)\n\u001b[1;32m--> 779\u001b[0m     job \u001b[38;5;241m=\u001b[39m \u001b[38;5;28;43mself\u001b[39;49m\u001b[38;5;241;43m.\u001b[39;49m\u001b[43m_backend\u001b[49m\u001b[38;5;241;43m.\u001b[39;49m\u001b[43mapply_async\u001b[49m\u001b[43m(\u001b[49m\u001b[43mbatch\u001b[49m\u001b[43m,\u001b[49m\u001b[43m \u001b[49m\u001b[43mcallback\u001b[49m\u001b[38;5;241;43m=\u001b[39;49m\u001b[43mcb\u001b[49m\u001b[43m)\u001b[49m\n\u001b[0;32m    780\u001b[0m     \u001b[38;5;66;03m# A job can complete so quickly than its callback is\u001b[39;00m\n\u001b[0;32m    781\u001b[0m     \u001b[38;5;66;03m# called before we get here, causing self._jobs to\u001b[39;00m\n\u001b[0;32m    782\u001b[0m     \u001b[38;5;66;03m# grow. To ensure correct results ordering, .insert is\u001b[39;00m\n\u001b[0;32m    783\u001b[0m     \u001b[38;5;66;03m# used (rather than .append) in the following line\u001b[39;00m\n\u001b[0;32m    784\u001b[0m     \u001b[38;5;28mself\u001b[39m\u001b[38;5;241m.\u001b[39m_jobs\u001b[38;5;241m.\u001b[39minsert(job_idx, job)\n",
      "File \u001b[1;32m~\\anaconda3\\lib\\site-packages\\joblib\\_parallel_backends.py:208\u001b[0m, in \u001b[0;36mSequentialBackend.apply_async\u001b[1;34m(self, func, callback)\u001b[0m\n\u001b[0;32m    206\u001b[0m \u001b[38;5;28;01mdef\u001b[39;00m \u001b[38;5;21mapply_async\u001b[39m(\u001b[38;5;28mself\u001b[39m, func, callback\u001b[38;5;241m=\u001b[39m\u001b[38;5;28;01mNone\u001b[39;00m):\n\u001b[0;32m    207\u001b[0m     \u001b[38;5;124;03m\"\"\"Schedule a func to be run\"\"\"\u001b[39;00m\n\u001b[1;32m--> 208\u001b[0m     result \u001b[38;5;241m=\u001b[39m \u001b[43mImmediateResult\u001b[49m\u001b[43m(\u001b[49m\u001b[43mfunc\u001b[49m\u001b[43m)\u001b[49m\n\u001b[0;32m    209\u001b[0m     \u001b[38;5;28;01mif\u001b[39;00m callback:\n\u001b[0;32m    210\u001b[0m         callback(result)\n",
      "File \u001b[1;32m~\\anaconda3\\lib\\site-packages\\joblib\\_parallel_backends.py:572\u001b[0m, in \u001b[0;36mImmediateResult.__init__\u001b[1;34m(self, batch)\u001b[0m\n\u001b[0;32m    569\u001b[0m \u001b[38;5;28;01mdef\u001b[39;00m \u001b[38;5;21m__init__\u001b[39m(\u001b[38;5;28mself\u001b[39m, batch):\n\u001b[0;32m    570\u001b[0m     \u001b[38;5;66;03m# Don't delay the application, to avoid keeping the input\u001b[39;00m\n\u001b[0;32m    571\u001b[0m     \u001b[38;5;66;03m# arguments in memory\u001b[39;00m\n\u001b[1;32m--> 572\u001b[0m     \u001b[38;5;28mself\u001b[39m\u001b[38;5;241m.\u001b[39mresults \u001b[38;5;241m=\u001b[39m \u001b[43mbatch\u001b[49m\u001b[43m(\u001b[49m\u001b[43m)\u001b[49m\n",
      "File \u001b[1;32m~\\anaconda3\\lib\\site-packages\\joblib\\parallel.py:262\u001b[0m, in \u001b[0;36mBatchedCalls.__call__\u001b[1;34m(self)\u001b[0m\n\u001b[0;32m    258\u001b[0m \u001b[38;5;28;01mdef\u001b[39;00m \u001b[38;5;21m__call__\u001b[39m(\u001b[38;5;28mself\u001b[39m):\n\u001b[0;32m    259\u001b[0m     \u001b[38;5;66;03m# Set the default nested backend to self._backend but do not set the\u001b[39;00m\n\u001b[0;32m    260\u001b[0m     \u001b[38;5;66;03m# change the default number of processes to -1\u001b[39;00m\n\u001b[0;32m    261\u001b[0m     \u001b[38;5;28;01mwith\u001b[39;00m parallel_backend(\u001b[38;5;28mself\u001b[39m\u001b[38;5;241m.\u001b[39m_backend, n_jobs\u001b[38;5;241m=\u001b[39m\u001b[38;5;28mself\u001b[39m\u001b[38;5;241m.\u001b[39m_n_jobs):\n\u001b[1;32m--> 262\u001b[0m         \u001b[38;5;28;01mreturn\u001b[39;00m [func(\u001b[38;5;241m*\u001b[39margs, \u001b[38;5;241m*\u001b[39m\u001b[38;5;241m*\u001b[39mkwargs)\n\u001b[0;32m    263\u001b[0m                 \u001b[38;5;28;01mfor\u001b[39;00m func, args, kwargs \u001b[38;5;129;01min\u001b[39;00m \u001b[38;5;28mself\u001b[39m\u001b[38;5;241m.\u001b[39mitems]\n",
      "File \u001b[1;32m~\\anaconda3\\lib\\site-packages\\joblib\\parallel.py:262\u001b[0m, in \u001b[0;36m<listcomp>\u001b[1;34m(.0)\u001b[0m\n\u001b[0;32m    258\u001b[0m \u001b[38;5;28;01mdef\u001b[39;00m \u001b[38;5;21m__call__\u001b[39m(\u001b[38;5;28mself\u001b[39m):\n\u001b[0;32m    259\u001b[0m     \u001b[38;5;66;03m# Set the default nested backend to self._backend but do not set the\u001b[39;00m\n\u001b[0;32m    260\u001b[0m     \u001b[38;5;66;03m# change the default number of processes to -1\u001b[39;00m\n\u001b[0;32m    261\u001b[0m     \u001b[38;5;28;01mwith\u001b[39;00m parallel_backend(\u001b[38;5;28mself\u001b[39m\u001b[38;5;241m.\u001b[39m_backend, n_jobs\u001b[38;5;241m=\u001b[39m\u001b[38;5;28mself\u001b[39m\u001b[38;5;241m.\u001b[39m_n_jobs):\n\u001b[1;32m--> 262\u001b[0m         \u001b[38;5;28;01mreturn\u001b[39;00m [func(\u001b[38;5;241m*\u001b[39margs, \u001b[38;5;241m*\u001b[39m\u001b[38;5;241m*\u001b[39mkwargs)\n\u001b[0;32m    263\u001b[0m                 \u001b[38;5;28;01mfor\u001b[39;00m func, args, kwargs \u001b[38;5;129;01min\u001b[39;00m \u001b[38;5;28mself\u001b[39m\u001b[38;5;241m.\u001b[39mitems]\n",
      "File \u001b[1;32m~\\anaconda3\\lib\\site-packages\\sklearn\\utils\\fixes.py:216\u001b[0m, in \u001b[0;36m_FuncWrapper.__call__\u001b[1;34m(self, *args, **kwargs)\u001b[0m\n\u001b[0;32m    214\u001b[0m \u001b[38;5;28;01mdef\u001b[39;00m \u001b[38;5;21m__call__\u001b[39m(\u001b[38;5;28mself\u001b[39m, \u001b[38;5;241m*\u001b[39margs, \u001b[38;5;241m*\u001b[39m\u001b[38;5;241m*\u001b[39mkwargs):\n\u001b[0;32m    215\u001b[0m     \u001b[38;5;28;01mwith\u001b[39;00m config_context(\u001b[38;5;241m*\u001b[39m\u001b[38;5;241m*\u001b[39m\u001b[38;5;28mself\u001b[39m\u001b[38;5;241m.\u001b[39mconfig):\n\u001b[1;32m--> 216\u001b[0m         \u001b[38;5;28;01mreturn\u001b[39;00m \u001b[38;5;28mself\u001b[39m\u001b[38;5;241m.\u001b[39mfunction(\u001b[38;5;241m*\u001b[39margs, \u001b[38;5;241m*\u001b[39m\u001b[38;5;241m*\u001b[39mkwargs)\n",
      "File \u001b[1;32m~\\anaconda3\\lib\\site-packages\\sklearn\\model_selection\\_validation.py:680\u001b[0m, in \u001b[0;36m_fit_and_score\u001b[1;34m(estimator, X, y, scorer, train, test, verbose, parameters, fit_params, return_train_score, return_parameters, return_n_test_samples, return_times, return_estimator, split_progress, candidate_progress, error_score)\u001b[0m\n\u001b[0;32m    678\u001b[0m         estimator\u001b[38;5;241m.\u001b[39mfit(X_train, \u001b[38;5;241m*\u001b[39m\u001b[38;5;241m*\u001b[39mfit_params)\n\u001b[0;32m    679\u001b[0m     \u001b[38;5;28;01melse\u001b[39;00m:\n\u001b[1;32m--> 680\u001b[0m         estimator\u001b[38;5;241m.\u001b[39mfit(X_train, y_train, \u001b[38;5;241m*\u001b[39m\u001b[38;5;241m*\u001b[39mfit_params)\n\u001b[0;32m    682\u001b[0m \u001b[38;5;28;01mexcept\u001b[39;00m \u001b[38;5;167;01mException\u001b[39;00m:\n\u001b[0;32m    683\u001b[0m     \u001b[38;5;66;03m# Note fit time as time until error\u001b[39;00m\n\u001b[0;32m    684\u001b[0m     fit_time \u001b[38;5;241m=\u001b[39m time\u001b[38;5;241m.\u001b[39mtime() \u001b[38;5;241m-\u001b[39m start_time\n",
      "File \u001b[1;32m~\\anaconda3\\lib\\site-packages\\sklearn\\tree\\_classes.py:1315\u001b[0m, in \u001b[0;36mDecisionTreeRegressor.fit\u001b[1;34m(self, X, y, sample_weight, check_input, X_idx_sorted)\u001b[0m\n\u001b[0;32m   1278\u001b[0m \u001b[38;5;28;01mdef\u001b[39;00m \u001b[38;5;21mfit\u001b[39m(\n\u001b[0;32m   1279\u001b[0m     \u001b[38;5;28mself\u001b[39m, X, y, sample_weight\u001b[38;5;241m=\u001b[39m\u001b[38;5;28;01mNone\u001b[39;00m, check_input\u001b[38;5;241m=\u001b[39m\u001b[38;5;28;01mTrue\u001b[39;00m, X_idx_sorted\u001b[38;5;241m=\u001b[39m\u001b[38;5;124m\"\u001b[39m\u001b[38;5;124mdeprecated\u001b[39m\u001b[38;5;124m\"\u001b[39m\n\u001b[0;32m   1280\u001b[0m ):\n\u001b[0;32m   1281\u001b[0m     \u001b[38;5;124;03m\"\"\"Build a decision tree regressor from the training set (X, y).\u001b[39;00m\n\u001b[0;32m   1282\u001b[0m \n\u001b[0;32m   1283\u001b[0m \u001b[38;5;124;03m    Parameters\u001b[39;00m\n\u001b[1;32m   (...)\u001b[0m\n\u001b[0;32m   1312\u001b[0m \u001b[38;5;124;03m        Fitted estimator.\u001b[39;00m\n\u001b[0;32m   1313\u001b[0m \u001b[38;5;124;03m    \"\"\"\u001b[39;00m\n\u001b[1;32m-> 1315\u001b[0m     \u001b[38;5;28;43msuper\u001b[39;49m\u001b[43m(\u001b[49m\u001b[43m)\u001b[49m\u001b[38;5;241;43m.\u001b[39;49m\u001b[43mfit\u001b[49m\u001b[43m(\u001b[49m\n\u001b[0;32m   1316\u001b[0m \u001b[43m        \u001b[49m\u001b[43mX\u001b[49m\u001b[43m,\u001b[49m\n\u001b[0;32m   1317\u001b[0m \u001b[43m        \u001b[49m\u001b[43my\u001b[49m\u001b[43m,\u001b[49m\n\u001b[0;32m   1318\u001b[0m \u001b[43m        \u001b[49m\u001b[43msample_weight\u001b[49m\u001b[38;5;241;43m=\u001b[39;49m\u001b[43msample_weight\u001b[49m\u001b[43m,\u001b[49m\n\u001b[0;32m   1319\u001b[0m \u001b[43m        \u001b[49m\u001b[43mcheck_input\u001b[49m\u001b[38;5;241;43m=\u001b[39;49m\u001b[43mcheck_input\u001b[49m\u001b[43m,\u001b[49m\n\u001b[0;32m   1320\u001b[0m \u001b[43m        \u001b[49m\u001b[43mX_idx_sorted\u001b[49m\u001b[38;5;241;43m=\u001b[39;49m\u001b[43mX_idx_sorted\u001b[49m\u001b[43m,\u001b[49m\n\u001b[0;32m   1321\u001b[0m \u001b[43m    \u001b[49m\u001b[43m)\u001b[49m\n\u001b[0;32m   1322\u001b[0m     \u001b[38;5;28;01mreturn\u001b[39;00m \u001b[38;5;28mself\u001b[39m\n",
      "File \u001b[1;32m~\\anaconda3\\lib\\site-packages\\sklearn\\tree\\_classes.py:420\u001b[0m, in \u001b[0;36mBaseDecisionTree.fit\u001b[1;34m(self, X, y, sample_weight, check_input, X_idx_sorted)\u001b[0m\n\u001b[0;32m    409\u001b[0m \u001b[38;5;28;01melse\u001b[39;00m:\n\u001b[0;32m    410\u001b[0m     builder \u001b[38;5;241m=\u001b[39m BestFirstTreeBuilder(\n\u001b[0;32m    411\u001b[0m         splitter,\n\u001b[0;32m    412\u001b[0m         min_samples_split,\n\u001b[1;32m   (...)\u001b[0m\n\u001b[0;32m    417\u001b[0m         \u001b[38;5;28mself\u001b[39m\u001b[38;5;241m.\u001b[39mmin_impurity_decrease,\n\u001b[0;32m    418\u001b[0m     )\n\u001b[1;32m--> 420\u001b[0m \u001b[43mbuilder\u001b[49m\u001b[38;5;241;43m.\u001b[39;49m\u001b[43mbuild\u001b[49m\u001b[43m(\u001b[49m\u001b[38;5;28;43mself\u001b[39;49m\u001b[38;5;241;43m.\u001b[39;49m\u001b[43mtree_\u001b[49m\u001b[43m,\u001b[49m\u001b[43m \u001b[49m\u001b[43mX\u001b[49m\u001b[43m,\u001b[49m\u001b[43m \u001b[49m\u001b[43my\u001b[49m\u001b[43m,\u001b[49m\u001b[43m \u001b[49m\u001b[43msample_weight\u001b[49m\u001b[43m)\u001b[49m\n\u001b[0;32m    422\u001b[0m \u001b[38;5;28;01mif\u001b[39;00m \u001b[38;5;28mself\u001b[39m\u001b[38;5;241m.\u001b[39mn_outputs_ \u001b[38;5;241m==\u001b[39m \u001b[38;5;241m1\u001b[39m \u001b[38;5;129;01mand\u001b[39;00m is_classifier(\u001b[38;5;28mself\u001b[39m):\n\u001b[0;32m    423\u001b[0m     \u001b[38;5;28mself\u001b[39m\u001b[38;5;241m.\u001b[39mn_classes_ \u001b[38;5;241m=\u001b[39m \u001b[38;5;28mself\u001b[39m\u001b[38;5;241m.\u001b[39mn_classes_[\u001b[38;5;241m0\u001b[39m]\n",
      "\u001b[1;31mKeyboardInterrupt\u001b[0m: "
     ]
    }
   ],
   "source": [
    "cart_cv_model.fit(X_train,y_train)"
   ]
  },
  {
   "cell_type": "code",
   "execution_count": 170,
   "id": "0397a85e",
   "metadata": {},
   "outputs": [
    {
     "data": {
      "text/plain": [
       "{'max_leaf_nodes': 9, 'min_samples_split': 76}"
      ]
     },
     "execution_count": 170,
     "metadata": {},
     "output_type": "execute_result"
    }
   ],
   "source": [
    "cart_cv_model.best_params_"
   ]
  },
  {
   "cell_type": "code",
   "execution_count": 200,
   "id": "1855409d",
   "metadata": {},
   "outputs": [],
   "source": [
    "cart_tuned = DecisionTreeRegressor(max_leaf_nodes=9,min_samples_split=37)"
   ]
  },
  {
   "cell_type": "code",
   "execution_count": 201,
   "id": "271a5320",
   "metadata": {},
   "outputs": [
    {
     "data": {
      "text/plain": [
       "DecisionTreeRegressor(max_leaf_nodes=9, min_samples_split=37)"
      ]
     },
     "execution_count": 201,
     "metadata": {},
     "output_type": "execute_result"
    }
   ],
   "source": [
    "cart_tuned.fit(X_train,y_train)"
   ]
  },
  {
   "cell_type": "code",
   "execution_count": 202,
   "id": "e08bac3d",
   "metadata": {},
   "outputs": [],
   "source": [
    "y_pred = cart_tuned.predict(X_test)"
   ]
  },
  {
   "cell_type": "code",
   "execution_count": 203,
   "id": "d461f715",
   "metadata": {},
   "outputs": [
    {
     "data": {
      "text/plain": [
       "376.39788207109865"
      ]
     },
     "execution_count": 203,
     "metadata": {},
     "output_type": "execute_result"
    }
   ],
   "source": [
    "np.sqrt(mean_squared_error(y_test,y_pred))"
   ]
  },
  {
   "cell_type": "code",
   "execution_count": 204,
   "id": "3f94ecd2",
   "metadata": {},
   "outputs": [],
   "source": [
    "hit = pd.read_csv(\"Hitters.csv\")\n",
    "df = hit.copy()\n",
    "df = df.dropna()\n",
    "dms = pd.get_dummies(df[['League', 'Division', 'NewLeague']])\n",
    "y = df[\"Salary\"]\n",
    "X_ = df.drop(['Salary', 'League', 'Division', 'NewLeague'], axis=1).astype('float64')\n",
    "X = pd.concat([X_, dms[['League_N', 'Division_W', 'NewLeague_N']]], axis=1)\n",
    "X_train, X_test, y_train, y_test = train_test_split(X, y, \n",
    "                                                    test_size=0.25, \n",
    "                                                    random_state=42)"
   ]
  },
  {
   "cell_type": "code",
   "execution_count": 205,
   "id": "2d326598",
   "metadata": {},
   "outputs": [
    {
     "data": {
      "text/plain": [
       "BaggingRegressor(bootstrap_features=True)"
      ]
     },
     "execution_count": 205,
     "metadata": {},
     "output_type": "execute_result"
    }
   ],
   "source": [
    "bag_model = BaggingRegressor(bootstrap_features= True)\n",
    "bag_model.fit(X_train,y_train)"
   ]
  },
  {
   "cell_type": "code",
   "execution_count": 206,
   "id": "c1d715a5",
   "metadata": {},
   "outputs": [
    {
     "data": {
      "text/plain": [
       "{'base_estimator': None,\n",
       " 'bootstrap': True,\n",
       " 'bootstrap_features': True,\n",
       " 'max_features': 1.0,\n",
       " 'max_samples': 1.0,\n",
       " 'n_estimators': 10,\n",
       " 'n_jobs': None,\n",
       " 'oob_score': False,\n",
       " 'random_state': None,\n",
       " 'verbose': 0,\n",
       " 'warm_start': False}"
      ]
     },
     "execution_count": 206,
     "metadata": {},
     "output_type": "execute_result"
    }
   ],
   "source": [
    "bag_model.get_params()"
   ]
  },
  {
   "cell_type": "code",
   "execution_count": 207,
   "id": "704b890c",
   "metadata": {},
   "outputs": [
    {
     "data": {
      "text/plain": [
       "10"
      ]
     },
     "execution_count": 207,
     "metadata": {},
     "output_type": "execute_result"
    }
   ],
   "source": [
    "bag_model.n_estimators"
   ]
  },
  {
   "cell_type": "code",
   "execution_count": 208,
   "id": "7642b3cf",
   "metadata": {},
   "outputs": [
    {
     "data": {
      "text/plain": [
       "[DecisionTreeRegressor(random_state=1977551223),\n",
       " DecisionTreeRegressor(random_state=1395498400),\n",
       " DecisionTreeRegressor(random_state=1981495544),\n",
       " DecisionTreeRegressor(random_state=869088576),\n",
       " DecisionTreeRegressor(random_state=938244633),\n",
       " DecisionTreeRegressor(random_state=1721344838),\n",
       " DecisionTreeRegressor(random_state=863496332),\n",
       " DecisionTreeRegressor(random_state=1406423808),\n",
       " DecisionTreeRegressor(random_state=120214338),\n",
       " DecisionTreeRegressor(random_state=1040227758)]"
      ]
     },
     "execution_count": 208,
     "metadata": {},
     "output_type": "execute_result"
    }
   ],
   "source": [
    "bag_model.estimators_"
   ]
  },
  {
   "cell_type": "code",
   "execution_count": 209,
   "id": "4e743b84",
   "metadata": {},
   "outputs": [
    {
     "data": {
      "text/plain": [
       "[array([186, 106, 187,  21, 161,  73,  98, 139,  52, 126,   3,  33,  53,\n",
       "         77,  44, 129,  36, 142,  62,   8, 140, 104, 135, 143, 105, 176,\n",
       "         74,  94,  88,  80,  95, 196,  99,  12, 174,  80, 136, 125,  24,\n",
       "         39,  14,   4, 148, 168, 176, 133, 141,  61, 180, 166,   2, 134,\n",
       "         35, 146,  15, 180, 144,  28, 125,  69, 170,   3,   8, 177, 129,\n",
       "        148, 193,  12, 105, 180,  40, 137,  72,  57, 125,  16, 102, 149,\n",
       "         69,  13,  57, 131,   4, 113,  67, 191,  90, 150, 184, 171, 175,\n",
       "          4, 168,  25, 182,  15, 106,  80,  26,  39, 174, 181, 106,  19,\n",
       "        155, 177, 133,  20, 177,  98,  21, 142,  32, 169, 157,  98, 151,\n",
       "         99, 126,  84,  17,  14, 149, 162, 113,  40,  96,  98,  53, 135,\n",
       "        132, 110, 100,   8,  78,  21, 131, 123, 108,  35,  25, 167, 144,\n",
       "         62,  28,  51,  50, 170, 170, 137, 102,  32,   1,  46, 124,  80,\n",
       "        164,  58, 116, 107,  33, 174,  65, 166,  51, 191, 188,  31,  85,\n",
       "        143, 173,  45, 136,  98,  20,  30,  65,  67, 186,  77, 128,  26,\n",
       "        191,  86,  94, 194, 148, 157, 137, 111,  73,  52, 119, 136,  86,\n",
       "         56,  89]),\n",
       " array([174, 114, 125, 130, 109,  76, 134,  23,  89,  37, 168, 184, 173,\n",
       "         98,  68, 146, 138,  27, 118, 168,  68,  52, 135, 118, 112, 183,\n",
       "         56, 164, 110, 173, 167, 107, 170, 104,   1,  34,  45, 179, 103,\n",
       "         23, 146,  13, 144, 195, 175,  71, 144, 193, 138, 185,  93, 136,\n",
       "        116,  28,  14,  43,  34, 112,  81, 154, 151, 160,  51, 105,  84,\n",
       "        128,   5, 188,  31, 151, 162,  19,  19, 101,  36,  38, 146, 108,\n",
       "         28,  49, 177, 175,  48,  37, 195, 106, 190, 122,  94,  86, 130,\n",
       "        157, 167, 180, 186, 130,   4,  38, 158,  67, 168, 120,  63, 179,\n",
       "         66,  80,  28,  88, 116, 104,  69, 196, 196, 187, 162, 121,   8,\n",
       "        140,  36, 100,  76,  12,  87, 152, 160, 157,  28, 122,  66, 132,\n",
       "         80,  95,  47, 167,  96, 172, 183,  80, 170,  35,  14, 124,  75,\n",
       "         51,   7, 155, 126,  61, 148, 145, 145, 170, 144,  27, 189, 180,\n",
       "         78,  58, 140, 189, 189,  58,  47,  43, 126, 115, 131, 181, 160,\n",
       "        166,  25,  57, 145, 128,  63,  18, 189,  40,  92,  44,  70, 131,\n",
       "         50, 147, 156,  51,  30,  79,  67, 124,  44,  75,  31,  75,  80,\n",
       "         35,  41]),\n",
       " array([ 23,   9,  22, 148, 159, 107, 154, 109,   0,  74,   0, 193,  10,\n",
       "        112,   2,  25,  54,  86,   5, 113,  51,  24,  61,  38, 101, 124,\n",
       "         97, 164,  95, 170, 148, 160,  74,  41, 139, 121, 125, 163, 115,\n",
       "        145,  23,  51, 131, 125,   2, 106, 171, 168, 168,  65,  91,  27,\n",
       "        156,  76, 105, 125, 129, 142, 115,  90,  16,   8,  59,  95, 187,\n",
       "        152, 121, 154,  74, 168,  74, 126, 145, 194, 144,  68,  91, 126,\n",
       "        166, 141, 130,  97, 184,  78,  30, 108, 169, 113,  72, 121,  15,\n",
       "         57, 165,  72,  81, 118, 112, 158, 119, 118,  39,  17,  69, 104,\n",
       "         26, 191,  41,  31,  17,  18, 117,  35,  67, 180, 182,  10, 151,\n",
       "         21,  42, 191,  73, 189,  64, 127, 162,   8, 174,   0, 189,  86,\n",
       "         66,   2,   4, 144,  15,   8, 109, 111, 162,  37, 153,   8, 194,\n",
       "         92,  83, 101,  57,  69, 135,  13,  41,  32,  26,  92,  59,  76,\n",
       "        150,  50, 195, 180, 153, 143, 130,  77, 170,  29,  61,  86,  46,\n",
       "        147, 173, 131,  94,  16, 184,   8, 109,  21, 196, 138,  60, 174,\n",
       "        175,  63,   8,  91,  49,  90,  77, 115, 102,  12, 173, 109, 181,\n",
       "        185, 123]),\n",
       " array([155,  49,  75, 145,  53, 112, 156,  75, 126, 146, 167, 143,  94,\n",
       "         80,   5,  86,  79,  16,   6,  56,   2,   7,  24, 106, 118,  31,\n",
       "         81,  98, 183, 112, 179, 196,  79,  45, 195, 134, 150, 158,  97,\n",
       "        146,  21, 111, 144,  67, 133,  60, 187, 104, 155, 118, 134,  84,\n",
       "        150, 170, 147, 161, 121, 139, 149,   8,  41,  66, 120, 106, 186,\n",
       "         42, 104, 171, 132,  56,   0,  74, 190, 115, 131,  20, 136, 185,\n",
       "         21,   1, 132, 117,  82, 192, 137, 113,  26,  36, 103,   3, 134,\n",
       "         88,  84, 152, 148, 135, 155, 140,  45, 158, 102, 119, 115,  61,\n",
       "         71, 104, 134,  39,  64, 106, 152,  44, 111,  45, 122,  85,   5,\n",
       "        108, 186,   3, 180,  49,  59,  82,  22, 145, 134, 156, 144, 186,\n",
       "         47, 146, 186, 183, 169, 129, 130, 120, 110,   0,  46, 124,  41,\n",
       "         87,  50, 165,  39,  65,  27,  27, 112, 104,  55,  57,  74,  72,\n",
       "        131,  84, 103, 144,  19,  53,  94, 154,  98,  21, 182, 106, 154,\n",
       "         92,  72, 192,  86,  64, 141, 191,   6,  74,  11,  52,   8, 141,\n",
       "        171,  80,  85, 114,  83, 115, 162, 112,  94, 151,  80, 135,  46,\n",
       "         54,  92]),\n",
       " array([ 64,  17,  47,  63,  20, 115,  84, 179,  92,  77, 184, 181,  56,\n",
       "          5, 193, 191,  15, 173, 130, 187, 190, 151,  44,  47,  77, 154,\n",
       "         14, 131,  58, 168, 186,  67,  23,  92, 166,  79, 187,  66,  68,\n",
       "         96, 133, 121,  90,  96,  33,   8,  57, 169,  33, 155, 128, 169,\n",
       "        146, 125,  73,  48,  53, 102, 148,  49,  25, 136,  59,  97,  88,\n",
       "        141,  65, 121, 194,  72, 170,  88, 154, 167, 163, 127, 165,  50,\n",
       "        104,  87,  54, 140,  59, 154, 129,  81, 145, 185,  42, 169, 160,\n",
       "         85, 166,  50, 142, 133,  89,  70,  80, 100,  34, 181, 165,  93,\n",
       "         76,  30, 194,  55, 184, 170, 182,  15,  11,  85, 104, 188,  23,\n",
       "        159, 104,  62,  72, 183, 104, 172, 168, 185,  61, 130,   0, 180,\n",
       "        111, 158,  65,  89, 107, 172, 185,  76,  93, 187, 183, 190,  55,\n",
       "        150, 118,  18,  12, 138,  25,  62,  92, 133,  65, 121,  65,  16,\n",
       "        111, 115,  91,  59,  17, 135,  83, 147, 109,  82, 112, 159,  28,\n",
       "        107, 164,  93,  69, 195,  73,  98, 185,  13,  17, 167,  92, 196,\n",
       "         50,   4,  32, 196, 115, 174, 151, 185, 163, 149, 121, 102, 142,\n",
       "         26,  73]),\n",
       " array([ 27,  33, 185,  28,  89,  14,  38, 148,  59, 154,  43,  58,  56,\n",
       "        125,  87,  95, 139, 118,  68,  64, 133, 183, 196,  97, 152,  51,\n",
       "         72, 110, 166, 113, 130, 189,  95, 123,   8, 174,  42, 134, 190,\n",
       "        188,  71, 138,  25,  66, 105, 110,  63,  48, 122,   9, 173,  10,\n",
       "        166,  61, 164,  21, 183,  35, 113,  83,  10,  63,  62, 186, 117,\n",
       "        112,  77, 153, 154, 158,  20,   6, 138,  93,  61, 131,  36,   4,\n",
       "         81,  31,  78,   4, 138, 192,  22,  50,  32,   9, 125,  98, 141,\n",
       "          5,  99,  45,  37, 128,  67,  73, 116, 165, 112, 145, 190,  97,\n",
       "         45, 154,  41, 145, 150, 115,  86,   7,  26,  52, 132, 150,  36,\n",
       "        125, 178, 115, 162,  26,  55, 132, 117,   1, 174,  60, 131,  85,\n",
       "        100, 151,  92,  23,  80, 183,  47,  72, 186,  92,  48, 160,   4,\n",
       "        177,  72,  67,  28, 131,  14,  38, 177, 174, 151,  21, 104,  56,\n",
       "        181, 129, 188, 150,  93,  15, 131,  30, 115, 140,  39,  93,  20,\n",
       "         76,  39,  57, 103,  40, 171,  13, 193,   2,  44, 189,   7, 137,\n",
       "        169, 123,  85,   5,  39,  98,  10,  68, 105, 130,  45, 178,  16,\n",
       "         49,  13]),\n",
       " array([ 32, 142, 131,  31,  49, 154,  76,  77,  75, 162, 164,  89, 151,\n",
       "         54, 189,  53, 127,  69, 185, 189,  99, 189, 139, 151,  33, 170,\n",
       "        133,  37, 167,  94, 174,  43,  74,  77,  40,  32,  64,  47, 112,\n",
       "         44, 126,   4,  84, 173,  37, 105,  53,  60, 152, 187,  17,   8,\n",
       "        157, 145, 129, 119, 172, 146,   9,  15, 163,  64,  82, 135, 179,\n",
       "         20,  30,  48,  16,  31, 101,  88,  95, 183, 164,  90, 162,  27,\n",
       "        120, 148,  86, 153, 140,  28, 103,  72, 165, 194,  74,  86,  81,\n",
       "        106, 123, 171,  92, 157, 134, 101, 118,  42, 178, 115, 117, 114,\n",
       "         18,  19,   6, 171, 117,  12, 132,  25, 153, 140,  10, 156, 144,\n",
       "         77,  95,  98, 179,  34,   2,  63, 113,  12,  90,  66, 193,  17,\n",
       "          3, 184, 135,  90,  60,  10,  12, 158,  12, 123,  26, 194,  69,\n",
       "         44,  30,   8, 147,  50, 166, 165, 149, 105,  34, 113, 188,  97,\n",
       "         73, 127,  18, 131,  27,  74, 149, 192, 194,  47,  83, 174,  54,\n",
       "         48, 120, 170,   7, 158,  56, 101, 158, 109,  18, 196,  55,  74,\n",
       "        179,  39,  66, 159,  64, 106,  36,  28,  77, 119,  77,  19, 191,\n",
       "        119, 146]),\n",
       " array([ 16,  71,  31,  85,  44, 136, 163,  16, 137, 108, 179,   0, 185,\n",
       "         48,   7, 175, 154,  87,   7, 160,  56, 101, 131,  15, 146, 136,\n",
       "         25,  29,  80, 138,  97,  91,  25,  84,  56, 110, 164, 146,  96,\n",
       "         67,  25, 122,   4,  62, 101,  86,  52,   2, 144,   7,  48, 153,\n",
       "         24,  40,  33,   6,  38,  41, 141,  54, 107,  38, 135, 161, 151,\n",
       "          9, 164, 161, 149,  67,  62,  74,  21,  13, 121,  14,  51,  20,\n",
       "         13, 114, 166, 192, 113, 157, 145, 160,  36, 132, 177,  42, 150,\n",
       "        185,  20,  21, 148, 136, 184, 112,  37, 126, 116,   6, 167,  88,\n",
       "         60, 162,  77, 172,  71, 193,  42,   9,  44, 162,  25, 144, 134,\n",
       "         14, 143, 133, 175, 148,  83,   3,  83, 119,  59,  14, 153, 103,\n",
       "        114,  46,  79,  83,  19, 126, 189, 166,  83, 144,  53,  83, 186,\n",
       "         20,  61, 107, 120, 111,  26,  62,  19, 130, 105,  72,  61, 191,\n",
       "         88,  42,  70,  19,  14,  29,   3, 189, 136, 113,  37, 148, 123,\n",
       "          1, 150,  87, 169,  75, 132,  75,  28, 164,  26, 117, 126,  14,\n",
       "         94,  32,  59, 175,  32,   1,  22, 107, 108, 111, 113, 176,  94,\n",
       "         48,  54]),\n",
       " array([ 89,  56, 152,  89, 139,  40,  81,   7, 117,   6, 101, 167, 109,\n",
       "        179, 103,  81, 169,  24,  60,  40,   2,  94,  60, 151,  13,  22,\n",
       "        115, 190, 129,  18,  50, 185,   3, 136,  42,  88, 104, 151,  15,\n",
       "         82,  75,  78, 178, 110,  31,  22,   3,  87, 134, 130, 151,  98,\n",
       "         88, 163, 106,  70,  40, 106, 132,  80,  47,  42,  88,  97,  35,\n",
       "         31,  89,  95,  18,  91, 148, 149,  32, 140, 148, 138, 190,  67,\n",
       "          1, 188,  50, 102, 191,  11,  23,  48,  39,  18,  21,  70, 128,\n",
       "        125, 175, 108,  84, 122, 190,  33, 192, 146, 156, 104, 107,  75,\n",
       "         81, 145, 147,  40, 122, 140,  51, 187, 156, 193, 100, 165, 185,\n",
       "         17, 139, 172, 101, 147, 186, 124, 164,  76,  56, 161, 105,  56,\n",
       "        188,  53,  36, 144, 136,  56,   6,  52, 168, 100,  32, 126, 159,\n",
       "        195, 127,  43,  15, 192, 177,  77, 163, 111, 193, 186,   7, 100,\n",
       "        148,  86,  24,  56, 104, 166, 128,  76,  39,  88, 131, 113, 125,\n",
       "         32, 175, 136,  74, 146,  52,  34,   9, 120,  63, 178,  19, 190,\n",
       "        194, 111,  58,  29,  79,  61,   0,  96, 182,  86,  90, 143,  54,\n",
       "         60,  14]),\n",
       " array([105,  57, 175,  44, 108,  25, 194,  44,  90, 174,  45,   0,  92,\n",
       "         92, 121, 113,  69, 153,  25, 193, 188, 127, 189, 134,   2,  19,\n",
       "        105,  62,  42,  90, 149, 147,  67, 147, 119,  45, 160, 107, 129,\n",
       "         28,  87, 160, 179,  15, 137, 146,  87, 144, 127, 186, 126,  83,\n",
       "         60, 182, 179,  28,  60,  87,  78,  84, 124, 135, 108, 124,  29,\n",
       "        169, 132, 189,  77, 101,  56, 124, 181,  41,  37,   3,  83,  94,\n",
       "        122,  13,  31,  52,   5, 136,  46, 177,  59,  65, 192, 160,  93,\n",
       "          7, 190, 112,   7, 120,   3, 196, 128, 125,  84, 139,  89,  43,\n",
       "         75,  58,  37,   3,  84, 121,  60,  74,  35,  59, 188, 136, 162,\n",
       "        132,   3,  75,   9,  16, 103,   2, 159,  71,  24, 165,  59,  78,\n",
       "         46,  52,  48, 101,   4, 165, 167,  29,   4,  12, 196, 101, 192,\n",
       "        162,  58,  93,  45,  64,  11,  76, 136, 195,  85, 110, 179, 184,\n",
       "        141,  58,  55,  45,  16,  20,  41,  70, 103,  66, 128, 191, 194,\n",
       "        142,  69, 115,  83,  48, 165,  13,  67,  70, 176, 114,   7,  52,\n",
       "          2, 146, 122, 181,  36, 189,  57,   7,  81, 123, 129,  91, 100,\n",
       "         77,  39])]"
      ]
     },
     "execution_count": 209,
     "metadata": {},
     "output_type": "execute_result"
    }
   ],
   "source": [
    "bag_model.estimators_samples_"
   ]
  },
  {
   "cell_type": "code",
   "execution_count": 210,
   "id": "0d2904d9",
   "metadata": {},
   "outputs": [
    {
     "data": {
      "text/plain": [
       "[array([10,  2, 11, 18, 13,  0,  7, 13, 17,  2,  0,  5, 15,  3,  1,  0,  8,\n",
       "        13,  4]),\n",
       " array([ 0, 14, 18, 16,  7,  2, 13, 14,  1,  3,  9,  0, 11,  0, 18, 10,  0,\n",
       "        11, 16]),\n",
       " array([10,  9, 11,  7, 15, 10,  0,  6, 17, 10, 10,  2, 12,  4,  1,  6,  5,\n",
       "        15, 12]),\n",
       " array([ 0, 17,  4,  3, 11, 13, 14,  8,  3, 15,  8,  1, 14, 17, 13, 15, 14,\n",
       "        10, 11]),\n",
       " array([ 7, 17,  0,  4,  9, 14,  3,  9,  5, 10,  0, 12,  5, 17,  5,  1,  1,\n",
       "        16,  3]),\n",
       " array([ 6, 18, 16,  3,  5,  7,  6, 17, 15, 12,  6,  7, 13,  3, 15,  9, 15,\n",
       "        17, 17]),\n",
       " array([12,  3, 11,  6, 15, 17, 13, 15, 17,  6, 15,  9,  8, 11,  9, 12, 14,\n",
       "         6, 11]),\n",
       " array([ 0, 18,  9,  8,  0,  0, 10, 17, 15,  1,  0, 10, 12,  7, 10,  7,  2,\n",
       "         0,  9]),\n",
       " array([ 2,  8, 10, 15, 13, 13, 10, 13, 13, 18, 13, 18, 14, 11, 12,  2, 15,\n",
       "        15,  6]),\n",
       " array([14,  4,  4, 16,  4, 17,  7,  8, 13,  1, 18, 12,  2, 16,  6, 11,  5,\n",
       "         0,  2])]"
      ]
     },
     "execution_count": 210,
     "metadata": {},
     "output_type": "execute_result"
    }
   ],
   "source": [
    "bag_model.estimators_features_"
   ]
  },
  {
   "cell_type": "code",
   "execution_count": 213,
   "id": "6a6b7052",
   "metadata": {},
   "outputs": [
    {
     "data": {
      "text/plain": [
       "{'ccp_alpha': 0.0,\n",
       " 'criterion': 'squared_error',\n",
       " 'max_depth': None,\n",
       " 'max_features': None,\n",
       " 'max_leaf_nodes': None,\n",
       " 'min_impurity_decrease': 0.0,\n",
       " 'min_samples_leaf': 1,\n",
       " 'min_samples_split': 2,\n",
       " 'min_weight_fraction_leaf': 0.0,\n",
       " 'random_state': 1395498400,\n",
       " 'splitter': 'best'}"
      ]
     },
     "execution_count": 213,
     "metadata": {},
     "output_type": "execute_result"
    }
   ],
   "source": [
    "bag_model.estimators_[1].get_params()"
   ]
  },
  {
   "cell_type": "code",
   "execution_count": 214,
   "id": "7087250a",
   "metadata": {},
   "outputs": [],
   "source": [
    "y_pred = bag_model.predict(X_test)"
   ]
  },
  {
   "cell_type": "code",
   "execution_count": 215,
   "id": "9ce96310",
   "metadata": {},
   "outputs": [
    {
     "data": {
      "text/plain": [
       "347.2657232635051"
      ]
     },
     "execution_count": 215,
     "metadata": {},
     "output_type": "execute_result"
    }
   ],
   "source": [
    "np.sqrt(mean_squared_error(y_test,y_pred))"
   ]
  },
  {
   "cell_type": "code",
   "execution_count": 230,
   "id": "a8c6c79d",
   "metadata": {},
   "outputs": [],
   "source": [
    "yedi_y_pred = bag_model.estimators_[4].fit(X_train,y_train).predict(X_test)"
   ]
  },
  {
   "cell_type": "code",
   "execution_count": 231,
   "id": "7f28b256",
   "metadata": {},
   "outputs": [
    {
     "data": {
      "text/plain": [
       "438.82062405578904"
      ]
     },
     "execution_count": 231,
     "metadata": {},
     "output_type": "execute_result"
    }
   ],
   "source": [
    "np.sqrt(mean_squared_error(y_test,yedi_y_pred))"
   ]
  },
  {
   "cell_type": "code",
   "execution_count": 232,
   "id": "b17b0b59",
   "metadata": {},
   "outputs": [
    {
     "data": {
      "text/plain": [
       "BaggingRegressor(bootstrap_features=True)"
      ]
     },
     "execution_count": 232,
     "metadata": {},
     "output_type": "execute_result"
    }
   ],
   "source": [
    "bag_model = BaggingRegressor(bootstrap_features= True)\n",
    "bag_model.fit(X_train,y_train)"
   ]
  },
  {
   "cell_type": "code",
   "execution_count": 233,
   "id": "3de3c24c",
   "metadata": {},
   "outputs": [],
   "source": [
    "bag_params = {\"n_estimators\" : range(2,20),\n",
    "             }"
   ]
  },
  {
   "cell_type": "code",
   "execution_count": 234,
   "id": "cbac3759",
   "metadata": {},
   "outputs": [],
   "source": [
    "bag_cv_model = GridSearchCV(bag_model,bag_params,cv=10)"
   ]
  },
  {
   "cell_type": "code",
   "execution_count": 235,
   "id": "56841002",
   "metadata": {},
   "outputs": [
    {
     "data": {
      "text/plain": [
       "GridSearchCV(cv=10, estimator=BaggingRegressor(bootstrap_features=True),\n",
       "             param_grid={'n_estimators': range(2, 20)})"
      ]
     },
     "execution_count": 235,
     "metadata": {},
     "output_type": "execute_result"
    }
   ],
   "source": [
    "bag_cv_model.fit(X_train,y_train)"
   ]
  },
  {
   "cell_type": "code",
   "execution_count": 236,
   "id": "d16f5090",
   "metadata": {},
   "outputs": [
    {
     "data": {
      "text/plain": [
       "{'n_estimators': 13}"
      ]
     },
     "execution_count": 236,
     "metadata": {},
     "output_type": "execute_result"
    }
   ],
   "source": [
    "bag_cv_model.best_params_"
   ]
  },
  {
   "cell_type": "code",
   "execution_count": 237,
   "id": "70a6f23c",
   "metadata": {},
   "outputs": [],
   "source": [
    "bag_tuned = BaggingRegressor(n_estimators=14,random_state=45)"
   ]
  },
  {
   "cell_type": "code",
   "execution_count": 238,
   "id": "2a7d438d",
   "metadata": {},
   "outputs": [
    {
     "data": {
      "text/plain": [
       "BaggingRegressor(n_estimators=14, random_state=45)"
      ]
     },
     "execution_count": 238,
     "metadata": {},
     "output_type": "execute_result"
    }
   ],
   "source": [
    "bag_tuned.fit(X_train,y_train)"
   ]
  },
  {
   "cell_type": "code",
   "execution_count": 239,
   "id": "40d96350",
   "metadata": {},
   "outputs": [],
   "source": [
    "y_pred = bag_tuned.predict(X_test)"
   ]
  },
  {
   "cell_type": "code",
   "execution_count": 240,
   "id": "22d4575b",
   "metadata": {},
   "outputs": [
    {
     "data": {
      "text/plain": [
       "346.457987188104"
      ]
     },
     "execution_count": 240,
     "metadata": {},
     "output_type": "execute_result"
    }
   ],
   "source": [
    "np.sqrt(mean_squared_error(y_test,y_pred))"
   ]
  },
  {
   "cell_type": "code",
   "execution_count": 241,
   "id": "f54287fc",
   "metadata": {},
   "outputs": [],
   "source": [
    "hit = pd.read_csv(\"Hitters.csv\")\n",
    "df = hit.copy()\n",
    "df = df.dropna()\n",
    "dms = pd.get_dummies(df[['League', 'Division', 'NewLeague']])\n",
    "y = df[\"Salary\"]\n",
    "X_ = df.drop(['Salary', 'League', 'Division', 'NewLeague'], axis=1).astype('float64')\n",
    "X = pd.concat([X_, dms[['League_N', 'Division_W', 'NewLeague_N']]], axis=1)\n",
    "X_train, X_test, y_train, y_test = train_test_split(X, y, \n",
    "                                                    test_size=0.25, \n",
    "                                                    random_state=42)"
   ]
  },
  {
   "cell_type": "code",
   "execution_count": 242,
   "id": "7fff5356",
   "metadata": {},
   "outputs": [],
   "source": [
    "from sklearn.ensemble import RandomForestRegressor"
   ]
  },
  {
   "cell_type": "code",
   "execution_count": 243,
   "id": "7ccf7dca",
   "metadata": {},
   "outputs": [],
   "source": [
    "rf_model = RandomForestRegressor(random_state=42)"
   ]
  },
  {
   "cell_type": "code",
   "execution_count": 244,
   "id": "c3b142fc",
   "metadata": {},
   "outputs": [
    {
     "data": {
      "text/plain": [
       "RandomForestRegressor(random_state=42)"
      ]
     },
     "execution_count": 244,
     "metadata": {},
     "output_type": "execute_result"
    }
   ],
   "source": [
    "rf_model.fit(X_train,y_train)"
   ]
  },
  {
   "cell_type": "code",
   "execution_count": 245,
   "id": "c30556b9",
   "metadata": {},
   "outputs": [
    {
     "data": {
      "text/plain": [
       "{'bootstrap': True,\n",
       " 'ccp_alpha': 0.0,\n",
       " 'criterion': 'squared_error',\n",
       " 'max_depth': None,\n",
       " 'max_features': 'auto',\n",
       " 'max_leaf_nodes': None,\n",
       " 'max_samples': None,\n",
       " 'min_impurity_decrease': 0.0,\n",
       " 'min_samples_leaf': 1,\n",
       " 'min_samples_split': 2,\n",
       " 'min_weight_fraction_leaf': 0.0,\n",
       " 'n_estimators': 100,\n",
       " 'n_jobs': None,\n",
       " 'oob_score': False,\n",
       " 'random_state': 42,\n",
       " 'verbose': 0,\n",
       " 'warm_start': False}"
      ]
     },
     "execution_count": 245,
     "metadata": {},
     "output_type": "execute_result"
    }
   ],
   "source": [
    "rf_model.get_params()"
   ]
  },
  {
   "cell_type": "code",
   "execution_count": 250,
   "id": "314b04ea",
   "metadata": {},
   "outputs": [],
   "source": [
    "y_pred=rf_model.predict(X_test)"
   ]
  },
  {
   "cell_type": "code",
   "execution_count": 251,
   "id": "1b60fb0c",
   "metadata": {},
   "outputs": [
    {
     "data": {
      "text/plain": [
       "344.8191624908484"
      ]
     },
     "execution_count": 251,
     "metadata": {},
     "output_type": "execute_result"
    }
   ],
   "source": [
    "np.sqrt(mean_squared_error(y_test,y_pred))"
   ]
  },
  {
   "cell_type": "code",
   "execution_count": 257,
   "id": "27303579",
   "metadata": {},
   "outputs": [],
   "source": [
    "rf_params = {\"max_depth\" : list(range(1,10)),\n",
    "            \"max_features\" : [3,5,10,15],\n",
    "            \"n_estimators\" : [100,200,500,1000,2000]}"
   ]
  },
  {
   "cell_type": "code",
   "execution_count": 258,
   "id": "4091a71a",
   "metadata": {},
   "outputs": [],
   "source": [
    "rf_model = RandomForestRegressor(random_state=42)"
   ]
  },
  {
   "cell_type": "code",
   "execution_count": 259,
   "id": "7264a657",
   "metadata": {},
   "outputs": [],
   "source": [
    "rf_cv_model = GridSearchCV(rf_model,rf_params , cv=10 ,n_jobs=-1)"
   ]
  },
  {
   "cell_type": "code",
   "execution_count": 260,
   "id": "586c1fea",
   "metadata": {},
   "outputs": [
    {
     "data": {
      "text/plain": [
       "GridSearchCV(cv=10, estimator=RandomForestRegressor(random_state=42), n_jobs=-1,\n",
       "             param_grid={'max_depth': [1, 2, 3, 4, 5, 6, 7, 8, 9],\n",
       "                         'max_features': [3, 5, 10, 15],\n",
       "                         'n_estimators': [100, 200, 500, 1000, 2000]})"
      ]
     },
     "execution_count": 260,
     "metadata": {},
     "output_type": "execute_result"
    }
   ],
   "source": [
    "rf_cv_model.fit(X_train,y_train)"
   ]
  },
  {
   "cell_type": "code",
   "execution_count": 261,
   "id": "7927e239",
   "metadata": {},
   "outputs": [
    {
     "data": {
      "text/plain": [
       "{'max_depth': 8, 'max_features': 3, 'n_estimators': 200}"
      ]
     },
     "execution_count": 261,
     "metadata": {},
     "output_type": "execute_result"
    }
   ],
   "source": [
    "rf_cv_model.best_params_"
   ]
  },
  {
   "cell_type": "code",
   "execution_count": 266,
   "id": "23d44ffb",
   "metadata": {},
   "outputs": [],
   "source": [
    "rf_tuned = RandomForestRegressor(max_depth=8,max_features=3,n_estimators=200)"
   ]
  },
  {
   "cell_type": "code",
   "execution_count": 267,
   "id": "0b4b3350",
   "metadata": {},
   "outputs": [
    {
     "data": {
      "text/plain": [
       "RandomForestRegressor(max_depth=8, max_features=3, n_estimators=200)"
      ]
     },
     "execution_count": 267,
     "metadata": {},
     "output_type": "execute_result"
    }
   ],
   "source": [
    "rf_tuned.fit(X_train,y_train)"
   ]
  },
  {
   "cell_type": "code",
   "execution_count": 268,
   "id": "6b2137dc",
   "metadata": {},
   "outputs": [],
   "source": [
    "y_pred = rf_tuned.predict(X_test)"
   ]
  },
  {
   "cell_type": "code",
   "execution_count": 269,
   "id": "bba7bd5a",
   "metadata": {},
   "outputs": [
    {
     "data": {
      "text/plain": [
       "343.73068283684216"
      ]
     },
     "execution_count": 269,
     "metadata": {},
     "output_type": "execute_result"
    }
   ],
   "source": [
    "np.sqrt(mean_squared_error(y_test,y_pred))"
   ]
  },
  {
   "cell_type": "code",
   "execution_count": 270,
   "id": "f20b3d58",
   "metadata": {},
   "outputs": [],
   "source": [
    "Importance = pd.DataFrame({\"Importance\" : rf_tuned.feature_importances_*100},\n",
    "                         index= X_train.columns)"
   ]
  },
  {
   "cell_type": "code",
   "execution_count": 275,
   "id": "39fb02b1",
   "metadata": {},
   "outputs": [
    {
     "data": {
      "image/png": "[encoded data removed]",
      "text/plain": [
       "<Figure size 432x288 with 1 Axes>"
      ]
     },
     "metadata": {
      "needs_background": "light"
     },
     "output_type": "display_data"
    }
   ],
   "source": [
    "Importance.sort_values(by = \"Importance\",axis=0,ascending=True).plot(kind=\"barh\",\n",
    "                                                                    color = \"r\")\n",
    "plt.xlabel(\"Değişkenlerin Önem Düzeyi\");"
   ]
  },
  {
   "cell_type": "code",
   "execution_count": 276,
   "id": "c99bd9c3",
   "metadata": {},
   "outputs": [],
   "source": [
    "from sklearn.ensemble import GradientBoostingRegressor"
   ]
  },
  {
   "cell_type": "code",
   "execution_count": 291,
   "id": "cc3c555b",
   "metadata": {},
   "outputs": [],
   "source": [
    "gbm_model = GradientBoostingRegressor(random_state=42)"
   ]
  },
  {
   "cell_type": "code",
   "execution_count": 292,
   "id": "0d9d5651",
   "metadata": {},
   "outputs": [
    {
     "data": {
      "text/plain": [
       "GradientBoostingRegressor(random_state=42)"
      ]
     },
     "execution_count": 292,
     "metadata": {},
     "output_type": "execute_result"
    }
   ],
   "source": [
    "gbm_model.fit(X_train,y_train)"
   ]
  },
  {
   "cell_type": "code",
   "execution_count": 293,
   "id": "d5ab53a0",
   "metadata": {},
   "outputs": [
    {
     "data": {
      "text/plain": [
       "{'alpha': 0.9,\n",
       " 'ccp_alpha': 0.0,\n",
       " 'criterion': 'friedman_mse',\n",
       " 'init': None,\n",
       " 'learning_rate': 0.1,\n",
       " 'loss': 'squared_error',\n",
       " 'max_depth': 3,\n",
       " 'max_features': None,\n",
       " 'max_leaf_nodes': None,\n",
       " 'min_impurity_decrease': 0.0,\n",
       " 'min_samples_leaf': 1,\n",
       " 'min_samples_split': 2,\n",
       " 'min_weight_fraction_leaf': 0.0,\n",
       " 'n_estimators': 100,\n",
       " 'n_iter_no_change': None,\n",
       " 'random_state': 42,\n",
       " 'subsample': 1.0,\n",
       " 'tol': 0.0001,\n",
       " 'validation_fraction': 0.1,\n",
       " 'verbose': 0,\n",
       " 'warm_start': False}"
      ]
     },
     "execution_count": 293,
     "metadata": {},
     "output_type": "execute_result"
    }
   ],
   "source": [
    "gbm_model.get_params()"
   ]
  },
  {
   "cell_type": "code",
   "execution_count": 294,
   "id": "0f00e8dc",
   "metadata": {},
   "outputs": [
    {
     "data": {
      "text/plain": [
       "355.0911760640623"
      ]
     },
     "execution_count": 294,
     "metadata": {},
     "output_type": "execute_result"
    }
   ],
   "source": [
    "y_pred = gbm_model.predict(X_test)\n",
    "np.sqrt(mean_squared_error(y_test,y_pred))"
   ]
  },
  {
   "cell_type": "code",
   "execution_count": 295,
   "id": "d23b6c2b",
   "metadata": {},
   "outputs": [],
   "source": [
    "gbm_params = {\n",
    "    \"learning_rate\":[0.001,0.001,0.1,0.2],\n",
    "    \"max_depth\":[3,5,8,50,100],\n",
    "    \"n_estimators\":[200,500,1000,2000],\n",
    "    \"subsample\" : [1,0.5,0.75]\n",
    "}"
   ]
  },
  {
   "cell_type": "code",
   "execution_count": 296,
   "id": "d1546d1d",
   "metadata": {},
   "outputs": [],
   "source": [
    "gbm = GradientBoostingRegressor(random_state=42)\n",
    "gbm_cv_model = GridSearchCV(gbm,gbm_params,cv=10,n_jobs=-1,verbose=2)"
   ]
  },
  {
   "cell_type": "code",
   "execution_count": 297,
   "id": "3e2da2a4",
   "metadata": {},
   "outputs": [
    {
     "name": "stdout",
     "output_type": "stream",
     "text": [
      "Fitting 10 folds for each of 240 candidates, totalling 2400 fits\n"
     ]
    },
    {
     "data": {
      "text/plain": [
       "GridSearchCV(cv=10, estimator=GradientBoostingRegressor(random_state=42),\n",
       "             n_jobs=-1,\n",
       "             param_grid={'learning_rate': [0.001, 0.001, 0.1, 0.2],\n",
       "                         'max_depth': [3, 5, 8, 50, 100],\n",
       "                         'n_estimators': [200, 500, 1000, 2000],\n",
       "                         'subsample': [1, 0.5, 0.75]},\n",
       "             verbose=2)"
      ]
     },
     "execution_count": 297,
     "metadata": {},
     "output_type": "execute_result"
    }
   ],
   "source": [
    "gbm_cv_model.fit(X_train,y_train)"
   ]
  },
  {
   "cell_type": "code",
   "execution_count": 298,
   "id": "299215d8",
   "metadata": {},
   "outputs": [
    {
     "data": {
      "text/plain": [
       "{'learning_rate': 0.1, 'max_depth': 3, 'n_estimators': 500, 'subsample': 0.75}"
      ]
     },
     "execution_count": 298,
     "metadata": {},
     "output_type": "execute_result"
    }
   ],
   "source": [
    "gbm_cv_model.best_params_"
   ]
  },
  {
   "cell_type": "code",
   "execution_count": 308,
   "id": "ff57d3a1",
   "metadata": {},
   "outputs": [],
   "source": [
    "gbm_tuned = GradientBoostingRegressor(learning_rate=0.1,\n",
    "                                     max_depth= 5,\n",
    "                                     n_estimators=200,\n",
    "                                     subsample=0.5)"
   ]
  },
  {
   "cell_type": "code",
   "execution_count": 309,
   "id": "87c2d15e",
   "metadata": {},
   "outputs": [],
   "source": [
    "gbm_tuned = gbm_tuned.fit(X_train,y_train)"
   ]
  },
  {
   "cell_type": "code",
   "execution_count": 320,
   "id": "ade7e637",
   "metadata": {},
   "outputs": [
    {
     "data": {
      "text/plain": [
       "331.62329116085425"
      ]
     },
     "execution_count": 320,
     "metadata": {},
     "output_type": "execute_result"
    }
   ],
   "source": [
    "y_pred = gbm_tuned.predict(X_test)\n",
    "np.sqrt(mean_squared_error(y_test,y_pred))"
   ]
  },
  {
   "cell_type": "code",
   "execution_count": 312,
   "id": "f70693f2",
   "metadata": {},
   "outputs": [
    {
     "name": "stdout",
     "output_type": "stream",
     "text": [
      "Collecting xgboost\n",
      "  Downloading xgboost-1.7.5-py3-none-win_amd64.whl (70.9 MB)\n",
      "Requirement already satisfied: scipy in c:\\users\\sl\\anaconda3\\lib\\site-packages (from xgboost) (1.7.3)\n",
      "Requirement already satisfied: numpy in c:\\users\\sl\\anaconda3\\lib\\site-packages (from xgboost) (1.21.5)\n",
      "Installing collected packages: xgboost\n",
      "Successfully installed xgboost-1.7.5\n",
      "^C\n",
      "Note: you may need to restart the kernel to use updated packages.\n"
     ]
    }
   ],
   "source": [
    "pip install xgboost"
   ]
  },
  {
   "cell_type": "code",
   "execution_count": 313,
   "id": "e9f809c5",
   "metadata": {},
   "outputs": [],
   "source": [
    "import xgboost as xgb"
   ]
  },
  {
   "cell_type": "code",
   "execution_count": 314,
   "id": "d341d158",
   "metadata": {},
   "outputs": [],
   "source": [
    "MD_train = xgb.DMatrix(data=X_train,label=y_train)"
   ]
  },
  {
   "cell_type": "code",
   "execution_count": 315,
   "id": "ec25c4fa",
   "metadata": {},
   "outputs": [],
   "source": [
    "MD_test = xgb.DMatrix(data=X_test,label=y_test)"
   ]
  },
  {
   "cell_type": "code",
   "execution_count": 316,
   "id": "47182797",
   "metadata": {},
   "outputs": [],
   "source": [
    "from xgboost import XGBRegressor"
   ]
  },
  {
   "cell_type": "code",
   "execution_count": 318,
   "id": "87be8846",
   "metadata": {},
   "outputs": [],
   "source": [
    "xgb_model = XGBRegressor().fit(X_train,y_train)"
   ]
  },
  {
   "cell_type": "code",
   "execution_count": 324,
   "id": "6a52fc37",
   "metadata": {},
   "outputs": [
    {
     "data": {
      "text/plain": [
       "355.46515176059927"
      ]
     },
     "execution_count": 324,
     "metadata": {},
     "output_type": "execute_result"
    }
   ],
   "source": [
    "y_pred = xgb_model.predict(X_test)\n",
    "np.sqrt(mean_squared_error(y_test,y_pred))"
   ]
  },
  {
   "cell_type": "code",
   "execution_count": 325,
   "id": "276ad4f3",
   "metadata": {},
   "outputs": [
    {
     "data": {
      "text/plain": [
       "{'objective': 'reg:squarederror',\n",
       " 'base_score': None,\n",
       " 'booster': None,\n",
       " 'callbacks': None,\n",
       " 'colsample_bylevel': None,\n",
       " 'colsample_bynode': None,\n",
       " 'colsample_bytree': None,\n",
       " 'early_stopping_rounds': None,\n",
       " 'enable_categorical': False,\n",
       " 'eval_metric': None,\n",
       " 'feature_types': None,\n",
       " 'gamma': None,\n",
       " 'gpu_id': None,\n",
       " 'grow_policy': None,\n",
       " 'importance_type': None,\n",
       " 'interaction_constraints': None,\n",
       " 'learning_rate': None,\n",
       " 'max_bin': None,\n",
       " 'max_cat_threshold': None,\n",
       " 'max_cat_to_onehot': None,\n",
       " 'max_delta_step': None,\n",
       " 'max_depth': None,\n",
       " 'max_leaves': None,\n",
       " 'min_child_weight': None,\n",
       " 'missing': nan,\n",
       " 'monotone_constraints': None,\n",
       " 'n_estimators': 100,\n",
       " 'n_jobs': None,\n",
       " 'num_parallel_tree': None,\n",
       " 'predictor': None,\n",
       " 'random_state': None,\n",
       " 'reg_alpha': None,\n",
       " 'reg_lambda': None,\n",
       " 'sampling_method': None,\n",
       " 'scale_pos_weight': None,\n",
       " 'subsample': None,\n",
       " 'tree_method': None,\n",
       " 'validate_parameters': None,\n",
       " 'verbosity': None}"
      ]
     },
     "execution_count": 325,
     "metadata": {},
     "output_type": "execute_result"
    }
   ],
   "source": [
    "xgb_model.get_params()"
   ]
  },
  {
   "cell_type": "code",
   "execution_count": 326,
   "id": "3e11d7cc",
   "metadata": {},
   "outputs": [],
   "source": [
    "xgb_grid = {\n",
    "     'colsample_bytree': [0.4, 0.5,0.6,0.9,1], \n",
    "     'n_estimators':[100, 200, 500, 1000],\n",
    "     'max_depth': [2,3,4,5,6],\n",
    "     'learning_rate': [0.1, 0.01, 0.5]\n",
    "}\n"
   ]
  },
  {
   "cell_type": "code",
   "execution_count": 327,
   "id": "b85e6a46",
   "metadata": {},
   "outputs": [
    {
     "name": "stdout",
     "output_type": "stream",
     "text": [
      "Fitting 10 folds for each of 300 candidates, totalling 3000 fits\n"
     ]
    },
    {
     "data": {
      "text/plain": [
       "GridSearchCV(cv=10,\n",
       "             estimator=XGBRegressor(base_score=None, booster=None,\n",
       "                                    callbacks=None, colsample_bylevel=None,\n",
       "                                    colsample_bynode=None,\n",
       "                                    colsample_bytree=None,\n",
       "                                    early_stopping_rounds=None,\n",
       "                                    enable_categorical=False, eval_metric=None,\n",
       "                                    feature_types=None, gamma=None, gpu_id=None,\n",
       "                                    grow_policy=None, importance_type=None,\n",
       "                                    interaction_constraints=None,\n",
       "                                    learning_rate=None,...\n",
       "                                    max_cat_to_onehot=None, max_delta_step=None,\n",
       "                                    max_depth=None, max_leaves=None,\n",
       "                                    min_child_weight=None, missing=nan,\n",
       "                                    monotone_constraints=None, n_estimators=100,\n",
       "                                    n_jobs=None, num_parallel_tree=None,\n",
       "                                    predictor=None, random_state=None, ...),\n",
       "             n_jobs=-1,\n",
       "             param_grid={'colsample_bytree': [0.4, 0.5, 0.6, 0.9, 1],\n",
       "                         'learning_rate': [0.1, 0.01, 0.5],\n",
       "                         'max_depth': [2, 3, 4, 5, 6],\n",
       "                         'n_estimators': [100, 200, 500, 1000]},\n",
       "             verbose=2)"
      ]
     },
     "execution_count": 327,
     "metadata": {},
     "output_type": "execute_result"
    }
   ],
   "source": [
    "xgb = XGBRegressor()\n",
    "\n",
    "xgb_cv = GridSearchCV(xgb, \n",
    "                      param_grid = xgb_grid, \n",
    "                      cv = 10, \n",
    "                      n_jobs = -1,\n",
    "                      verbose = 2)\n",
    "\n",
    "\n",
    "xgb_cv.fit(X_train, y_train)"
   ]
  },
  {
   "cell_type": "code",
   "execution_count": 328,
   "id": "918e3bc8",
   "metadata": {},
   "outputs": [
    {
     "data": {
      "text/plain": [
       "{'colsample_bytree': 0.5,\n",
       " 'learning_rate': 0.1,\n",
       " 'max_depth': 2,\n",
       " 'n_estimators': 500}"
      ]
     },
     "execution_count": 328,
     "metadata": {},
     "output_type": "execute_result"
    }
   ],
   "source": [
    "xgb_cv.best_params_"
   ]
  },
  {
   "cell_type": "code",
   "execution_count": 335,
   "id": "bf340907",
   "metadata": {},
   "outputs": [],
   "source": [
    "xgb_tuned = XGBRegressor(colsample_bytree = 0.5, \n",
    "                         learning_rate = 0.1, \n",
    "                         max_depth = 2, \n",
    "                         n_estimators = 500\n",
    "                        ) \n",
    "\n",
    "xgb_tuned = xgb_tuned.fit(X_train,y_train)"
   ]
  },
  {
   "cell_type": "code",
   "execution_count": 336,
   "id": "6d3273e8",
   "metadata": {},
   "outputs": [
    {
     "data": {
      "text/plain": [
       "346.0275204366939"
      ]
     },
     "execution_count": 336,
     "metadata": {},
     "output_type": "execute_result"
    }
   ],
   "source": [
    "y_pred = xgb_tuned.predict(X_test)\n",
    "np.sqrt(mean_squared_error(y_test, y_pred))"
   ]
  },
  {
   "cell_type": "code",
   "execution_count": 380,
   "id": "adcc3c0c",
   "metadata": {},
   "outputs": [],
   "source": [
    "hit = pd.read_csv(\"Hitters.csv\")\n",
    "df = hit.copy()\n",
    "df = df.dropna()\n",
    "dms = pd.get_dummies(df[['League', 'Division', 'NewLeague']])\n",
    "y = df[\"Salary\"]\n",
    "X_ = df.drop(['Salary', 'League', 'Division', 'NewLeague'], axis=1).astype('float64')\n",
    "X = pd.concat([X_, dms[['League_N', 'Division_W', 'NewLeague_N']]], axis=1)\n",
    "X_train, X_test, y_train, y_test = train_test_split(X, y, \n",
    "                                                    test_size=0.25, \n",
    "                                                    random_state=42)\n"
   ]
  },
  {
   "cell_type": "code",
   "execution_count": 338,
   "id": "97d92bf6",
   "metadata": {},
   "outputs": [
    {
     "name": "stdout",
     "output_type": "stream",
     "text": [
      "Collecting lightgbm\n",
      "  Downloading lightgbm-3.3.5-py3-none-win_amd64.whl (1.0 MB)\n",
      "Requirement already satisfied: wheel in c:\\users\\sl\\anaconda3\\lib\\site-packages (from lightgbm) (0.37.1)\n",
      "Requirement already satisfied: scipy in c:\\users\\sl\\anaconda3\\lib\\site-packages (from lightgbm) (1.7.3)\n",
      "Requirement already satisfied: numpy in c:\\users\\sl\\anaconda3\\lib\\site-packages (from lightgbm) (1.21.5)\n",
      "Requirement already satisfied: scikit-learn!=0.22.0 in c:\\users\\sl\\anaconda3\\lib\\site-packages (from lightgbm) (1.0.2)\n",
      "Requirement already satisfied: joblib>=0.11 in c:\\users\\sl\\anaconda3\\lib\\site-packages (from scikit-learn!=0.22.0->lightgbm) (1.1.0)\n",
      "Requirement already satisfied: threadpoolctl>=2.0.0 in c:\\users\\sl\\anaconda3\\lib\\site-packages (from scikit-learn!=0.22.0->lightgbm) (2.2.0)\n",
      "Installing collected packages: lightgbm\n",
      "Successfully installed lightgbm-3.3.5\n",
      "Note: you may need to restart the kernel to use updated packages.\n"
     ]
    }
   ],
   "source": [
    "pip install lightgbm"
   ]
  },
  {
   "cell_type": "code",
   "execution_count": 340,
   "id": "85911adb",
   "metadata": {},
   "outputs": [],
   "source": [
    "from lightgbm import LGBMRegressor"
   ]
  },
  {
   "cell_type": "code",
   "execution_count": 348,
   "id": "e356b56a",
   "metadata": {},
   "outputs": [],
   "source": [
    "lgbm = LGBMRegressor()\n",
    "lgbm_model = lgbm.fit(X_train,y_train)"
   ]
  },
  {
   "cell_type": "code",
   "execution_count": 349,
   "id": "291343bb",
   "metadata": {},
   "outputs": [
    {
     "data": {
      "text/plain": [
       "array([ 747.27577776,  696.56496327, 1374.39525293,  226.10183768,\n",
       "        490.34818367,  336.64087163,  244.51392282,  111.26504013,\n",
       "        926.39143875,  480.69726555,  833.68715554,  959.11510008,\n",
       "        561.11059387,   11.044985  ,  316.43085159, 1046.63003696,\n",
       "        949.81852398,  139.07151089,  887.86456737,  332.24159329,\n",
       "        271.41232292,  966.21414836,  665.68774684,  578.30645351,\n",
       "        539.6540439 ,  120.75243756,  666.04756043,  383.95478905,\n",
       "        790.34162095,  157.0221543 ,  240.28312963,  195.28663262,\n",
       "        592.38126362,  133.14658422,  277.19753471, 1256.0788298 ,\n",
       "       1238.8345811 ,  128.39790305,  175.1571059 ,  521.09030024,\n",
       "         91.04120916,   44.38359303,  624.31868447,  690.83444014,\n",
       "       1237.69044786,  628.63742068,  589.04666178,   -8.51229917,\n",
       "        146.76683487,  880.37654108,  615.08333567,  398.61718452,\n",
       "        781.64995162,  166.78918003,   69.23084248,  892.75436957,\n",
       "        671.1786227 ,  676.08054412,  229.40176823, 1238.8345811 ,\n",
       "       1403.04374488,  553.9600733 ,  684.17439992,  529.93205505,\n",
       "        540.8345018 ,  112.86465352])"
      ]
     },
     "execution_count": 349,
     "metadata": {},
     "output_type": "execute_result"
    }
   ],
   "source": [
    "lgbm_model.predict(X_test,num_iteration = lgbm_model.best_iteration_)"
   ]
  },
  {
   "cell_type": "code",
   "execution_count": 350,
   "id": "ed449415",
   "metadata": {},
   "outputs": [
    {
     "data": {
      "text/plain": [
       "346.0275204366939"
      ]
     },
     "execution_count": 350,
     "metadata": {},
     "output_type": "execute_result"
    }
   ],
   "source": [
    "np.sqrt(mean_squared_error(y_test,y_pred))"
   ]
  },
  {
   "cell_type": "code",
   "execution_count": 351,
   "id": "903d4f27",
   "metadata": {},
   "outputs": [
    {
     "data": {
      "text/plain": [
       "{'boosting_type': 'gbdt',\n",
       " 'class_weight': None,\n",
       " 'colsample_bytree': 1.0,\n",
       " 'importance_type': 'split',\n",
       " 'learning_rate': 0.1,\n",
       " 'max_depth': -1,\n",
       " 'min_child_samples': 20,\n",
       " 'min_child_weight': 0.001,\n",
       " 'min_split_gain': 0.0,\n",
       " 'n_estimators': 100,\n",
       " 'n_jobs': -1,\n",
       " 'num_leaves': 31,\n",
       " 'objective': None,\n",
       " 'random_state': None,\n",
       " 'reg_alpha': 0.0,\n",
       " 'reg_lambda': 0.0,\n",
       " 'silent': 'warn',\n",
       " 'subsample': 1.0,\n",
       " 'subsample_for_bin': 200000,\n",
       " 'subsample_freq': 0}"
      ]
     },
     "execution_count": 351,
     "metadata": {},
     "output_type": "execute_result"
    }
   ],
   "source": [
    "lgbm_model.get_params()"
   ]
  },
  {
   "cell_type": "code",
   "execution_count": 368,
   "id": "11aeb401",
   "metadata": {},
   "outputs": [],
   "source": [
    "lgbm_grid = {\n",
    "    'colsample_bytree': [0.4, 0.5,0.6,0.9,1],\n",
    "    'learning_rate': [ 0.1, 0.5,1],\n",
    "    'n_estimators': [10,20, 40, 100],\n",
    "    'max_depth': [1,2,3,4,5,6,7,8] }\n",
    "\n",
    "lgbm = LGBMRegressor()\n",
    "lgbm_cv_model = GridSearchCV(lgbm, lgbm_grid, cv=10, n_jobs = -1, verbose = 2)"
   ]
  },
  {
   "cell_type": "code",
   "execution_count": 369,
   "id": "aa5cb094",
   "metadata": {},
   "outputs": [
    {
     "name": "stdout",
     "output_type": "stream",
     "text": [
      "Fitting 10 folds for each of 480 candidates, totalling 4800 fits\n"
     ]
    },
    {
     "data": {
      "text/plain": [
       "GridSearchCV(cv=10, estimator=LGBMRegressor(), n_jobs=-1,\n",
       "             param_grid={'colsample_bytree': [0.4, 0.5, 0.6, 0.9, 1],\n",
       "                         'learning_rate': [0.1, 0.5, 1],\n",
       "                         'max_depth': [1, 2, 3, 4, 5, 6, 7, 8],\n",
       "                         'n_estimators': [10, 20, 40, 100]},\n",
       "             verbose=2)"
      ]
     },
     "execution_count": 369,
     "metadata": {},
     "output_type": "execute_result"
    }
   ],
   "source": [
    "lgbm_cv_model.fit(X_train,y_train)"
   ]
  },
  {
   "cell_type": "code",
   "execution_count": 370,
   "id": "88c74725",
   "metadata": {},
   "outputs": [
    {
     "data": {
      "text/plain": [
       "{'colsample_bytree': 0.5,\n",
       " 'learning_rate': 0.1,\n",
       " 'max_depth': 6,\n",
       " 'n_estimators': 20}"
      ]
     },
     "execution_count": 370,
     "metadata": {},
     "output_type": "execute_result"
    }
   ],
   "source": [
    "lgbm_cv_model.best_params_"
   ]
  },
  {
   "cell_type": "code",
   "execution_count": 371,
   "id": "51a10cf6",
   "metadata": {},
   "outputs": [],
   "source": [
    "lgbm_tuned = LGBMRegressor(learning_rate = 0.1, \n",
    "                           max_depth = 6, \n",
    "                           n_estimators = 20,\n",
    "                          colsample_bytree = 0.5)\n",
    "\n",
    "lgbm_tuned = lgbm_tuned.fit(X_train,y_train)"
   ]
  },
  {
   "cell_type": "code",
   "execution_count": 372,
   "id": "1f925799",
   "metadata": {},
   "outputs": [],
   "source": [
    "y_pred = lgbm_tuned.predict(X_test)"
   ]
  },
  {
   "cell_type": "code",
   "execution_count": 373,
   "id": "36af3468",
   "metadata": {},
   "outputs": [
    {
     "data": {
      "text/plain": [
       "375.6085209015434"
      ]
     },
     "execution_count": 373,
     "metadata": {},
     "output_type": "execute_result"
    }
   ],
   "source": [
    "np.sqrt(mean_squared_error(y_test,y_pred))"
   ]
  },
  {
   "cell_type": "code",
   "execution_count": 374,
   "id": "a9eec587",
   "metadata": {},
   "outputs": [],
   "source": [
    "hit = pd.read_csv(\"Hitters.csv\")\n",
    "df = hit.copy()\n",
    "df = df.dropna()\n",
    "dms = pd.get_dummies(df[['League', 'Division', 'NewLeague']])\n",
    "y = df[\"Salary\"]\n",
    "X_ = df.drop(['Salary', 'League', 'Division', 'NewLeague'], axis=1).astype('float64')\n",
    "X = pd.concat([X_, dms[['League_N', 'Division_W', 'NewLeague_N']]], axis=1)\n",
    "X_train, X_test, y_train, y_test = train_test_split(X, y, \n",
    "                                                    test_size=0.25, \n",
    "                                                    random_state=42)\n"
   ]
  },
  {
   "cell_type": "code",
   "execution_count": 377,
   "id": "38013428",
   "metadata": {
    "scrolled": true
   },
   "outputs": [
    {
     "name": "stdout",
     "output_type": "stream",
     "text": [
      "Requirement already satisfied: catboost in c:\\users\\sl\\anaconda3\\lib\\site-packages (1.1.1)\n",
      "Requirement already satisfied: matplotlib in c:\\users\\sl\\anaconda3\\lib\\site-packages (from catboost) (3.5.1)\n",
      "Requirement already satisfied: scipy in c:\\users\\sl\\anaconda3\\lib\\site-packages (from catboost) (1.7.3)\n",
      "Requirement already satisfied: six in c:\\users\\sl\\anaconda3\\lib\\site-packages (from catboost) (1.16.0)\n",
      "Requirement already satisfied: pandas>=0.24.0 in c:\\users\\sl\\anaconda3\\lib\\site-packages (from catboost) (1.4.2)\n",
      "Requirement already satisfied: plotly in c:\\users\\sl\\anaconda3\\lib\\site-packages (from catboost) (5.6.0)\n",
      "Requirement already satisfied: graphviz in c:\\users\\sl\\anaconda3\\lib\\site-packages (from catboost) (0.20.1)\n",
      "Requirement already satisfied: numpy>=1.16.0 in c:\\users\\sl\\anaconda3\\lib\\site-packages (from catboost) (1.21.5)\n",
      "Requirement already satisfied: pytz>=2020.1 in c:\\users\\sl\\anaconda3\\lib\\site-packages (from pandas>=0.24.0->catboost) (2021.3)\n",
      "Requirement already satisfied: python-dateutil>=2.8.1 in c:\\users\\sl\\anaconda3\\lib\\site-packages (from pandas>=0.24.0->catboost) (2.8.2)\n",
      "Requirement already satisfied: fonttools>=4.22.0 in c:\\users\\sl\\anaconda3\\lib\\site-packages (from matplotlib->catboost) (4.25.0)\n",
      "Requirement already satisfied: pillow>=6.2.0 in c:\\users\\sl\\anaconda3\\lib\\site-packages (from matplotlib->catboost) (9.0.1)\n",
      "Requirement already satisfied: cycler>=0.10 in c:\\users\\sl\\anaconda3\\lib\\site-packages (from matplotlib->catboost) (0.11.0)\n",
      "Requirement already satisfied: pyparsing>=2.2.1 in c:\\users\\sl\\anaconda3\\lib\\site-packages (from matplotlib->catboost) (3.0.4)\n",
      "Requirement already satisfied: kiwisolver>=1.0.1 in c:\\users\\sl\\anaconda3\\lib\\site-packages (from matplotlib->catboost) (1.3.2)\n",
      "Requirement already satisfied: packaging>=20.0 in c:\\users\\sl\\anaconda3\\lib\\site-packages (from matplotlib->catboost) (21.3)\n",
      "Requirement already satisfied: tenacity>=6.2.0 in c:\\users\\sl\\anaconda3\\lib\\site-packages (from plotly->catboost) (8.0.1)\n",
      "Note: you may need to restart the kernel to use updated packages.\n",
      "Collecting catboost\n",
      "  Downloading catboost-1.1.1-cp39-none-win_amd64.whl (74.0 MB)\n",
      "Requirement already satisfied: pandas>=0.24.0 in c:\\users\\sl\\anaconda3\\lib\\site-packages (from catboost) (1.4.2)\n",
      "Requirement already satisfied: six in c:\\users\\sl\\anaconda3\\lib\\site-packages (from catboost) (1.16.0)\n",
      "Requirement already satisfied: scipy in c:\\users\\sl\\anaconda3\\lib\\site-packages (from catboost) (1.7.3)\n",
      "Requirement already satisfied: matplotlib in c:\\users\\sl\\anaconda3\\lib\\site-packages (from catboost) (3.5.1)\n",
      "Collecting graphviz\n",
      "  Using cached graphviz-0.20.1-py3-none-any.whl (47 kB)\n",
      "Requirement already satisfied: plotly in c:\\users\\sl\\anaconda3\\lib\\site-packages (from catboost) (5.6.0)\n",
      "Requirement already satisfied: numpy>=1.16.0 in c:\\users\\sl\\anaconda3\\lib\\site-packages (from catboost) (1.21.5)\n",
      "Requirement already satisfied: python-dateutil>=2.8.1 in c:\\users\\sl\\anaconda3\\lib\\site-packages (from pandas>=0.24.0->catboost) (2.8.2)\n",
      "Requirement already satisfied: pytz>=2020.1 in c:\\users\\sl\\anaconda3\\lib\\site-packages (from pandas>=0.24.0->catboost) (2021.3)\n",
      "Requirement already satisfied: pyparsing>=2.2.1 in c:\\users\\sl\\anaconda3\\lib\\site-packages (from matplotlib->catboost) (3.0.4)\n",
      "Requirement already satisfied: cycler>=0.10 in c:\\users\\sl\\anaconda3\\lib\\site-packages (from matplotlib->catboost) (0.11.0)\n",
      "Requirement already satisfied: fonttools>=4.22.0 in c:\\users\\sl\\anaconda3\\lib\\site-packages (from matplotlib->catboost) (4.25.0)\n",
      "Requirement already satisfied: pillow>=6.2.0 in c:\\users\\sl\\anaconda3\\lib\\site-packages (from matplotlib->catboost) (9.0.1)\n",
      "Requirement already satisfied: packaging>=20.0 in c:\\users\\sl\\anaconda3\\lib\\site-packages (from matplotlib->catboost) (21.3)\n",
      "Requirement already satisfied: kiwisolver>=1.0.1 in c:\\users\\sl\\anaconda3\\lib\\site-packages (from matplotlib->catboost) (1.3.2)\n",
      "Requirement already satisfied: tenacity>=6.2.0 in c:\\users\\sl\\anaconda3\\lib\\site-packages (from plotly->catboost) (8.0.1)\n",
      "Installing collected packages: graphviz, catboost\n",
      "Successfully installed catboost-1.1.1 graphviz-0.20.1\n"
     ]
    }
   ],
   "source": [
    "pip install catboost"
   ]
  },
  {
   "cell_type": "code",
   "execution_count": 378,
   "id": "63cf9839",
   "metadata": {},
   "outputs": [],
   "source": [
    "from catboost import CatBoostRegressor"
   ]
  },
  {
   "cell_type": "code",
   "execution_count": 379,
   "id": "e3d48b6d",
   "metadata": {},
   "outputs": [],
   "source": [
    "catb = CatBoostRegressor()"
   ]
  },
  {
   "cell_type": "code",
   "execution_count": 381,
   "id": "2f154c11",
   "metadata": {
    "collapsed": true
   },
   "outputs": [
    {
     "name": "stdout",
     "output_type": "stream",
     "text": [
      "Learning rate set to 0.031674\n",
      "0:\tlearn: 437.6430699\ttotal: 139ms\tremaining: 2m 19s\n",
      "1:\tlearn: 431.3923642\ttotal: 140ms\tremaining: 1m 9s\n",
      "2:\tlearn: 424.8820360\ttotal: 141ms\tremaining: 46.8s\n",
      "3:\tlearn: 418.2514904\ttotal: 142ms\tremaining: 35.3s\n",
      "4:\tlearn: 412.6394021\ttotal: 143ms\tremaining: 28.4s\n",
      "5:\tlearn: 406.6247020\ttotal: 144ms\tremaining: 23.8s\n",
      "6:\tlearn: 400.5321206\ttotal: 145ms\tremaining: 20.5s\n",
      "7:\tlearn: 394.6683437\ttotal: 145ms\tremaining: 18s\n",
      "8:\tlearn: 388.2496484\ttotal: 146ms\tremaining: 16.1s\n",
      "9:\tlearn: 382.9448842\ttotal: 147ms\tremaining: 14.6s\n",
      "10:\tlearn: 377.2600080\ttotal: 148ms\tremaining: 13.3s\n",
      "11:\tlearn: 372.4829606\ttotal: 149ms\tremaining: 12.2s\n",
      "12:\tlearn: 366.6823437\ttotal: 150ms\tremaining: 11.4s\n",
      "13:\tlearn: 362.6076230\ttotal: 151ms\tremaining: 10.6s\n",
      "14:\tlearn: 358.0107745\ttotal: 151ms\tremaining: 9.94s\n",
      "15:\tlearn: 353.2802665\ttotal: 152ms\tremaining: 9.36s\n",
      "16:\tlearn: 348.5646265\ttotal: 153ms\tremaining: 8.85s\n",
      "17:\tlearn: 343.6407912\ttotal: 154ms\tremaining: 8.39s\n",
      "18:\tlearn: 339.2363847\ttotal: 155ms\tremaining: 7.98s\n",
      "19:\tlearn: 334.3431252\ttotal: 155ms\tremaining: 7.62s\n",
      "20:\tlearn: 330.3247028\ttotal: 156ms\tremaining: 7.29s\n",
      "21:\tlearn: 326.6118334\ttotal: 157ms\tremaining: 6.98s\n",
      "22:\tlearn: 322.7759981\ttotal: 158ms\tremaining: 6.71s\n",
      "23:\tlearn: 318.9511822\ttotal: 159ms\tremaining: 6.46s\n",
      "24:\tlearn: 315.4216253\ttotal: 160ms\tremaining: 6.23s\n",
      "25:\tlearn: 311.3551377\ttotal: 160ms\tremaining: 6.01s\n",
      "26:\tlearn: 308.1492371\ttotal: 161ms\tremaining: 5.81s\n",
      "27:\tlearn: 304.7284729\ttotal: 162ms\tremaining: 5.63s\n",
      "28:\tlearn: 301.3893204\ttotal: 163ms\tremaining: 5.45s\n",
      "29:\tlearn: 298.2080758\ttotal: 164ms\tremaining: 5.29s\n",
      "30:\tlearn: 295.6878398\ttotal: 165ms\tremaining: 5.15s\n",
      "31:\tlearn: 292.3912243\ttotal: 166ms\tremaining: 5.02s\n",
      "32:\tlearn: 289.6345744\ttotal: 167ms\tremaining: 4.89s\n",
      "33:\tlearn: 287.2158711\ttotal: 168ms\tremaining: 4.77s\n",
      "34:\tlearn: 284.3879081\ttotal: 169ms\tremaining: 4.65s\n",
      "35:\tlearn: 281.7994818\ttotal: 170ms\tremaining: 4.54s\n",
      "36:\tlearn: 279.2028261\ttotal: 171ms\tremaining: 4.44s\n",
      "37:\tlearn: 276.5821160\ttotal: 172ms\tremaining: 4.34s\n",
      "38:\tlearn: 273.8890894\ttotal: 173ms\tremaining: 4.25s\n",
      "39:\tlearn: 271.1681677\ttotal: 174ms\tremaining: 4.17s\n",
      "40:\tlearn: 269.0159531\ttotal: 175ms\tremaining: 4.09s\n",
      "41:\tlearn: 266.3601804\ttotal: 176ms\tremaining: 4s\n",
      "42:\tlearn: 263.8608958\ttotal: 176ms\tremaining: 3.93s\n",
      "43:\tlearn: 261.1405566\ttotal: 177ms\tremaining: 3.85s\n",
      "44:\tlearn: 258.9314736\ttotal: 178ms\tremaining: 3.79s\n",
      "45:\tlearn: 256.3885577\ttotal: 179ms\tremaining: 3.72s\n",
      "46:\tlearn: 254.2857349\ttotal: 180ms\tremaining: 3.65s\n",
      "47:\tlearn: 252.2347121\ttotal: 181ms\tremaining: 3.58s\n",
      "48:\tlearn: 250.1779367\ttotal: 182ms\tremaining: 3.52s\n",
      "49:\tlearn: 248.2687430\ttotal: 182ms\tremaining: 3.46s\n",
      "50:\tlearn: 246.3685582\ttotal: 183ms\tremaining: 3.41s\n",
      "51:\tlearn: 244.8719988\ttotal: 184ms\tremaining: 3.35s\n",
      "52:\tlearn: 242.7348892\ttotal: 185ms\tremaining: 3.31s\n",
      "53:\tlearn: 241.1611112\ttotal: 186ms\tremaining: 3.25s\n",
      "54:\tlearn: 239.4819462\ttotal: 187ms\tremaining: 3.21s\n",
      "55:\tlearn: 237.3877895\ttotal: 187ms\tremaining: 3.16s\n",
      "56:\tlearn: 235.7619262\ttotal: 188ms\tremaining: 3.12s\n",
      "57:\tlearn: 233.9604804\ttotal: 189ms\tremaining: 3.07s\n",
      "58:\tlearn: 232.4948011\ttotal: 190ms\tremaining: 3.03s\n",
      "59:\tlearn: 230.6283304\ttotal: 191ms\tremaining: 2.99s\n",
      "60:\tlearn: 228.9920307\ttotal: 192ms\tremaining: 2.95s\n",
      "61:\tlearn: 227.5197637\ttotal: 192ms\tremaining: 2.91s\n",
      "62:\tlearn: 226.0561213\ttotal: 193ms\tremaining: 2.88s\n",
      "63:\tlearn: 224.3484762\ttotal: 194ms\tremaining: 2.84s\n",
      "64:\tlearn: 223.0652023\ttotal: 195ms\tremaining: 2.8s\n",
      "65:\tlearn: 221.6608069\ttotal: 196ms\tremaining: 2.77s\n",
      "66:\tlearn: 220.2445284\ttotal: 197ms\tremaining: 2.74s\n",
      "67:\tlearn: 219.0044262\ttotal: 197ms\tremaining: 2.71s\n",
      "68:\tlearn: 217.4624313\ttotal: 198ms\tremaining: 2.67s\n",
      "69:\tlearn: 216.0502248\ttotal: 199ms\tremaining: 2.64s\n",
      "70:\tlearn: 214.5361705\ttotal: 200ms\tremaining: 2.62s\n",
      "71:\tlearn: 213.1812509\ttotal: 201ms\tremaining: 2.59s\n",
      "72:\tlearn: 211.7399390\ttotal: 201ms\tremaining: 2.56s\n",
      "73:\tlearn: 210.5557639\ttotal: 202ms\tremaining: 2.53s\n",
      "74:\tlearn: 209.4242283\ttotal: 203ms\tremaining: 2.5s\n",
      "75:\tlearn: 208.4366109\ttotal: 204ms\tremaining: 2.48s\n",
      "76:\tlearn: 207.4514860\ttotal: 205ms\tremaining: 2.45s\n",
      "77:\tlearn: 206.1912213\ttotal: 205ms\tremaining: 2.43s\n",
      "78:\tlearn: 205.2585316\ttotal: 206ms\tremaining: 2.4s\n",
      "79:\tlearn: 203.8747879\ttotal: 207ms\tremaining: 2.38s\n",
      "80:\tlearn: 202.5993031\ttotal: 208ms\tremaining: 2.36s\n",
      "81:\tlearn: 201.4719061\ttotal: 209ms\tremaining: 2.34s\n",
      "82:\tlearn: 200.2871874\ttotal: 210ms\tremaining: 2.32s\n",
      "83:\tlearn: 199.1074683\ttotal: 211ms\tremaining: 2.29s\n",
      "84:\tlearn: 197.8511342\ttotal: 211ms\tremaining: 2.27s\n",
      "85:\tlearn: 196.8788042\ttotal: 212ms\tremaining: 2.25s\n",
      "86:\tlearn: 195.9815130\ttotal: 213ms\tremaining: 2.23s\n",
      "87:\tlearn: 195.0807956\ttotal: 214ms\tremaining: 2.22s\n",
      "88:\tlearn: 193.9775466\ttotal: 215ms\tremaining: 2.2s\n",
      "89:\tlearn: 192.8810426\ttotal: 216ms\tremaining: 2.18s\n",
      "90:\tlearn: 192.5363626\ttotal: 216ms\tremaining: 2.16s\n",
      "91:\tlearn: 191.3259849\ttotal: 217ms\tremaining: 2.14s\n",
      "92:\tlearn: 190.3650025\ttotal: 218ms\tremaining: 2.13s\n",
      "93:\tlearn: 189.3255643\ttotal: 219ms\tremaining: 2.11s\n",
      "94:\tlearn: 188.2433480\ttotal: 220ms\tremaining: 2.09s\n",
      "95:\tlearn: 187.2786096\ttotal: 220ms\tremaining: 2.08s\n",
      "96:\tlearn: 186.1284681\ttotal: 221ms\tremaining: 2.06s\n",
      "97:\tlearn: 185.0190872\ttotal: 222ms\tremaining: 2.04s\n",
      "98:\tlearn: 184.2888024\ttotal: 223ms\tremaining: 2.03s\n",
      "99:\tlearn: 183.3111217\ttotal: 224ms\tremaining: 2.01s\n",
      "100:\tlearn: 182.2519940\ttotal: 225ms\tremaining: 2s\n",
      "101:\tlearn: 181.0186200\ttotal: 225ms\tremaining: 1.98s\n",
      "102:\tlearn: 179.9672344\ttotal: 226ms\tremaining: 1.97s\n",
      "103:\tlearn: 178.9776753\ttotal: 227ms\tremaining: 1.95s\n",
      "104:\tlearn: 178.2445101\ttotal: 228ms\tremaining: 1.94s\n",
      "105:\tlearn: 177.4055906\ttotal: 229ms\tremaining: 1.93s\n",
      "106:\tlearn: 176.2405445\ttotal: 229ms\tremaining: 1.92s\n",
      "107:\tlearn: 175.1813091\ttotal: 230ms\tremaining: 1.9s\n",
      "108:\tlearn: 174.5537682\ttotal: 231ms\tremaining: 1.89s\n",
      "109:\tlearn: 173.8231890\ttotal: 232ms\tremaining: 1.88s\n",
      "110:\tlearn: 172.9324461\ttotal: 233ms\tremaining: 1.86s\n",
      "111:\tlearn: 172.0019421\ttotal: 234ms\tremaining: 1.85s\n",
      "112:\tlearn: 171.2945678\ttotal: 234ms\tremaining: 1.84s\n",
      "113:\tlearn: 170.4815313\ttotal: 235ms\tremaining: 1.83s\n",
      "114:\tlearn: 169.9491294\ttotal: 236ms\tremaining: 1.82s\n",
      "115:\tlearn: 169.2483859\ttotal: 237ms\tremaining: 1.8s\n",
      "116:\tlearn: 168.7342383\ttotal: 238ms\tremaining: 1.79s\n",
      "117:\tlearn: 168.1837140\ttotal: 238ms\tremaining: 1.78s\n",
      "118:\tlearn: 167.1222358\ttotal: 239ms\tremaining: 1.77s\n",
      "119:\tlearn: 166.3472734\ttotal: 240ms\tremaining: 1.76s\n",
      "120:\tlearn: 165.5330342\ttotal: 241ms\tremaining: 1.75s\n",
      "121:\tlearn: 164.8476246\ttotal: 242ms\tremaining: 1.74s\n",
      "122:\tlearn: 164.2399797\ttotal: 242ms\tremaining: 1.73s\n",
      "123:\tlearn: 164.0121571\ttotal: 243ms\tremaining: 1.72s\n",
      "124:\tlearn: 162.9794212\ttotal: 244ms\tremaining: 1.71s\n",
      "125:\tlearn: 162.2095741\ttotal: 245ms\tremaining: 1.7s\n",
      "126:\tlearn: 161.1695920\ttotal: 246ms\tremaining: 1.69s\n",
      "127:\tlearn: 160.3516612\ttotal: 247ms\tremaining: 1.68s\n",
      "128:\tlearn: 159.1596356\ttotal: 248ms\tremaining: 1.67s\n",
      "129:\tlearn: 158.5354394\ttotal: 248ms\tremaining: 1.66s\n",
      "130:\tlearn: 157.5922383\ttotal: 249ms\tremaining: 1.65s\n",
      "131:\tlearn: 156.9689796\ttotal: 250ms\tremaining: 1.64s\n",
      "132:\tlearn: 156.4170623\ttotal: 251ms\tremaining: 1.64s\n",
      "133:\tlearn: 156.1222595\ttotal: 252ms\tremaining: 1.63s\n",
      "134:\tlearn: 155.5996569\ttotal: 252ms\tremaining: 1.62s\n",
      "135:\tlearn: 154.8990155\ttotal: 253ms\tremaining: 1.61s\n",
      "136:\tlearn: 154.3704896\ttotal: 254ms\tremaining: 1.6s\n",
      "137:\tlearn: 153.8560012\ttotal: 255ms\tremaining: 1.59s\n",
      "138:\tlearn: 153.2399938\ttotal: 256ms\tremaining: 1.58s\n",
      "139:\tlearn: 152.2142414\ttotal: 256ms\tremaining: 1.57s\n",
      "140:\tlearn: 151.5976950\ttotal: 257ms\tremaining: 1.57s\n",
      "141:\tlearn: 151.4426506\ttotal: 258ms\tremaining: 1.56s\n",
      "142:\tlearn: 150.8467135\ttotal: 259ms\tremaining: 1.55s\n",
      "143:\tlearn: 150.0175883\ttotal: 260ms\tremaining: 1.55s\n",
      "144:\tlearn: 149.6327647\ttotal: 261ms\tremaining: 1.54s\n",
      "145:\tlearn: 148.9265718\ttotal: 262ms\tremaining: 1.53s\n",
      "146:\tlearn: 148.4460764\ttotal: 263ms\tremaining: 1.52s\n",
      "147:\tlearn: 147.8108318\ttotal: 264ms\tremaining: 1.52s\n",
      "148:\tlearn: 147.2766525\ttotal: 264ms\tremaining: 1.51s\n",
      "149:\tlearn: 146.8537279\ttotal: 265ms\tremaining: 1.5s\n",
      "150:\tlearn: 146.0227438\ttotal: 266ms\tremaining: 1.5s\n",
      "151:\tlearn: 145.5603059\ttotal: 267ms\tremaining: 1.49s\n",
      "152:\tlearn: 145.0318400\ttotal: 268ms\tremaining: 1.48s\n",
      "153:\tlearn: 144.6082188\ttotal: 269ms\tremaining: 1.48s\n",
      "154:\tlearn: 144.2070501\ttotal: 270ms\tremaining: 1.47s\n",
      "155:\tlearn: 143.8060676\ttotal: 271ms\tremaining: 1.46s\n",
      "156:\tlearn: 143.3819707\ttotal: 271ms\tremaining: 1.46s\n",
      "157:\tlearn: 143.0764402\ttotal: 272ms\tremaining: 1.45s\n",
      "158:\tlearn: 142.4609449\ttotal: 273ms\tremaining: 1.45s\n",
      "159:\tlearn: 142.3321970\ttotal: 274ms\tremaining: 1.44s\n",
      "160:\tlearn: 141.9044208\ttotal: 275ms\tremaining: 1.43s\n",
      "161:\tlearn: 141.4544471\ttotal: 276ms\tremaining: 1.43s\n",
      "162:\tlearn: 140.9391569\ttotal: 277ms\tremaining: 1.42s\n",
      "163:\tlearn: 140.3413557\ttotal: 278ms\tremaining: 1.42s\n",
      "164:\tlearn: 139.7992277\ttotal: 278ms\tremaining: 1.41s\n",
      "165:\tlearn: 139.3139418\ttotal: 279ms\tremaining: 1.4s\n",
      "166:\tlearn: 139.1617594\ttotal: 280ms\tremaining: 1.4s\n",
      "167:\tlearn: 138.8837397\ttotal: 281ms\tremaining: 1.39s\n",
      "168:\tlearn: 138.6951410\ttotal: 282ms\tremaining: 1.39s\n",
      "169:\tlearn: 138.0167618\ttotal: 283ms\tremaining: 1.38s\n",
      "170:\tlearn: 137.7020324\ttotal: 284ms\tremaining: 1.37s\n",
      "171:\tlearn: 137.1976478\ttotal: 285ms\tremaining: 1.37s\n",
      "172:\tlearn: 136.6670434\ttotal: 285ms\tremaining: 1.36s\n",
      "173:\tlearn: 136.4670074\ttotal: 286ms\tremaining: 1.36s\n",
      "174:\tlearn: 136.0663779\ttotal: 287ms\tremaining: 1.35s\n",
      "175:\tlearn: 135.9542221\ttotal: 288ms\tremaining: 1.35s\n",
      "176:\tlearn: 135.6178437\ttotal: 289ms\tremaining: 1.34s\n",
      "177:\tlearn: 134.6062854\ttotal: 290ms\tremaining: 1.34s\n",
      "178:\tlearn: 134.5063344\ttotal: 290ms\tremaining: 1.33s\n",
      "179:\tlearn: 133.9371247\ttotal: 291ms\tremaining: 1.32s\n",
      "180:\tlearn: 133.8431589\ttotal: 291ms\tremaining: 1.32s\n",
      "181:\tlearn: 133.4293648\ttotal: 292ms\tremaining: 1.31s\n",
      "182:\tlearn: 133.2065999\ttotal: 293ms\tremaining: 1.31s\n",
      "183:\tlearn: 132.9235113\ttotal: 294ms\tremaining: 1.3s\n",
      "184:\tlearn: 132.6695944\ttotal: 295ms\tremaining: 1.3s\n",
      "185:\tlearn: 132.3135234\ttotal: 295ms\tremaining: 1.29s\n",
      "186:\tlearn: 132.2233433\ttotal: 296ms\tremaining: 1.29s\n",
      "187:\tlearn: 132.0628764\ttotal: 297ms\tremaining: 1.28s\n",
      "188:\tlearn: 131.8624217\ttotal: 298ms\tremaining: 1.28s\n",
      "189:\tlearn: 131.3846390\ttotal: 298ms\tremaining: 1.27s\n",
      "190:\tlearn: 131.0638781\ttotal: 299ms\tremaining: 1.27s\n",
      "191:\tlearn: 130.4721276\ttotal: 300ms\tremaining: 1.26s\n",
      "192:\tlearn: 129.9910319\ttotal: 301ms\tremaining: 1.26s\n",
      "193:\tlearn: 129.7074214\ttotal: 302ms\tremaining: 1.25s\n",
      "194:\tlearn: 129.0491404\ttotal: 303ms\tremaining: 1.25s\n",
      "195:\tlearn: 128.6928621\ttotal: 303ms\tremaining: 1.24s\n",
      "196:\tlearn: 128.5117514\ttotal: 304ms\tremaining: 1.24s\n",
      "197:\tlearn: 128.4035709\ttotal: 305ms\tremaining: 1.24s\n",
      "198:\tlearn: 127.9924182\ttotal: 306ms\tremaining: 1.23s\n",
      "199:\tlearn: 127.7690317\ttotal: 307ms\tremaining: 1.23s\n",
      "200:\tlearn: 127.6252249\ttotal: 307ms\tremaining: 1.22s\n",
      "201:\tlearn: 127.4951417\ttotal: 308ms\tremaining: 1.22s\n",
      "202:\tlearn: 127.0315349\ttotal: 309ms\tremaining: 1.21s\n",
      "203:\tlearn: 126.7791475\ttotal: 310ms\tremaining: 1.21s\n",
      "204:\tlearn: 126.4903107\ttotal: 311ms\tremaining: 1.21s\n",
      "205:\tlearn: 126.0664803\ttotal: 312ms\tremaining: 1.2s\n",
      "206:\tlearn: 125.3934071\ttotal: 312ms\tremaining: 1.2s\n",
      "207:\tlearn: 125.0899622\ttotal: 313ms\tremaining: 1.19s\n",
      "208:\tlearn: 124.7757310\ttotal: 314ms\tremaining: 1.19s\n",
      "209:\tlearn: 124.5475960\ttotal: 315ms\tremaining: 1.18s\n",
      "210:\tlearn: 124.1962887\ttotal: 316ms\tremaining: 1.18s\n",
      "211:\tlearn: 123.9686937\ttotal: 316ms\tremaining: 1.18s\n",
      "212:\tlearn: 123.0280048\ttotal: 317ms\tremaining: 1.17s\n",
      "213:\tlearn: 122.5447141\ttotal: 318ms\tremaining: 1.17s\n",
      "214:\tlearn: 122.1785305\ttotal: 319ms\tremaining: 1.16s\n",
      "215:\tlearn: 121.4403560\ttotal: 320ms\tremaining: 1.16s\n",
      "216:\tlearn: 120.8269584\ttotal: 320ms\tremaining: 1.16s\n",
      "217:\tlearn: 120.2399329\ttotal: 321ms\tremaining: 1.15s\n",
      "218:\tlearn: 119.4852557\ttotal: 322ms\tremaining: 1.15s\n",
      "219:\tlearn: 119.2094151\ttotal: 323ms\tremaining: 1.14s\n",
      "220:\tlearn: 119.0417229\ttotal: 324ms\tremaining: 1.14s\n",
      "221:\tlearn: 118.9557915\ttotal: 325ms\tremaining: 1.14s\n",
      "222:\tlearn: 118.3082421\ttotal: 325ms\tremaining: 1.13s\n"
     ]
    },
    {
     "name": "stdout",
     "output_type": "stream",
     "text": [
      "223:\tlearn: 117.7364211\ttotal: 327ms\tremaining: 1.13s\n",
      "224:\tlearn: 117.6324235\ttotal: 328ms\tremaining: 1.13s\n",
      "225:\tlearn: 117.2879743\ttotal: 329ms\tremaining: 1.13s\n",
      "226:\tlearn: 117.0422612\ttotal: 330ms\tremaining: 1.12s\n",
      "227:\tlearn: 116.8001379\ttotal: 331ms\tremaining: 1.12s\n",
      "228:\tlearn: 116.4854978\ttotal: 331ms\tremaining: 1.11s\n",
      "229:\tlearn: 115.7559740\ttotal: 332ms\tremaining: 1.11s\n",
      "230:\tlearn: 115.1896271\ttotal: 333ms\tremaining: 1.11s\n",
      "231:\tlearn: 114.9666291\ttotal: 334ms\tremaining: 1.1s\n",
      "232:\tlearn: 114.1239318\ttotal: 335ms\tremaining: 1.1s\n",
      "233:\tlearn: 113.9964466\ttotal: 336ms\tremaining: 1.1s\n",
      "234:\tlearn: 113.8912592\ttotal: 337ms\tremaining: 1.1s\n",
      "235:\tlearn: 113.4606970\ttotal: 338ms\tremaining: 1.09s\n",
      "236:\tlearn: 113.0958922\ttotal: 339ms\tremaining: 1.09s\n",
      "237:\tlearn: 113.0091361\ttotal: 339ms\tremaining: 1.09s\n",
      "238:\tlearn: 112.7657197\ttotal: 340ms\tremaining: 1.08s\n",
      "239:\tlearn: 112.2315070\ttotal: 341ms\tremaining: 1.08s\n",
      "240:\tlearn: 111.9507125\ttotal: 342ms\tremaining: 1.08s\n",
      "241:\tlearn: 111.7384492\ttotal: 343ms\tremaining: 1.07s\n",
      "242:\tlearn: 111.0693763\ttotal: 344ms\tremaining: 1.07s\n",
      "243:\tlearn: 110.3499926\ttotal: 345ms\tremaining: 1.07s\n",
      "244:\tlearn: 110.2316231\ttotal: 346ms\tremaining: 1.06s\n",
      "245:\tlearn: 109.6985998\ttotal: 347ms\tremaining: 1.06s\n",
      "246:\tlearn: 109.4279824\ttotal: 348ms\tremaining: 1.06s\n",
      "247:\tlearn: 109.1466762\ttotal: 349ms\tremaining: 1.06s\n",
      "248:\tlearn: 108.9628542\ttotal: 349ms\tremaining: 1.05s\n",
      "249:\tlearn: 108.7268676\ttotal: 351ms\tremaining: 1.05s\n",
      "250:\tlearn: 108.0921190\ttotal: 351ms\tremaining: 1.05s\n",
      "251:\tlearn: 107.6167844\ttotal: 352ms\tremaining: 1.04s\n",
      "252:\tlearn: 106.9716563\ttotal: 353ms\tremaining: 1.04s\n",
      "253:\tlearn: 106.4272485\ttotal: 354ms\tremaining: 1.04s\n",
      "254:\tlearn: 106.2032614\ttotal: 355ms\tremaining: 1.04s\n",
      "255:\tlearn: 105.5756794\ttotal: 356ms\tremaining: 1.03s\n",
      "256:\tlearn: 105.4918649\ttotal: 356ms\tremaining: 1.03s\n",
      "257:\tlearn: 105.2466976\ttotal: 357ms\tremaining: 1.03s\n",
      "258:\tlearn: 105.0461428\ttotal: 358ms\tremaining: 1.02s\n",
      "259:\tlearn: 104.5887628\ttotal: 359ms\tremaining: 1.02s\n",
      "260:\tlearn: 104.1305873\ttotal: 360ms\tremaining: 1.02s\n",
      "261:\tlearn: 103.5527158\ttotal: 361ms\tremaining: 1.01s\n",
      "262:\tlearn: 103.0334823\ttotal: 361ms\tremaining: 1.01s\n",
      "263:\tlearn: 102.6732388\ttotal: 362ms\tremaining: 1.01s\n",
      "264:\tlearn: 102.4678728\ttotal: 363ms\tremaining: 1.01s\n",
      "265:\tlearn: 101.9608852\ttotal: 364ms\tremaining: 1s\n",
      "266:\tlearn: 101.4449668\ttotal: 365ms\tremaining: 1s\n",
      "267:\tlearn: 100.9647899\ttotal: 366ms\tremaining: 999ms\n",
      "268:\tlearn: 100.4376357\ttotal: 367ms\tremaining: 996ms\n",
      "269:\tlearn: 100.1038322\ttotal: 367ms\tremaining: 993ms\n",
      "270:\tlearn: 99.8991183\ttotal: 368ms\tremaining: 990ms\n",
      "271:\tlearn: 99.4016031\ttotal: 369ms\tremaining: 987ms\n",
      "272:\tlearn: 98.9231252\ttotal: 370ms\tremaining: 985ms\n",
      "273:\tlearn: 98.5734863\ttotal: 371ms\tremaining: 982ms\n",
      "274:\tlearn: 98.3333355\ttotal: 371ms\tremaining: 979ms\n",
      "275:\tlearn: 97.9164082\ttotal: 372ms\tremaining: 976ms\n",
      "276:\tlearn: 97.3911203\ttotal: 373ms\tremaining: 974ms\n",
      "277:\tlearn: 96.9317789\ttotal: 374ms\tremaining: 971ms\n",
      "278:\tlearn: 96.6243997\ttotal: 375ms\tremaining: 968ms\n",
      "279:\tlearn: 96.3288821\ttotal: 375ms\tremaining: 966ms\n",
      "280:\tlearn: 95.8579534\ttotal: 376ms\tremaining: 963ms\n",
      "281:\tlearn: 95.4136026\ttotal: 377ms\tremaining: 960ms\n",
      "282:\tlearn: 95.3442077\ttotal: 378ms\tremaining: 957ms\n",
      "283:\tlearn: 95.1166584\ttotal: 379ms\tremaining: 955ms\n",
      "284:\tlearn: 94.8017360\ttotal: 380ms\tremaining: 952ms\n",
      "285:\tlearn: 94.5863908\ttotal: 380ms\tremaining: 950ms\n",
      "286:\tlearn: 94.4111694\ttotal: 381ms\tremaining: 947ms\n",
      "287:\tlearn: 94.2678024\ttotal: 382ms\tremaining: 944ms\n",
      "288:\tlearn: 93.7753419\ttotal: 383ms\tremaining: 942ms\n",
      "289:\tlearn: 93.3772710\ttotal: 384ms\tremaining: 939ms\n",
      "290:\tlearn: 92.8750904\ttotal: 384ms\tremaining: 936ms\n",
      "291:\tlearn: 92.6654794\ttotal: 385ms\tremaining: 934ms\n",
      "292:\tlearn: 92.2659876\ttotal: 386ms\tremaining: 931ms\n",
      "293:\tlearn: 92.0282495\ttotal: 387ms\tremaining: 929ms\n",
      "294:\tlearn: 91.8288855\ttotal: 388ms\tremaining: 927ms\n",
      "295:\tlearn: 91.6752612\ttotal: 389ms\tremaining: 924ms\n",
      "296:\tlearn: 91.2561883\ttotal: 389ms\tremaining: 922ms\n",
      "297:\tlearn: 91.0227123\ttotal: 390ms\tremaining: 919ms\n",
      "298:\tlearn: 90.8392142\ttotal: 391ms\tremaining: 917ms\n",
      "299:\tlearn: 90.6853014\ttotal: 392ms\tremaining: 914ms\n",
      "300:\tlearn: 90.5986761\ttotal: 393ms\tremaining: 912ms\n",
      "301:\tlearn: 90.2180036\ttotal: 393ms\tremaining: 909ms\n",
      "302:\tlearn: 89.8313622\ttotal: 394ms\tremaining: 907ms\n",
      "303:\tlearn: 89.6872837\ttotal: 395ms\tremaining: 905ms\n",
      "304:\tlearn: 89.3853276\ttotal: 396ms\tremaining: 902ms\n",
      "305:\tlearn: 88.9459206\ttotal: 397ms\tremaining: 900ms\n",
      "306:\tlearn: 88.7258770\ttotal: 398ms\tremaining: 898ms\n",
      "307:\tlearn: 88.5374358\ttotal: 398ms\tremaining: 895ms\n",
      "308:\tlearn: 88.0624447\ttotal: 399ms\tremaining: 893ms\n",
      "309:\tlearn: 87.7942692\ttotal: 400ms\tremaining: 891ms\n",
      "310:\tlearn: 87.6354184\ttotal: 401ms\tremaining: 888ms\n",
      "311:\tlearn: 87.4879486\ttotal: 402ms\tremaining: 886ms\n",
      "312:\tlearn: 87.0294739\ttotal: 403ms\tremaining: 884ms\n",
      "313:\tlearn: 86.6746221\ttotal: 403ms\tremaining: 881ms\n",
      "314:\tlearn: 86.2792146\ttotal: 404ms\tremaining: 879ms\n",
      "315:\tlearn: 86.2127070\ttotal: 405ms\tremaining: 877ms\n",
      "316:\tlearn: 86.1507368\ttotal: 406ms\tremaining: 875ms\n",
      "317:\tlearn: 85.7089141\ttotal: 407ms\tremaining: 872ms\n",
      "318:\tlearn: 85.6035137\ttotal: 408ms\tremaining: 870ms\n",
      "319:\tlearn: 85.3587988\ttotal: 408ms\tremaining: 868ms\n",
      "320:\tlearn: 84.9660906\ttotal: 410ms\tremaining: 866ms\n",
      "321:\tlearn: 84.5474713\ttotal: 411ms\tremaining: 864ms\n",
      "322:\tlearn: 84.1996852\ttotal: 411ms\tremaining: 862ms\n",
      "323:\tlearn: 84.0654282\ttotal: 412ms\tremaining: 860ms\n",
      "324:\tlearn: 83.7937327\ttotal: 413ms\tremaining: 858ms\n",
      "325:\tlearn: 83.5064288\ttotal: 414ms\tremaining: 855ms\n",
      "326:\tlearn: 83.3997655\ttotal: 414ms\tremaining: 853ms\n",
      "327:\tlearn: 83.2958622\ttotal: 415ms\tremaining: 851ms\n",
      "328:\tlearn: 82.9877578\ttotal: 416ms\tremaining: 849ms\n",
      "329:\tlearn: 82.6286638\ttotal: 417ms\tremaining: 847ms\n",
      "330:\tlearn: 82.2827132\ttotal: 418ms\tremaining: 844ms\n",
      "331:\tlearn: 82.0895251\ttotal: 419ms\tremaining: 842ms\n",
      "332:\tlearn: 82.0130649\ttotal: 419ms\tremaining: 840ms\n",
      "333:\tlearn: 81.6771734\ttotal: 420ms\tremaining: 838ms\n",
      "334:\tlearn: 81.3519124\ttotal: 421ms\tremaining: 836ms\n",
      "335:\tlearn: 81.0170326\ttotal: 422ms\tremaining: 834ms\n",
      "336:\tlearn: 80.6917886\ttotal: 423ms\tremaining: 832ms\n",
      "337:\tlearn: 80.3455177\ttotal: 424ms\tremaining: 830ms\n",
      "338:\tlearn: 80.0260727\ttotal: 424ms\tremaining: 828ms\n",
      "339:\tlearn: 79.9154748\ttotal: 425ms\tremaining: 825ms\n",
      "340:\tlearn: 79.7813079\ttotal: 426ms\tremaining: 823ms\n",
      "341:\tlearn: 79.3513293\ttotal: 427ms\tremaining: 821ms\n",
      "342:\tlearn: 78.8666019\ttotal: 428ms\tremaining: 819ms\n",
      "343:\tlearn: 78.7959013\ttotal: 428ms\tremaining: 817ms\n",
      "344:\tlearn: 78.7081334\ttotal: 429ms\tremaining: 815ms\n",
      "345:\tlearn: 78.3354931\ttotal: 430ms\tremaining: 813ms\n",
      "346:\tlearn: 77.9475067\ttotal: 431ms\tremaining: 811ms\n",
      "347:\tlearn: 77.8910420\ttotal: 432ms\tremaining: 809ms\n",
      "348:\tlearn: 77.5461672\ttotal: 432ms\tremaining: 807ms\n",
      "349:\tlearn: 77.3717101\ttotal: 433ms\tremaining: 805ms\n",
      "350:\tlearn: 77.0729657\ttotal: 434ms\tremaining: 803ms\n",
      "351:\tlearn: 76.7699287\ttotal: 435ms\tremaining: 800ms\n",
      "352:\tlearn: 76.6029759\ttotal: 436ms\tremaining: 798ms\n",
      "353:\tlearn: 76.1642615\ttotal: 437ms\tremaining: 797ms\n",
      "354:\tlearn: 76.1202523\ttotal: 438ms\tremaining: 795ms\n",
      "355:\tlearn: 75.9487132\ttotal: 438ms\tremaining: 793ms\n",
      "356:\tlearn: 75.6748479\ttotal: 439ms\tremaining: 791ms\n",
      "357:\tlearn: 75.4290864\ttotal: 440ms\tremaining: 789ms\n",
      "358:\tlearn: 75.0463849\ttotal: 441ms\tremaining: 787ms\n",
      "359:\tlearn: 74.9902381\ttotal: 442ms\tremaining: 785ms\n",
      "360:\tlearn: 74.5243875\ttotal: 442ms\tremaining: 783ms\n",
      "361:\tlearn: 74.1913065\ttotal: 443ms\tremaining: 781ms\n",
      "362:\tlearn: 73.8413359\ttotal: 444ms\tremaining: 779ms\n",
      "363:\tlearn: 73.7602119\ttotal: 445ms\tremaining: 778ms\n",
      "364:\tlearn: 73.3278135\ttotal: 446ms\tremaining: 776ms\n",
      "365:\tlearn: 72.9524336\ttotal: 447ms\tremaining: 774ms\n",
      "366:\tlearn: 72.6791856\ttotal: 447ms\tremaining: 772ms\n",
      "367:\tlearn: 72.4333577\ttotal: 448ms\tremaining: 770ms\n",
      "368:\tlearn: 72.1672937\ttotal: 449ms\tremaining: 768ms\n",
      "369:\tlearn: 71.9070276\ttotal: 450ms\tremaining: 766ms\n",
      "370:\tlearn: 71.5496196\ttotal: 451ms\tremaining: 764ms\n",
      "371:\tlearn: 71.3161902\ttotal: 452ms\tremaining: 762ms\n",
      "372:\tlearn: 71.1259191\ttotal: 452ms\tremaining: 761ms\n",
      "373:\tlearn: 70.9889962\ttotal: 453ms\tremaining: 759ms\n",
      "374:\tlearn: 70.7417966\ttotal: 454ms\tremaining: 757ms\n",
      "375:\tlearn: 70.4931174\ttotal: 455ms\tremaining: 755ms\n",
      "376:\tlearn: 70.3300576\ttotal: 456ms\tremaining: 753ms\n",
      "377:\tlearn: 69.9233248\ttotal: 456ms\tremaining: 751ms\n",
      "378:\tlearn: 69.6261005\ttotal: 457ms\tremaining: 749ms\n",
      "379:\tlearn: 69.3989708\ttotal: 458ms\tremaining: 747ms\n",
      "380:\tlearn: 69.0085387\ttotal: 459ms\tremaining: 745ms\n",
      "381:\tlearn: 68.7604153\ttotal: 460ms\tremaining: 744ms\n",
      "382:\tlearn: 68.4602767\ttotal: 461ms\tremaining: 742ms\n",
      "383:\tlearn: 68.1005452\ttotal: 461ms\tremaining: 740ms\n",
      "384:\tlearn: 68.0540467\ttotal: 462ms\tremaining: 738ms\n",
      "385:\tlearn: 67.8972753\ttotal: 463ms\tremaining: 736ms\n",
      "386:\tlearn: 67.5389629\ttotal: 464ms\tremaining: 735ms\n",
      "387:\tlearn: 67.2390178\ttotal: 465ms\tremaining: 733ms\n",
      "388:\tlearn: 67.0279888\ttotal: 466ms\tremaining: 731ms\n",
      "389:\tlearn: 66.8375919\ttotal: 466ms\tremaining: 730ms\n",
      "390:\tlearn: 66.4118315\ttotal: 467ms\tremaining: 728ms\n",
      "391:\tlearn: 66.3642690\ttotal: 468ms\tremaining: 726ms\n",
      "392:\tlearn: 66.1673138\ttotal: 469ms\tremaining: 724ms\n",
      "393:\tlearn: 66.0177482\ttotal: 470ms\tremaining: 723ms\n",
      "394:\tlearn: 65.8018038\ttotal: 471ms\tremaining: 721ms\n",
      "395:\tlearn: 65.6886505\ttotal: 471ms\tremaining: 719ms\n",
      "396:\tlearn: 65.6120185\ttotal: 472ms\tremaining: 717ms\n",
      "397:\tlearn: 65.5746662\ttotal: 473ms\tremaining: 715ms\n",
      "398:\tlearn: 65.2974851\ttotal: 474ms\tremaining: 714ms\n",
      "399:\tlearn: 65.2464764\ttotal: 475ms\tremaining: 712ms\n",
      "400:\tlearn: 65.1241314\ttotal: 475ms\tremaining: 710ms\n",
      "401:\tlearn: 65.0515740\ttotal: 476ms\tremaining: 708ms\n",
      "402:\tlearn: 64.8089636\ttotal: 477ms\tremaining: 707ms\n",
      "403:\tlearn: 64.5992230\ttotal: 478ms\tremaining: 705ms\n",
      "404:\tlearn: 64.2907010\ttotal: 479ms\tremaining: 703ms\n",
      "405:\tlearn: 64.1568642\ttotal: 480ms\tremaining: 702ms\n",
      "406:\tlearn: 63.8279106\ttotal: 480ms\tremaining: 700ms\n",
      "407:\tlearn: 63.5558565\ttotal: 481ms\tremaining: 699ms\n",
      "408:\tlearn: 63.3865445\ttotal: 482ms\tremaining: 697ms\n",
      "409:\tlearn: 63.2752408\ttotal: 483ms\tremaining: 695ms\n",
      "410:\tlearn: 63.1070190\ttotal: 484ms\tremaining: 694ms\n",
      "411:\tlearn: 62.7868376\ttotal: 485ms\tremaining: 692ms\n",
      "412:\tlearn: 62.5345803\ttotal: 486ms\tremaining: 690ms\n",
      "413:\tlearn: 62.2729058\ttotal: 486ms\tremaining: 688ms\n",
      "414:\tlearn: 61.9850985\ttotal: 487ms\tremaining: 687ms\n",
      "415:\tlearn: 61.7784164\ttotal: 488ms\tremaining: 685ms\n"
     ]
    },
    {
     "name": "stdout",
     "output_type": "stream",
     "text": [
      "416:\tlearn: 61.7431976\ttotal: 489ms\tremaining: 684ms\n",
      "417:\tlearn: 61.4309964\ttotal: 490ms\tremaining: 682ms\n",
      "418:\tlearn: 61.3513660\ttotal: 491ms\tremaining: 681ms\n",
      "419:\tlearn: 61.1253739\ttotal: 492ms\tremaining: 680ms\n",
      "420:\tlearn: 61.0742571\ttotal: 493ms\tremaining: 678ms\n",
      "421:\tlearn: 61.0390980\ttotal: 494ms\tremaining: 676ms\n",
      "422:\tlearn: 61.0095757\ttotal: 495ms\tremaining: 675ms\n",
      "423:\tlearn: 60.6843255\ttotal: 496ms\tremaining: 673ms\n",
      "424:\tlearn: 60.4045551\ttotal: 497ms\tremaining: 672ms\n",
      "425:\tlearn: 60.3649587\ttotal: 498ms\tremaining: 670ms\n",
      "426:\tlearn: 60.3315828\ttotal: 498ms\tremaining: 669ms\n",
      "427:\tlearn: 60.1047027\ttotal: 499ms\tremaining: 667ms\n",
      "428:\tlearn: 59.9170736\ttotal: 500ms\tremaining: 666ms\n",
      "429:\tlearn: 59.6875648\ttotal: 501ms\tremaining: 664ms\n",
      "430:\tlearn: 59.6662150\ttotal: 502ms\tremaining: 663ms\n",
      "431:\tlearn: 59.4208112\ttotal: 503ms\tremaining: 661ms\n",
      "432:\tlearn: 59.2358034\ttotal: 504ms\tremaining: 660ms\n",
      "433:\tlearn: 58.9818868\ttotal: 505ms\tremaining: 658ms\n",
      "434:\tlearn: 58.7089433\ttotal: 506ms\tremaining: 657ms\n",
      "435:\tlearn: 58.5898817\ttotal: 506ms\tremaining: 655ms\n",
      "436:\tlearn: 58.5425342\ttotal: 507ms\tremaining: 653ms\n",
      "437:\tlearn: 58.2884605\ttotal: 508ms\tremaining: 652ms\n",
      "438:\tlearn: 58.2643873\ttotal: 509ms\tremaining: 650ms\n",
      "439:\tlearn: 58.2330868\ttotal: 510ms\tremaining: 649ms\n",
      "440:\tlearn: 57.9676592\ttotal: 511ms\tremaining: 648ms\n",
      "441:\tlearn: 57.7670212\ttotal: 512ms\tremaining: 646ms\n",
      "442:\tlearn: 57.5322464\ttotal: 512ms\tremaining: 644ms\n",
      "443:\tlearn: 57.2771620\ttotal: 513ms\tremaining: 643ms\n",
      "444:\tlearn: 57.0227885\ttotal: 514ms\tremaining: 641ms\n",
      "445:\tlearn: 56.7616770\ttotal: 515ms\tremaining: 640ms\n",
      "446:\tlearn: 56.7367450\ttotal: 516ms\tremaining: 638ms\n",
      "447:\tlearn: 56.6715001\ttotal: 516ms\tremaining: 636ms\n",
      "448:\tlearn: 56.4881346\ttotal: 517ms\tremaining: 635ms\n",
      "449:\tlearn: 56.3749776\ttotal: 518ms\tremaining: 634ms\n",
      "450:\tlearn: 56.2172319\ttotal: 519ms\tremaining: 632ms\n",
      "451:\tlearn: 55.9461925\ttotal: 520ms\tremaining: 630ms\n",
      "452:\tlearn: 55.8884270\ttotal: 521ms\tremaining: 629ms\n",
      "453:\tlearn: 55.7987432\ttotal: 522ms\tremaining: 627ms\n",
      "454:\tlearn: 55.7376337\ttotal: 522ms\tremaining: 626ms\n",
      "455:\tlearn: 55.5150595\ttotal: 523ms\tremaining: 624ms\n",
      "456:\tlearn: 55.4819680\ttotal: 524ms\tremaining: 623ms\n",
      "457:\tlearn: 55.1719919\ttotal: 525ms\tremaining: 621ms\n",
      "458:\tlearn: 55.1295759\ttotal: 526ms\tremaining: 620ms\n",
      "459:\tlearn: 55.0856302\ttotal: 527ms\tremaining: 618ms\n",
      "460:\tlearn: 54.8056235\ttotal: 528ms\tremaining: 617ms\n",
      "461:\tlearn: 54.4030407\ttotal: 528ms\tremaining: 615ms\n",
      "462:\tlearn: 54.3308204\ttotal: 529ms\tremaining: 614ms\n",
      "463:\tlearn: 54.0283724\ttotal: 530ms\tremaining: 612ms\n",
      "464:\tlearn: 53.9962714\ttotal: 531ms\tremaining: 611ms\n",
      "465:\tlearn: 53.8149476\ttotal: 532ms\tremaining: 610ms\n",
      "466:\tlearn: 53.7806209\ttotal: 533ms\tremaining: 608ms\n",
      "467:\tlearn: 53.7585727\ttotal: 534ms\tremaining: 607ms\n",
      "468:\tlearn: 53.5042777\ttotal: 535ms\tremaining: 605ms\n",
      "469:\tlearn: 53.3257034\ttotal: 536ms\tremaining: 604ms\n",
      "470:\tlearn: 53.0801119\ttotal: 536ms\tremaining: 602ms\n",
      "471:\tlearn: 53.0136550\ttotal: 537ms\tremaining: 601ms\n",
      "472:\tlearn: 52.9408930\ttotal: 538ms\tremaining: 599ms\n",
      "473:\tlearn: 52.7089062\ttotal: 539ms\tremaining: 598ms\n",
      "474:\tlearn: 52.6819781\ttotal: 540ms\tremaining: 597ms\n",
      "475:\tlearn: 52.5065568\ttotal: 541ms\tremaining: 595ms\n",
      "476:\tlearn: 52.3688770\ttotal: 541ms\tremaining: 594ms\n",
      "477:\tlearn: 52.2402473\ttotal: 542ms\tremaining: 592ms\n",
      "478:\tlearn: 52.1406517\ttotal: 543ms\tremaining: 591ms\n",
      "479:\tlearn: 52.1107144\ttotal: 544ms\tremaining: 589ms\n",
      "480:\tlearn: 51.9239449\ttotal: 544ms\tremaining: 587ms\n",
      "481:\tlearn: 51.7096820\ttotal: 545ms\tremaining: 586ms\n",
      "482:\tlearn: 51.6266918\ttotal: 546ms\tremaining: 585ms\n",
      "483:\tlearn: 51.5969797\ttotal: 547ms\tremaining: 583ms\n",
      "484:\tlearn: 51.4480162\ttotal: 548ms\tremaining: 582ms\n",
      "485:\tlearn: 51.2269261\ttotal: 549ms\tremaining: 580ms\n",
      "486:\tlearn: 50.9904632\ttotal: 550ms\tremaining: 579ms\n",
      "487:\tlearn: 50.9342043\ttotal: 550ms\tremaining: 577ms\n",
      "488:\tlearn: 50.8423680\ttotal: 551ms\tremaining: 576ms\n",
      "489:\tlearn: 50.7269788\ttotal: 552ms\tremaining: 574ms\n",
      "490:\tlearn: 50.5384699\ttotal: 553ms\tremaining: 573ms\n",
      "491:\tlearn: 50.5047793\ttotal: 554ms\tremaining: 572ms\n",
      "492:\tlearn: 50.3234448\ttotal: 554ms\tremaining: 570ms\n",
      "493:\tlearn: 50.1653421\ttotal: 555ms\tremaining: 569ms\n",
      "494:\tlearn: 49.9835558\ttotal: 556ms\tremaining: 567ms\n",
      "495:\tlearn: 49.8884283\ttotal: 557ms\tremaining: 566ms\n",
      "496:\tlearn: 49.6217364\ttotal: 558ms\tremaining: 564ms\n",
      "497:\tlearn: 49.5268562\ttotal: 558ms\tremaining: 563ms\n",
      "498:\tlearn: 49.3078402\ttotal: 559ms\tremaining: 562ms\n",
      "499:\tlearn: 49.2571676\ttotal: 560ms\tremaining: 560ms\n",
      "500:\tlearn: 49.2173141\ttotal: 561ms\tremaining: 559ms\n",
      "501:\tlearn: 48.9813103\ttotal: 562ms\tremaining: 557ms\n",
      "502:\tlearn: 48.8304542\ttotal: 563ms\tremaining: 556ms\n",
      "503:\tlearn: 48.7430936\ttotal: 563ms\tremaining: 555ms\n",
      "504:\tlearn: 48.5493989\ttotal: 564ms\tremaining: 553ms\n",
      "505:\tlearn: 48.5134839\ttotal: 565ms\tremaining: 552ms\n",
      "506:\tlearn: 48.3516141\ttotal: 566ms\tremaining: 550ms\n",
      "507:\tlearn: 48.0631542\ttotal: 567ms\tremaining: 549ms\n",
      "508:\tlearn: 47.8591880\ttotal: 568ms\tremaining: 547ms\n",
      "509:\tlearn: 47.7182444\ttotal: 568ms\tremaining: 546ms\n",
      "510:\tlearn: 47.6301870\ttotal: 569ms\tremaining: 545ms\n",
      "511:\tlearn: 47.4767324\ttotal: 570ms\tremaining: 543ms\n",
      "512:\tlearn: 47.2822625\ttotal: 571ms\tremaining: 542ms\n",
      "513:\tlearn: 47.1022658\ttotal: 572ms\tremaining: 541ms\n",
      "514:\tlearn: 47.0536181\ttotal: 573ms\tremaining: 539ms\n",
      "515:\tlearn: 47.0249559\ttotal: 573ms\tremaining: 538ms\n",
      "516:\tlearn: 46.8789720\ttotal: 574ms\tremaining: 536ms\n",
      "517:\tlearn: 46.7133769\ttotal: 575ms\tremaining: 535ms\n",
      "518:\tlearn: 46.5157986\ttotal: 576ms\tremaining: 534ms\n",
      "519:\tlearn: 46.3630405\ttotal: 577ms\tremaining: 532ms\n",
      "520:\tlearn: 46.1730188\ttotal: 578ms\tremaining: 531ms\n",
      "521:\tlearn: 46.1360908\ttotal: 578ms\tremaining: 530ms\n",
      "522:\tlearn: 45.9652487\ttotal: 579ms\tremaining: 528ms\n",
      "523:\tlearn: 45.8122703\ttotal: 580ms\tremaining: 527ms\n",
      "524:\tlearn: 45.4984451\ttotal: 581ms\tremaining: 526ms\n",
      "525:\tlearn: 45.3161076\ttotal: 582ms\tremaining: 524ms\n",
      "526:\tlearn: 45.2802854\ttotal: 583ms\tremaining: 523ms\n",
      "527:\tlearn: 45.2448275\ttotal: 583ms\tremaining: 521ms\n",
      "528:\tlearn: 45.0816321\ttotal: 584ms\tremaining: 520ms\n",
      "529:\tlearn: 44.9794319\ttotal: 585ms\tremaining: 519ms\n",
      "530:\tlearn: 44.6832140\ttotal: 586ms\tremaining: 517ms\n",
      "531:\tlearn: 44.4460046\ttotal: 587ms\tremaining: 516ms\n",
      "532:\tlearn: 44.2118287\ttotal: 588ms\tremaining: 515ms\n",
      "533:\tlearn: 44.0693524\ttotal: 588ms\tremaining: 513ms\n",
      "534:\tlearn: 43.7781614\ttotal: 589ms\tremaining: 512ms\n",
      "535:\tlearn: 43.5541731\ttotal: 590ms\tremaining: 511ms\n",
      "536:\tlearn: 43.5134866\ttotal: 591ms\tremaining: 509ms\n",
      "537:\tlearn: 43.3609810\ttotal: 592ms\tremaining: 508ms\n",
      "538:\tlearn: 43.1828364\ttotal: 593ms\tremaining: 507ms\n",
      "539:\tlearn: 43.1681810\ttotal: 593ms\tremaining: 505ms\n",
      "540:\tlearn: 43.0597548\ttotal: 594ms\tremaining: 504ms\n",
      "541:\tlearn: 43.0399237\ttotal: 595ms\tremaining: 502ms\n",
      "542:\tlearn: 42.7955247\ttotal: 595ms\tremaining: 501ms\n",
      "543:\tlearn: 42.5339065\ttotal: 596ms\tremaining: 500ms\n",
      "544:\tlearn: 42.4295635\ttotal: 597ms\tremaining: 499ms\n",
      "545:\tlearn: 42.2338376\ttotal: 598ms\tremaining: 497ms\n",
      "546:\tlearn: 42.0124060\ttotal: 599ms\tremaining: 496ms\n",
      "547:\tlearn: 41.8255183\ttotal: 600ms\tremaining: 495ms\n",
      "548:\tlearn: 41.6388681\ttotal: 601ms\tremaining: 493ms\n",
      "549:\tlearn: 41.4001270\ttotal: 601ms\tremaining: 492ms\n",
      "550:\tlearn: 41.1013528\ttotal: 602ms\tremaining: 491ms\n",
      "551:\tlearn: 41.0100295\ttotal: 603ms\tremaining: 489ms\n",
      "552:\tlearn: 40.9906076\ttotal: 604ms\tremaining: 488ms\n",
      "553:\tlearn: 40.8809109\ttotal: 605ms\tremaining: 487ms\n",
      "554:\tlearn: 40.7831302\ttotal: 606ms\tremaining: 486ms\n",
      "555:\tlearn: 40.7317763\ttotal: 606ms\tremaining: 484ms\n",
      "556:\tlearn: 40.6321710\ttotal: 607ms\tremaining: 483ms\n",
      "557:\tlearn: 40.4475073\ttotal: 608ms\tremaining: 482ms\n",
      "558:\tlearn: 40.2859957\ttotal: 609ms\tremaining: 480ms\n",
      "559:\tlearn: 40.0262057\ttotal: 610ms\tremaining: 479ms\n",
      "560:\tlearn: 39.9326350\ttotal: 610ms\tremaining: 478ms\n",
      "561:\tlearn: 39.8735956\ttotal: 611ms\tremaining: 477ms\n",
      "562:\tlearn: 39.7083019\ttotal: 612ms\tremaining: 475ms\n",
      "563:\tlearn: 39.5379855\ttotal: 613ms\tremaining: 474ms\n",
      "564:\tlearn: 39.3451301\ttotal: 614ms\tremaining: 473ms\n",
      "565:\tlearn: 39.2041273\ttotal: 615ms\tremaining: 471ms\n",
      "566:\tlearn: 38.9870162\ttotal: 616ms\tremaining: 470ms\n",
      "567:\tlearn: 38.8638040\ttotal: 616ms\tremaining: 469ms\n",
      "568:\tlearn: 38.7752116\ttotal: 617ms\tremaining: 467ms\n",
      "569:\tlearn: 38.6530297\ttotal: 618ms\tremaining: 466ms\n",
      "570:\tlearn: 38.5505372\ttotal: 619ms\tremaining: 465ms\n",
      "571:\tlearn: 38.5134486\ttotal: 620ms\tremaining: 464ms\n",
      "572:\tlearn: 38.3680902\ttotal: 621ms\tremaining: 463ms\n",
      "573:\tlearn: 38.1897295\ttotal: 621ms\tremaining: 461ms\n",
      "574:\tlearn: 38.1083536\ttotal: 622ms\tremaining: 460ms\n",
      "575:\tlearn: 37.9229216\ttotal: 623ms\tremaining: 459ms\n",
      "576:\tlearn: 37.8377087\ttotal: 624ms\tremaining: 457ms\n",
      "577:\tlearn: 37.7966900\ttotal: 625ms\tremaining: 456ms\n",
      "578:\tlearn: 37.6700761\ttotal: 626ms\tremaining: 455ms\n",
      "579:\tlearn: 37.6355177\ttotal: 626ms\tremaining: 453ms\n",
      "580:\tlearn: 37.4648199\ttotal: 627ms\tremaining: 452ms\n",
      "581:\tlearn: 37.2959505\ttotal: 628ms\tremaining: 451ms\n",
      "582:\tlearn: 37.1423961\ttotal: 629ms\tremaining: 450ms\n",
      "583:\tlearn: 36.9297315\ttotal: 630ms\tremaining: 448ms\n",
      "584:\tlearn: 36.8850382\ttotal: 630ms\tremaining: 447ms\n",
      "585:\tlearn: 36.7546519\ttotal: 631ms\tremaining: 446ms\n",
      "586:\tlearn: 36.7377554\ttotal: 632ms\tremaining: 445ms\n",
      "587:\tlearn: 36.6899102\ttotal: 633ms\tremaining: 443ms\n",
      "588:\tlearn: 36.5617094\ttotal: 634ms\tremaining: 442ms\n",
      "589:\tlearn: 36.4272921\ttotal: 634ms\tremaining: 441ms\n",
      "590:\tlearn: 36.2657889\ttotal: 635ms\tremaining: 440ms\n",
      "591:\tlearn: 36.2539345\ttotal: 636ms\tremaining: 438ms\n",
      "592:\tlearn: 36.2314399\ttotal: 637ms\tremaining: 437ms\n",
      "593:\tlearn: 36.0683824\ttotal: 637ms\tremaining: 436ms\n",
      "594:\tlearn: 35.9283095\ttotal: 638ms\tremaining: 434ms\n",
      "595:\tlearn: 35.7968288\ttotal: 639ms\tremaining: 433ms\n",
      "596:\tlearn: 35.7223423\ttotal: 640ms\tremaining: 432ms\n",
      "597:\tlearn: 35.5848854\ttotal: 641ms\tremaining: 431ms\n",
      "598:\tlearn: 35.4754344\ttotal: 641ms\tremaining: 429ms\n",
      "599:\tlearn: 35.3533890\ttotal: 642ms\tremaining: 428ms\n",
      "600:\tlearn: 35.2201505\ttotal: 643ms\tremaining: 427ms\n",
      "601:\tlearn: 35.0873272\ttotal: 644ms\tremaining: 426ms\n",
      "602:\tlearn: 35.0461873\ttotal: 645ms\tremaining: 424ms\n",
      "603:\tlearn: 34.9273071\ttotal: 646ms\tremaining: 423ms\n",
      "604:\tlearn: 34.8162855\ttotal: 646ms\tremaining: 422ms\n",
      "605:\tlearn: 34.7130059\ttotal: 647ms\tremaining: 421ms\n",
      "606:\tlearn: 34.5585617\ttotal: 648ms\tremaining: 420ms\n",
      "607:\tlearn: 34.4611907\ttotal: 649ms\tremaining: 418ms\n",
      "608:\tlearn: 34.4326546\ttotal: 650ms\tremaining: 417ms\n",
      "609:\tlearn: 34.2846979\ttotal: 651ms\tremaining: 416ms\n"
     ]
    },
    {
     "name": "stdout",
     "output_type": "stream",
     "text": [
      "610:\tlearn: 34.1734501\ttotal: 652ms\tremaining: 415ms\n",
      "611:\tlearn: 34.0230965\ttotal: 653ms\tremaining: 414ms\n",
      "612:\tlearn: 33.8282501\ttotal: 654ms\tremaining: 413ms\n",
      "613:\tlearn: 33.7746747\ttotal: 655ms\tremaining: 411ms\n",
      "614:\tlearn: 33.7068386\ttotal: 656ms\tremaining: 410ms\n",
      "615:\tlearn: 33.5780800\ttotal: 656ms\tremaining: 409ms\n",
      "616:\tlearn: 33.4695325\ttotal: 657ms\tremaining: 408ms\n",
      "617:\tlearn: 33.3463443\ttotal: 658ms\tremaining: 407ms\n",
      "618:\tlearn: 33.2877395\ttotal: 660ms\tremaining: 406ms\n",
      "619:\tlearn: 33.2418826\ttotal: 660ms\tremaining: 405ms\n",
      "620:\tlearn: 33.1045465\ttotal: 661ms\tremaining: 404ms\n",
      "621:\tlearn: 32.9400639\ttotal: 662ms\tremaining: 402ms\n",
      "622:\tlearn: 32.8996970\ttotal: 663ms\tremaining: 401ms\n",
      "623:\tlearn: 32.7429487\ttotal: 664ms\tremaining: 400ms\n",
      "624:\tlearn: 32.6132355\ttotal: 665ms\tremaining: 399ms\n",
      "625:\tlearn: 32.4714976\ttotal: 666ms\tremaining: 398ms\n",
      "626:\tlearn: 32.4320448\ttotal: 667ms\tremaining: 397ms\n",
      "627:\tlearn: 32.2628258\ttotal: 668ms\tremaining: 396ms\n",
      "628:\tlearn: 32.2038569\ttotal: 669ms\tremaining: 394ms\n",
      "629:\tlearn: 32.0940738\ttotal: 670ms\tremaining: 394ms\n",
      "630:\tlearn: 32.0068495\ttotal: 671ms\tremaining: 392ms\n",
      "631:\tlearn: 31.9053748\ttotal: 672ms\tremaining: 391ms\n",
      "632:\tlearn: 31.7715772\ttotal: 673ms\tremaining: 390ms\n",
      "633:\tlearn: 31.6687835\ttotal: 673ms\tremaining: 389ms\n",
      "634:\tlearn: 31.6368050\ttotal: 674ms\tremaining: 388ms\n",
      "635:\tlearn: 31.5709628\ttotal: 675ms\tremaining: 386ms\n",
      "636:\tlearn: 31.4052213\ttotal: 676ms\tremaining: 385ms\n",
      "637:\tlearn: 31.2452229\ttotal: 677ms\tremaining: 384ms\n",
      "638:\tlearn: 31.1221828\ttotal: 678ms\tremaining: 383ms\n",
      "639:\tlearn: 31.0853500\ttotal: 679ms\tremaining: 382ms\n",
      "640:\tlearn: 30.9167355\ttotal: 679ms\tremaining: 381ms\n",
      "641:\tlearn: 30.8667253\ttotal: 680ms\tremaining: 379ms\n",
      "642:\tlearn: 30.7427129\ttotal: 681ms\tremaining: 378ms\n",
      "643:\tlearn: 30.5748228\ttotal: 682ms\tremaining: 377ms\n",
      "644:\tlearn: 30.5080592\ttotal: 683ms\tremaining: 376ms\n",
      "645:\tlearn: 30.3444228\ttotal: 683ms\tremaining: 375ms\n",
      "646:\tlearn: 30.1858385\ttotal: 684ms\tremaining: 373ms\n",
      "647:\tlearn: 30.1481951\ttotal: 685ms\tremaining: 372ms\n",
      "648:\tlearn: 30.1139150\ttotal: 686ms\tremaining: 371ms\n",
      "649:\tlearn: 30.0147177\ttotal: 687ms\tremaining: 370ms\n",
      "650:\tlearn: 29.8610501\ttotal: 688ms\tremaining: 369ms\n",
      "651:\tlearn: 29.7793561\ttotal: 689ms\tremaining: 367ms\n",
      "652:\tlearn: 29.6870188\ttotal: 689ms\tremaining: 366ms\n",
      "653:\tlearn: 29.6229921\ttotal: 690ms\tremaining: 365ms\n",
      "654:\tlearn: 29.5806823\ttotal: 691ms\tremaining: 364ms\n",
      "655:\tlearn: 29.4903496\ttotal: 692ms\tremaining: 363ms\n",
      "656:\tlearn: 29.4011642\ttotal: 693ms\tremaining: 362ms\n",
      "657:\tlearn: 29.3880977\ttotal: 694ms\tremaining: 360ms\n",
      "658:\tlearn: 29.2615919\ttotal: 694ms\tremaining: 359ms\n",
      "659:\tlearn: 29.1004727\ttotal: 695ms\tremaining: 358ms\n",
      "660:\tlearn: 29.0530692\ttotal: 696ms\tremaining: 357ms\n",
      "661:\tlearn: 28.9863628\ttotal: 697ms\tremaining: 356ms\n",
      "662:\tlearn: 28.8714304\ttotal: 698ms\tremaining: 355ms\n",
      "663:\tlearn: 28.7331979\ttotal: 699ms\tremaining: 353ms\n",
      "664:\tlearn: 28.6366801\ttotal: 699ms\tremaining: 352ms\n",
      "665:\tlearn: 28.5716341\ttotal: 700ms\tremaining: 351ms\n",
      "666:\tlearn: 28.4974876\ttotal: 701ms\tremaining: 350ms\n",
      "667:\tlearn: 28.4112710\ttotal: 702ms\tremaining: 349ms\n",
      "668:\tlearn: 28.2984651\ttotal: 703ms\tremaining: 348ms\n",
      "669:\tlearn: 28.1339510\ttotal: 703ms\tremaining: 346ms\n",
      "670:\tlearn: 28.1075789\ttotal: 704ms\tremaining: 345ms\n",
      "671:\tlearn: 28.0922293\ttotal: 705ms\tremaining: 344ms\n",
      "672:\tlearn: 27.9723760\ttotal: 706ms\tremaining: 343ms\n",
      "673:\tlearn: 27.9055283\ttotal: 707ms\tremaining: 342ms\n",
      "674:\tlearn: 27.8205243\ttotal: 708ms\tremaining: 341ms\n",
      "675:\tlearn: 27.8084834\ttotal: 708ms\tremaining: 340ms\n",
      "676:\tlearn: 27.7891840\ttotal: 709ms\tremaining: 338ms\n",
      "677:\tlearn: 27.6730952\ttotal: 710ms\tremaining: 337ms\n",
      "678:\tlearn: 27.6094279\ttotal: 711ms\tremaining: 336ms\n",
      "679:\tlearn: 27.5709406\ttotal: 712ms\tremaining: 335ms\n",
      "680:\tlearn: 27.5062932\ttotal: 712ms\tremaining: 334ms\n",
      "681:\tlearn: 27.4149358\ttotal: 713ms\tremaining: 333ms\n",
      "682:\tlearn: 27.3480578\ttotal: 714ms\tremaining: 332ms\n",
      "683:\tlearn: 27.2546632\ttotal: 715ms\tremaining: 330ms\n",
      "684:\tlearn: 27.1581242\ttotal: 716ms\tremaining: 329ms\n",
      "685:\tlearn: 27.1291330\ttotal: 717ms\tremaining: 328ms\n",
      "686:\tlearn: 27.0589760\ttotal: 718ms\tremaining: 327ms\n",
      "687:\tlearn: 26.9207571\ttotal: 718ms\tremaining: 326ms\n",
      "688:\tlearn: 26.8046340\ttotal: 719ms\tremaining: 325ms\n",
      "689:\tlearn: 26.7346039\ttotal: 720ms\tremaining: 324ms\n",
      "690:\tlearn: 26.6359238\ttotal: 721ms\tremaining: 322ms\n",
      "691:\tlearn: 26.5458163\ttotal: 722ms\tremaining: 321ms\n",
      "692:\tlearn: 26.5287024\ttotal: 723ms\tremaining: 320ms\n",
      "693:\tlearn: 26.4436127\ttotal: 724ms\tremaining: 319ms\n",
      "694:\tlearn: 26.3860996\ttotal: 724ms\tremaining: 318ms\n",
      "695:\tlearn: 26.3271824\ttotal: 725ms\tremaining: 317ms\n",
      "696:\tlearn: 26.1929180\ttotal: 726ms\tremaining: 316ms\n",
      "697:\tlearn: 26.0989501\ttotal: 727ms\tremaining: 314ms\n",
      "698:\tlearn: 26.0348052\ttotal: 728ms\tremaining: 313ms\n",
      "699:\tlearn: 25.9715846\ttotal: 728ms\tremaining: 312ms\n",
      "700:\tlearn: 25.8624783\ttotal: 729ms\tremaining: 311ms\n",
      "701:\tlearn: 25.8020332\ttotal: 730ms\tremaining: 310ms\n",
      "702:\tlearn: 25.7940141\ttotal: 731ms\tremaining: 309ms\n",
      "703:\tlearn: 25.6937173\ttotal: 732ms\tremaining: 308ms\n",
      "704:\tlearn: 25.6133995\ttotal: 733ms\tremaining: 307ms\n",
      "705:\tlearn: 25.5272559\ttotal: 733ms\tremaining: 305ms\n",
      "706:\tlearn: 25.5087600\ttotal: 734ms\tremaining: 304ms\n",
      "707:\tlearn: 25.3506858\ttotal: 735ms\tremaining: 303ms\n",
      "708:\tlearn: 25.3314352\ttotal: 736ms\tremaining: 302ms\n",
      "709:\tlearn: 25.3263712\ttotal: 736ms\tremaining: 301ms\n",
      "710:\tlearn: 25.2377772\ttotal: 737ms\tremaining: 300ms\n",
      "711:\tlearn: 25.1296003\ttotal: 738ms\tremaining: 298ms\n",
      "712:\tlearn: 25.1138661\ttotal: 739ms\tremaining: 297ms\n",
      "713:\tlearn: 25.0606164\ttotal: 740ms\tremaining: 296ms\n",
      "714:\tlearn: 24.9701122\ttotal: 740ms\tremaining: 295ms\n",
      "715:\tlearn: 24.9266980\ttotal: 741ms\tremaining: 294ms\n",
      "716:\tlearn: 24.8355245\ttotal: 742ms\tremaining: 293ms\n",
      "717:\tlearn: 24.7892595\ttotal: 743ms\tremaining: 292ms\n",
      "718:\tlearn: 24.7784156\ttotal: 744ms\tremaining: 291ms\n",
      "719:\tlearn: 24.7204068\ttotal: 745ms\tremaining: 290ms\n",
      "720:\tlearn: 24.6868946\ttotal: 745ms\tremaining: 288ms\n",
      "721:\tlearn: 24.5835248\ttotal: 746ms\tremaining: 287ms\n",
      "722:\tlearn: 24.4605667\ttotal: 747ms\tremaining: 286ms\n",
      "723:\tlearn: 24.3780491\ttotal: 748ms\tremaining: 285ms\n",
      "724:\tlearn: 24.3695387\ttotal: 749ms\tremaining: 284ms\n",
      "725:\tlearn: 24.2713928\ttotal: 750ms\tremaining: 283ms\n",
      "726:\tlearn: 24.2564573\ttotal: 750ms\tremaining: 282ms\n",
      "727:\tlearn: 24.1259045\ttotal: 751ms\tremaining: 281ms\n",
      "728:\tlearn: 24.0410925\ttotal: 752ms\tremaining: 280ms\n",
      "729:\tlearn: 23.9454740\ttotal: 753ms\tremaining: 278ms\n",
      "730:\tlearn: 23.9293944\ttotal: 754ms\tremaining: 277ms\n",
      "731:\tlearn: 23.8408373\ttotal: 754ms\tremaining: 276ms\n",
      "732:\tlearn: 23.7301307\ttotal: 755ms\tremaining: 275ms\n",
      "733:\tlearn: 23.6751178\ttotal: 756ms\tremaining: 274ms\n",
      "734:\tlearn: 23.5518474\ttotal: 757ms\tremaining: 273ms\n",
      "735:\tlearn: 23.5054838\ttotal: 758ms\tremaining: 272ms\n",
      "736:\tlearn: 23.4781040\ttotal: 759ms\tremaining: 271ms\n",
      "737:\tlearn: 23.3774725\ttotal: 759ms\tremaining: 270ms\n",
      "738:\tlearn: 23.3081022\ttotal: 760ms\tremaining: 268ms\n",
      "739:\tlearn: 23.2915892\ttotal: 761ms\tremaining: 267ms\n",
      "740:\tlearn: 23.2095735\ttotal: 762ms\tremaining: 266ms\n",
      "741:\tlearn: 23.1588315\ttotal: 763ms\tremaining: 265ms\n",
      "742:\tlearn: 23.1197993\ttotal: 763ms\tremaining: 264ms\n",
      "743:\tlearn: 23.0327780\ttotal: 764ms\tremaining: 263ms\n",
      "744:\tlearn: 22.9759480\ttotal: 765ms\tremaining: 262ms\n",
      "745:\tlearn: 22.8751423\ttotal: 766ms\tremaining: 261ms\n",
      "746:\tlearn: 22.7768127\ttotal: 767ms\tremaining: 260ms\n",
      "747:\tlearn: 22.6474970\ttotal: 768ms\tremaining: 259ms\n",
      "748:\tlearn: 22.5780525\ttotal: 768ms\tremaining: 257ms\n",
      "749:\tlearn: 22.5338308\ttotal: 769ms\tremaining: 256ms\n",
      "750:\tlearn: 22.4330276\ttotal: 770ms\tremaining: 255ms\n",
      "751:\tlearn: 22.4193891\ttotal: 771ms\tremaining: 254ms\n",
      "752:\tlearn: 22.4093040\ttotal: 772ms\tremaining: 253ms\n",
      "753:\tlearn: 22.3758979\ttotal: 772ms\tremaining: 252ms\n",
      "754:\tlearn: 22.3560173\ttotal: 773ms\tremaining: 251ms\n",
      "755:\tlearn: 22.3264261\ttotal: 774ms\tremaining: 250ms\n",
      "756:\tlearn: 22.2796605\ttotal: 775ms\tremaining: 249ms\n",
      "757:\tlearn: 22.2253439\ttotal: 776ms\tremaining: 248ms\n",
      "758:\tlearn: 22.1636409\ttotal: 776ms\tremaining: 247ms\n",
      "759:\tlearn: 22.1078491\ttotal: 777ms\tremaining: 245ms\n",
      "760:\tlearn: 22.0275756\ttotal: 778ms\tremaining: 244ms\n",
      "761:\tlearn: 22.0174143\ttotal: 779ms\tremaining: 243ms\n",
      "762:\tlearn: 21.9887391\ttotal: 780ms\tremaining: 242ms\n",
      "763:\tlearn: 21.9746733\ttotal: 781ms\tremaining: 241ms\n",
      "764:\tlearn: 21.9529216\ttotal: 781ms\tremaining: 240ms\n",
      "765:\tlearn: 21.8767644\ttotal: 782ms\tremaining: 239ms\n",
      "766:\tlearn: 21.8668039\ttotal: 783ms\tremaining: 238ms\n",
      "767:\tlearn: 21.8008688\ttotal: 784ms\tremaining: 237ms\n",
      "768:\tlearn: 21.7612208\ttotal: 785ms\tremaining: 236ms\n",
      "769:\tlearn: 21.6977978\ttotal: 787ms\tremaining: 235ms\n",
      "770:\tlearn: 21.6870461\ttotal: 788ms\tremaining: 234ms\n",
      "771:\tlearn: 21.6599780\ttotal: 788ms\tremaining: 233ms\n",
      "772:\tlearn: 21.5522064\ttotal: 789ms\tremaining: 232ms\n",
      "773:\tlearn: 21.5426327\ttotal: 790ms\tremaining: 231ms\n",
      "774:\tlearn: 21.4391089\ttotal: 791ms\tremaining: 230ms\n",
      "775:\tlearn: 21.4042993\ttotal: 792ms\tremaining: 229ms\n",
      "776:\tlearn: 21.3284836\ttotal: 792ms\tremaining: 227ms\n",
      "777:\tlearn: 21.3163774\ttotal: 793ms\tremaining: 226ms\n",
      "778:\tlearn: 21.2708416\ttotal: 794ms\tremaining: 225ms\n",
      "779:\tlearn: 21.2056943\ttotal: 795ms\tremaining: 224ms\n",
      "780:\tlearn: 21.1434774\ttotal: 796ms\tremaining: 223ms\n",
      "781:\tlearn: 21.0672473\ttotal: 797ms\tremaining: 222ms\n",
      "782:\tlearn: 20.9629645\ttotal: 797ms\tremaining: 221ms\n",
      "783:\tlearn: 20.9522537\ttotal: 798ms\tremaining: 220ms\n",
      "784:\tlearn: 20.9252425\ttotal: 799ms\tremaining: 219ms\n",
      "785:\tlearn: 20.8576799\ttotal: 800ms\tremaining: 218ms\n",
      "786:\tlearn: 20.7922970\ttotal: 801ms\tremaining: 217ms\n",
      "787:\tlearn: 20.7802134\ttotal: 802ms\tremaining: 216ms\n",
      "788:\tlearn: 20.7125213\ttotal: 802ms\tremaining: 215ms\n",
      "789:\tlearn: 20.7000005\ttotal: 803ms\tremaining: 214ms\n",
      "790:\tlearn: 20.6366378\ttotal: 804ms\tremaining: 212ms\n",
      "791:\tlearn: 20.6170923\ttotal: 805ms\tremaining: 211ms\n",
      "792:\tlearn: 20.5485950\ttotal: 806ms\tremaining: 210ms\n",
      "793:\tlearn: 20.5212323\ttotal: 807ms\tremaining: 209ms\n",
      "794:\tlearn: 20.5004347\ttotal: 807ms\tremaining: 208ms\n",
      "795:\tlearn: 20.4884649\ttotal: 808ms\tremaining: 207ms\n",
      "796:\tlearn: 20.3727007\ttotal: 809ms\tremaining: 206ms\n",
      "797:\tlearn: 20.2776166\ttotal: 810ms\tremaining: 205ms\n",
      "798:\tlearn: 20.2690965\ttotal: 811ms\tremaining: 204ms\n",
      "799:\tlearn: 20.2166634\ttotal: 812ms\tremaining: 203ms\n",
      "800:\tlearn: 20.1160179\ttotal: 813ms\tremaining: 202ms\n",
      "801:\tlearn: 20.0642268\ttotal: 814ms\tremaining: 201ms\n",
      "802:\tlearn: 20.0323601\ttotal: 815ms\tremaining: 200ms\n"
     ]
    },
    {
     "name": "stdout",
     "output_type": "stream",
     "text": [
      "803:\tlearn: 19.9485334\ttotal: 816ms\tremaining: 199ms\n",
      "804:\tlearn: 19.9071725\ttotal: 817ms\tremaining: 198ms\n",
      "805:\tlearn: 19.8943564\ttotal: 818ms\tremaining: 197ms\n",
      "806:\tlearn: 19.7804687\ttotal: 819ms\tremaining: 196ms\n",
      "807:\tlearn: 19.7343406\ttotal: 820ms\tremaining: 195ms\n",
      "808:\tlearn: 19.6963930\ttotal: 821ms\tremaining: 194ms\n",
      "809:\tlearn: 19.6705675\ttotal: 822ms\tremaining: 193ms\n",
      "810:\tlearn: 19.6382933\ttotal: 823ms\tremaining: 192ms\n",
      "811:\tlearn: 19.5889191\ttotal: 824ms\tremaining: 191ms\n",
      "812:\tlearn: 19.5638487\ttotal: 825ms\tremaining: 190ms\n",
      "813:\tlearn: 19.4926424\ttotal: 826ms\tremaining: 189ms\n",
      "814:\tlearn: 19.3961396\ttotal: 827ms\tremaining: 188ms\n",
      "815:\tlearn: 19.3880242\ttotal: 828ms\tremaining: 187ms\n",
      "816:\tlearn: 19.2808372\ttotal: 830ms\tremaining: 186ms\n",
      "817:\tlearn: 19.1712815\ttotal: 831ms\tremaining: 185ms\n",
      "818:\tlearn: 19.0909823\ttotal: 831ms\tremaining: 184ms\n",
      "819:\tlearn: 18.9993504\ttotal: 832ms\tremaining: 183ms\n",
      "820:\tlearn: 18.9773399\ttotal: 833ms\tremaining: 182ms\n",
      "821:\tlearn: 18.8989735\ttotal: 834ms\tremaining: 181ms\n",
      "822:\tlearn: 18.8275176\ttotal: 835ms\tremaining: 180ms\n",
      "823:\tlearn: 18.8092278\ttotal: 836ms\tremaining: 178ms\n",
      "824:\tlearn: 18.7938447\ttotal: 836ms\tremaining: 177ms\n",
      "825:\tlearn: 18.7871267\ttotal: 837ms\tremaining: 176ms\n",
      "826:\tlearn: 18.7299674\ttotal: 838ms\tremaining: 175ms\n",
      "827:\tlearn: 18.6808264\ttotal: 839ms\tremaining: 174ms\n",
      "828:\tlearn: 18.5984875\ttotal: 840ms\tremaining: 173ms\n",
      "829:\tlearn: 18.5170088\ttotal: 841ms\tremaining: 172ms\n",
      "830:\tlearn: 18.4707382\ttotal: 841ms\tremaining: 171ms\n",
      "831:\tlearn: 18.4368619\ttotal: 842ms\tremaining: 170ms\n",
      "832:\tlearn: 18.3683191\ttotal: 843ms\tremaining: 169ms\n",
      "833:\tlearn: 18.3295058\ttotal: 844ms\tremaining: 168ms\n",
      "834:\tlearn: 18.2587263\ttotal: 845ms\tremaining: 167ms\n",
      "835:\tlearn: 18.2103679\ttotal: 846ms\tremaining: 166ms\n",
      "836:\tlearn: 18.1781032\ttotal: 846ms\tremaining: 165ms\n",
      "837:\tlearn: 18.0746921\ttotal: 847ms\tremaining: 164ms\n",
      "838:\tlearn: 18.0131984\ttotal: 848ms\tremaining: 163ms\n",
      "839:\tlearn: 17.9510877\ttotal: 849ms\tremaining: 162ms\n",
      "840:\tlearn: 17.8893536\ttotal: 850ms\tremaining: 161ms\n",
      "841:\tlearn: 17.8813583\ttotal: 851ms\tremaining: 160ms\n",
      "842:\tlearn: 17.8129857\ttotal: 851ms\tremaining: 159ms\n",
      "843:\tlearn: 17.7981202\ttotal: 852ms\tremaining: 158ms\n",
      "844:\tlearn: 17.7414627\ttotal: 853ms\tremaining: 156ms\n",
      "845:\tlearn: 17.7255534\ttotal: 854ms\tremaining: 155ms\n",
      "846:\tlearn: 17.6965545\ttotal: 855ms\tremaining: 154ms\n",
      "847:\tlearn: 17.6499397\ttotal: 856ms\tremaining: 153ms\n",
      "848:\tlearn: 17.6133852\ttotal: 856ms\tremaining: 152ms\n",
      "849:\tlearn: 17.5621620\ttotal: 857ms\tremaining: 151ms\n",
      "850:\tlearn: 17.5064049\ttotal: 858ms\tremaining: 150ms\n",
      "851:\tlearn: 17.4643467\ttotal: 859ms\tremaining: 149ms\n",
      "852:\tlearn: 17.4569544\ttotal: 860ms\tremaining: 148ms\n",
      "853:\tlearn: 17.3731897\ttotal: 861ms\tremaining: 147ms\n",
      "854:\tlearn: 17.3313609\ttotal: 862ms\tremaining: 146ms\n",
      "855:\tlearn: 17.2781582\ttotal: 863ms\tremaining: 145ms\n",
      "856:\tlearn: 17.2283433\ttotal: 864ms\tremaining: 144ms\n",
      "857:\tlearn: 17.1944614\ttotal: 865ms\tremaining: 143ms\n",
      "858:\tlearn: 17.1573393\ttotal: 866ms\tremaining: 142ms\n",
      "859:\tlearn: 17.0975067\ttotal: 867ms\tremaining: 141ms\n",
      "860:\tlearn: 17.0462043\ttotal: 868ms\tremaining: 140ms\n",
      "861:\tlearn: 17.0118805\ttotal: 869ms\tremaining: 139ms\n",
      "862:\tlearn: 17.0045195\ttotal: 870ms\tremaining: 138ms\n",
      "863:\tlearn: 16.9528999\ttotal: 871ms\tremaining: 137ms\n",
      "864:\tlearn: 16.9270632\ttotal: 871ms\tremaining: 136ms\n",
      "865:\tlearn: 16.8915252\ttotal: 873ms\tremaining: 135ms\n",
      "866:\tlearn: 16.7946576\ttotal: 874ms\tremaining: 134ms\n",
      "867:\tlearn: 16.7737222\ttotal: 875ms\tremaining: 133ms\n",
      "868:\tlearn: 16.7192509\ttotal: 876ms\tremaining: 132ms\n",
      "869:\tlearn: 16.7138388\ttotal: 877ms\tremaining: 131ms\n",
      "870:\tlearn: 16.6877768\ttotal: 877ms\tremaining: 130ms\n",
      "871:\tlearn: 16.6265748\ttotal: 878ms\tremaining: 129ms\n",
      "872:\tlearn: 16.5641199\ttotal: 879ms\tremaining: 128ms\n",
      "873:\tlearn: 16.4935111\ttotal: 881ms\tremaining: 127ms\n",
      "874:\tlearn: 16.4250863\ttotal: 881ms\tremaining: 126ms\n",
      "875:\tlearn: 16.3566947\ttotal: 882ms\tremaining: 125ms\n",
      "876:\tlearn: 16.2731185\ttotal: 883ms\tremaining: 124ms\n",
      "877:\tlearn: 16.2207923\ttotal: 884ms\tremaining: 123ms\n",
      "878:\tlearn: 16.2073108\ttotal: 885ms\tremaining: 122ms\n",
      "879:\tlearn: 16.1336576\ttotal: 886ms\tremaining: 121ms\n",
      "880:\tlearn: 16.0994139\ttotal: 887ms\tremaining: 120ms\n",
      "881:\tlearn: 16.0720217\ttotal: 888ms\tremaining: 119ms\n",
      "882:\tlearn: 16.0192163\ttotal: 889ms\tremaining: 118ms\n",
      "883:\tlearn: 16.0021989\ttotal: 890ms\tremaining: 117ms\n",
      "884:\tlearn: 15.9003005\ttotal: 891ms\tremaining: 116ms\n",
      "885:\tlearn: 15.8685768\ttotal: 892ms\tremaining: 115ms\n",
      "886:\tlearn: 15.7757199\ttotal: 893ms\tremaining: 114ms\n",
      "887:\tlearn: 15.7280015\ttotal: 895ms\tremaining: 113ms\n",
      "888:\tlearn: 15.7037867\ttotal: 896ms\tremaining: 112ms\n",
      "889:\tlearn: 15.6876254\ttotal: 897ms\tremaining: 111ms\n",
      "890:\tlearn: 15.6002589\ttotal: 898ms\tremaining: 110ms\n",
      "891:\tlearn: 15.5663914\ttotal: 899ms\tremaining: 109ms\n",
      "892:\tlearn: 15.4827503\ttotal: 900ms\tremaining: 108ms\n",
      "893:\tlearn: 15.4422647\ttotal: 901ms\tremaining: 107ms\n",
      "894:\tlearn: 15.4230904\ttotal: 902ms\tremaining: 106ms\n",
      "895:\tlearn: 15.3907978\ttotal: 903ms\tremaining: 105ms\n",
      "896:\tlearn: 15.3022423\ttotal: 904ms\tremaining: 104ms\n",
      "897:\tlearn: 15.2770800\ttotal: 905ms\tremaining: 103ms\n",
      "898:\tlearn: 15.2708396\ttotal: 906ms\tremaining: 102ms\n",
      "899:\tlearn: 15.2217814\ttotal: 907ms\tremaining: 101ms\n",
      "900:\tlearn: 15.2150872\ttotal: 908ms\tremaining: 99.7ms\n",
      "901:\tlearn: 15.1938758\ttotal: 909ms\tremaining: 98.7ms\n",
      "902:\tlearn: 15.1087389\ttotal: 910ms\tremaining: 97.7ms\n",
      "903:\tlearn: 15.0270836\ttotal: 911ms\tremaining: 96.7ms\n",
      "904:\tlearn: 14.9579009\ttotal: 912ms\tremaining: 95.7ms\n",
      "905:\tlearn: 14.9321713\ttotal: 913ms\tremaining: 94.7ms\n",
      "906:\tlearn: 14.9254894\ttotal: 914ms\tremaining: 93.7ms\n",
      "907:\tlearn: 14.8662999\ttotal: 923ms\tremaining: 93.5ms\n",
      "908:\tlearn: 14.7969088\ttotal: 925ms\tremaining: 92.6ms\n",
      "909:\tlearn: 14.7187437\ttotal: 926ms\tremaining: 91.5ms\n",
      "910:\tlearn: 14.6594229\ttotal: 926ms\tremaining: 90.5ms\n",
      "911:\tlearn: 14.6109629\ttotal: 927ms\tremaining: 89.5ms\n",
      "912:\tlearn: 14.5833869\ttotal: 928ms\tremaining: 88.5ms\n",
      "913:\tlearn: 14.5677206\ttotal: 929ms\tremaining: 87.4ms\n",
      "914:\tlearn: 14.5260964\ttotal: 930ms\tremaining: 86.4ms\n",
      "915:\tlearn: 14.4838792\ttotal: 931ms\tremaining: 85.4ms\n",
      "916:\tlearn: 14.4614097\ttotal: 932ms\tremaining: 84.4ms\n",
      "917:\tlearn: 14.4432212\ttotal: 933ms\tremaining: 83.4ms\n",
      "918:\tlearn: 14.4363977\ttotal: 934ms\tremaining: 82.3ms\n",
      "919:\tlearn: 14.3740822\ttotal: 935ms\tremaining: 81.3ms\n",
      "920:\tlearn: 14.3363459\ttotal: 936ms\tremaining: 80.3ms\n",
      "921:\tlearn: 14.2862425\ttotal: 937ms\tremaining: 79.3ms\n",
      "922:\tlearn: 14.2195191\ttotal: 939ms\tremaining: 78.3ms\n",
      "923:\tlearn: 14.1752422\ttotal: 940ms\tremaining: 77.3ms\n",
      "924:\tlearn: 14.1582897\ttotal: 942ms\tremaining: 76.3ms\n",
      "925:\tlearn: 14.0892518\ttotal: 943ms\tremaining: 75.4ms\n",
      "926:\tlearn: 14.0163904\ttotal: 945ms\tremaining: 74.4ms\n",
      "927:\tlearn: 13.9674906\ttotal: 947ms\tremaining: 73.4ms\n",
      "928:\tlearn: 13.9421041\ttotal: 948ms\tremaining: 72.5ms\n",
      "929:\tlearn: 13.9264108\ttotal: 950ms\tremaining: 71.5ms\n",
      "930:\tlearn: 13.8953443\ttotal: 951ms\tremaining: 70.5ms\n",
      "931:\tlearn: 13.8514821\ttotal: 953ms\tremaining: 69.5ms\n",
      "932:\tlearn: 13.8317730\ttotal: 954ms\tremaining: 68.5ms\n",
      "933:\tlearn: 13.7980615\ttotal: 956ms\tremaining: 67.5ms\n",
      "934:\tlearn: 13.7252551\ttotal: 957ms\tremaining: 66.5ms\n",
      "935:\tlearn: 13.6867475\ttotal: 958ms\tremaining: 65.5ms\n",
      "936:\tlearn: 13.6663164\ttotal: 960ms\tremaining: 64.5ms\n",
      "937:\tlearn: 13.6108173\ttotal: 961ms\tremaining: 63.5ms\n",
      "938:\tlearn: 13.5827380\ttotal: 962ms\tremaining: 62.5ms\n",
      "939:\tlearn: 13.5211246\ttotal: 980ms\tremaining: 62.6ms\n",
      "940:\tlearn: 13.4752089\ttotal: 983ms\tremaining: 61.6ms\n",
      "941:\tlearn: 13.4283115\ttotal: 985ms\tremaining: 60.7ms\n",
      "942:\tlearn: 13.3912327\ttotal: 987ms\tremaining: 59.7ms\n",
      "943:\tlearn: 13.3593766\ttotal: 989ms\tremaining: 58.7ms\n",
      "944:\tlearn: 13.3015250\ttotal: 991ms\tremaining: 57.7ms\n",
      "945:\tlearn: 13.2587480\ttotal: 993ms\tremaining: 56.7ms\n",
      "946:\tlearn: 13.1949436\ttotal: 995ms\tremaining: 55.7ms\n",
      "947:\tlearn: 13.1552441\ttotal: 997ms\tremaining: 54.7ms\n",
      "948:\tlearn: 13.0700947\ttotal: 999ms\tremaining: 53.7ms\n",
      "949:\tlearn: 13.0460884\ttotal: 1s\tremaining: 52.7ms\n",
      "950:\tlearn: 13.0315972\ttotal: 1s\tremaining: 51.7ms\n",
      "951:\tlearn: 12.9964111\ttotal: 1s\tremaining: 50.7ms\n",
      "952:\tlearn: 12.9757139\ttotal: 1.01s\tremaining: 49.7ms\n",
      "953:\tlearn: 12.9120533\ttotal: 1.01s\tremaining: 48.7ms\n",
      "954:\tlearn: 12.8776679\ttotal: 1.01s\tremaining: 47.6ms\n",
      "955:\tlearn: 12.8703243\ttotal: 1.01s\tremaining: 46.6ms\n",
      "956:\tlearn: 12.8058615\ttotal: 1.01s\tremaining: 45.6ms\n",
      "957:\tlearn: 12.7637381\ttotal: 1.02s\tremaining: 44.6ms\n",
      "958:\tlearn: 12.7517063\ttotal: 1.02s\tremaining: 43.5ms\n",
      "959:\tlearn: 12.7382108\ttotal: 1.02s\tremaining: 42.5ms\n",
      "960:\tlearn: 12.6881713\ttotal: 1.02s\tremaining: 41.5ms\n",
      "961:\tlearn: 12.6728317\ttotal: 1.02s\tremaining: 40.4ms\n",
      "962:\tlearn: 12.6386609\ttotal: 1.02s\tremaining: 39.4ms\n",
      "963:\tlearn: 12.5837642\ttotal: 1.03s\tremaining: 38.3ms\n",
      "964:\tlearn: 12.5689789\ttotal: 1.03s\tremaining: 37.3ms\n",
      "965:\tlearn: 12.5362136\ttotal: 1.03s\tremaining: 36.2ms\n",
      "966:\tlearn: 12.5186020\ttotal: 1.03s\tremaining: 35.2ms\n",
      "967:\tlearn: 12.4787889\ttotal: 1.03s\tremaining: 34.1ms\n",
      "968:\tlearn: 12.4463866\ttotal: 1.03s\tremaining: 33.1ms\n",
      "969:\tlearn: 12.3919484\ttotal: 1.03s\tremaining: 32ms\n",
      "970:\tlearn: 12.3583173\ttotal: 1.04s\tremaining: 31ms\n",
      "971:\tlearn: 12.3430204\ttotal: 1.04s\tremaining: 29.9ms\n",
      "972:\tlearn: 12.3036135\ttotal: 1.04s\tremaining: 28.9ms\n",
      "973:\tlearn: 12.2785886\ttotal: 1.04s\tremaining: 27.8ms\n",
      "974:\tlearn: 12.2424148\ttotal: 1.04s\tremaining: 26.8ms\n",
      "975:\tlearn: 12.2287225\ttotal: 1.04s\tremaining: 25.7ms\n",
      "976:\tlearn: 12.1894056\ttotal: 1.05s\tremaining: 24.6ms\n",
      "977:\tlearn: 12.1399699\ttotal: 1.05s\tremaining: 23.6ms\n",
      "978:\tlearn: 12.1165698\ttotal: 1.05s\tremaining: 22.5ms\n",
      "979:\tlearn: 12.1084930\ttotal: 1.05s\tremaining: 21.5ms\n",
      "980:\tlearn: 12.1041455\ttotal: 1.05s\tremaining: 20.4ms\n",
      "981:\tlearn: 12.0749440\ttotal: 1.05s\tremaining: 19.3ms\n",
      "982:\tlearn: 12.0676323\ttotal: 1.06s\tremaining: 18.3ms\n",
      "983:\tlearn: 12.0253491\ttotal: 1.06s\tremaining: 17.2ms\n",
      "984:\tlearn: 11.9725269\ttotal: 1.06s\tremaining: 16.2ms\n",
      "985:\tlearn: 11.9344239\ttotal: 1.06s\tremaining: 15.1ms\n",
      "986:\tlearn: 11.8870660\ttotal: 1.06s\tremaining: 14ms\n",
      "987:\tlearn: 11.8411099\ttotal: 1.07s\tremaining: 13ms\n",
      "988:\tlearn: 11.7973602\ttotal: 1.07s\tremaining: 11.9ms\n",
      "989:\tlearn: 11.7514376\ttotal: 1.07s\tremaining: 10.8ms\n",
      "990:\tlearn: 11.7232746\ttotal: 1.07s\tremaining: 9.73ms\n",
      "991:\tlearn: 11.6852796\ttotal: 1.07s\tremaining: 8.65ms\n",
      "992:\tlearn: 11.6463794\ttotal: 1.07s\tremaining: 7.58ms\n",
      "993:\tlearn: 11.6106308\ttotal: 1.08s\tremaining: 6.5ms\n",
      "994:\tlearn: 11.5731961\ttotal: 1.08s\tremaining: 5.42ms\n",
      "995:\tlearn: 11.5417359\ttotal: 1.08s\tremaining: 4.34ms\n",
      "996:\tlearn: 11.5167117\ttotal: 1.08s\tremaining: 3.25ms\n",
      "997:\tlearn: 11.4745232\ttotal: 1.08s\tremaining: 2.17ms\n",
      "998:\tlearn: 11.4604481\ttotal: 1.08s\tremaining: 1.09ms\n",
      "999:\tlearn: 11.4510502\ttotal: 1.09s\tremaining: 0us\n"
     ]
    }
   ],
   "source": [
    "catb_model = catb.fit(X_train,y_train)"
   ]
  },
  {
   "cell_type": "code",
   "execution_count": 383,
   "id": "8b0c351f",
   "metadata": {},
   "outputs": [
    {
     "data": {
      "text/plain": [
       "351.194631344607"
      ]
     },
     "execution_count": 383,
     "metadata": {},
     "output_type": "execute_result"
    }
   ],
   "source": [
    "y_pred = catb_model.predict(X_test)\n",
    "np.sqrt(mean_squared_error(y_test,y_pred))"
   ]
  },
  {
   "cell_type": "code",
   "execution_count": 384,
   "id": "35f27aa6",
   "metadata": {},
   "outputs": [],
   "source": [
    "catb_grid = {\n",
    "    'iterations': [200,500,1000,2000],\n",
    "    'learning_rate': [0.01, 0.03, 0.05, 0.1],\n",
    "    'depth': [3,4,5,6,7,8] }"
   ]
  },
  {
   "cell_type": "code",
   "execution_count": 385,
   "id": "2dede898",
   "metadata": {},
   "outputs": [],
   "source": [
    "catb = CatBoostRegressor()\n",
    "catb_cv_model = GridSearchCV(catb, catb_grid, cv=5, n_jobs = -1, verbose = 2)"
   ]
  },
  {
   "cell_type": "code",
   "execution_count": null,
   "id": "cb4f6c0c",
   "metadata": {},
   "outputs": [],
   "source": []
  },
  {
   "cell_type": "code",
   "execution_count": null,
   "id": "0843f629",
   "metadata": {},
   "outputs": [],
   "source": []
  }
 ],
 "metadata": {
  "kernelspec": {
   "display_name": "Python 3 (ipykernel)",
   "language": "python",
   "name": "python3"
  },
  "language_info": {
   "codemirror_mode": {
    "name": "ipython",
    "version": 3
   },
   "file_extension": ".py",
   "mimetype": "text/x-python",
   "name": "python",
   "nbconvert_exporter": "python",
   "pygments_lexer": "ipython3",
   "version": "3.9.12"
  }
 },
 "nbformat": 4,
 "nbformat_minor": 5
}
